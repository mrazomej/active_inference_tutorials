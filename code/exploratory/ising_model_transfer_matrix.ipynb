{
 "cells": [
  {
   "cell_type": "markdown",
   "metadata": {},
   "source": [
    "(c) 2024 Manuel Razo. This work is licensed under a [Creative Commons\n",
    "Attribution License CC-BY 4.0](https://creativecommons.org/licenses/by/4.0/).\n",
    "All code contained herein is licensed under an [MIT\n",
    "license](https://opensource.org/licenses/MIT)."
   ]
  },
  {
   "cell_type": "code",
   "execution_count": 1,
   "metadata": {},
   "outputs": [],
   "source": [
    "# Import project package\n",
    "import ActiveInference as AI\n",
    "\n",
    "# Import basic math\n",
    "import LinearAlgebra\n",
    "\n",
    "# Load plotting-related packages\n",
    "using CairoMakie\n",
    "import ColorSchemes\n",
    "import Colors\n",
    "\n",
    "# Activate backend\n",
    "CairoMakie.activate!()\n",
    "\n",
    "# Set Plotting style\n",
    "AI.viz.theme_makie!()"
   ]
  },
  {
   "cell_type": "markdown",
   "metadata": {},
   "source": [
    "# The Ising model"
   ]
  },
  {
   "cell_type": "markdown",
   "metadata": {},
   "source": [
    "Ising models are a simple model of ferromagnetism. The model consists of an\n",
    "array of spins that can be in one of two states, up or down (or +1 or -1). The\n",
    "spins are magnetically coupled to their neighbors with two possible types of\n",
    "couplings: \n",
    "- ferromagnetic (like spins want to align) or \n",
    "- antiferromagnetic (like spins want to anti-align).\n",
    "\n",
    "Let the state $\\underline{x}$ of an ising model with $N$ spins be a vector in\n",
    "which each element $x_n$ is the state of the $n$-th spin. If two spins are\n",
    "neighbors, we write $(m, n) \\in \\mathcal{N}$. The coupling energy for a pair of\n",
    "spins is defined as\n",
    "$$\n",
    "J_{mn} = \\begin{cases}\n",
    "J & \\text{if } (m, n) \\in \\mathcal{N}\\\\\n",
    "0 & \\text{otherwise}\n",
    "\\end{cases}.\n",
    "\\tag{1}\n",
    "$$\n",
    "The energy of any state $\\underline{x}$, also called the Hamiltonian, is defined\n",
    "as\n",
    "$$\n",
    "E(\\underline{x}; J, H) = - \\frac{1}{2} \\left[\n",
    "    \\sum_{m, n} J_{mn} x_m x_n + h \\sum_n x_n,\n",
    "\\right],\n",
    "\\tag{2}\n",
    "$$\n",
    "where $h$ is an externally applied field. If $J > 0$ the model is ferromagnetic,\n",
    "and if $J < 0$ the model is antiferromagnetic. The $1/2$ factor comes from the\n",
    "double counting of the energy of each pair of spins, once as $(m, n)$ and once\n",
    "as $(n, m)$. At equilibrium temperature $T$, the probability of a state\n",
    "$\\underline{x}$ is given by the Boltzmann distribution\n",
    "$$\n",
    "P(\\underline{x} \\mid \\beta, J, h) = \\frac{1}{\\mathcal{Z}} \\exp\\left(\n",
    "    -\\beta E(\\underline{x}; J, h)\n",
    "\\right),\n",
    "\\tag{3}\n",
    "$$\n",
    "where $\\beta = 1 / k_B T$ is the inverse temperature, and $\\mathcal{Z}$ is the\n",
    "partition function, defined as\n",
    "$$\n",
    "\\mathcal{Z} = \\sum_{\\underline{x}} \\exp\\left(\n",
    "    -\\beta E(\\underline{x}; J, h)\n",
    "\\right).\n",
    "\\tag{4}\n",
    "$$"
   ]
  },
  {
   "cell_type": "markdown",
   "metadata": {},
   "source": [
    "## Exact computation of the partition function"
   ]
  },
  {
   "cell_type": "markdown",
   "metadata": {},
   "source": [
    "Evaluating properties of the Ising model can be challenging because the\n",
    "partition function $\\mathcal{Z}$ in Eq. (4) can be prohibitely expensive to\n",
    "evaluate even for a small number of spins. For example, for a $10 \\times 10$\n",
    "lattice, there are $2^{100} \\approx 10^{30}$ possible states. This is a number\n",
    "larger than the number of atoms in the universe!\n",
    "\n",
    "Luckily, there are methods to calculate the partition function for these simple\n",
    "Ising models. In particular, the so-called **transfer matrix method** allows us\n",
    "to convert the difficult sum to compute the partition function into an\n",
    "Eigenvalue problem. The idea is the following: We would like to define a matrix\n",
    "$\\underline{\\underline{M}}$ such that the partition function is related to its\n",
    "trace.\n",
    "\n",
    "Specifically, for our 2D square lattice, we define a \"super-spin\" $s_i$ as the\n",
    "spins on a column of the lattice as depicted in the figure below.\n",
    "\n",
    "![](./figs/ising_rows.png)\n",
    "\n",
    "The partition function of this can then be written as\n",
    "$$\n",
    "\\begin{aligned}\n",
    "\\mathcal{Z} &= \\sum_{\\underline{x}} \\exp\\left(\n",
    "    -\\beta E(\\underline{x})\n",
    "\\right),\\\\\n",
    "&= \\sum_{s_1} \\sum_{s_2} \\cdots \\sum_{s_C} \\exp\\left(\n",
    "    -\\beta \\sum_{c=1}^C \\mathcal{E}(s_c, s_{c+1})\n",
    "\\right).\n",
    "\\end{aligned}\n",
    "\\tag{5}\n",
    "$$\n",
    "Let's dissect each term in this sum. first we have\n",
    "$$\n",
    "\\sum_{s_1}.\n",
    "\\tag{6}\n",
    "$$\n",
    "That is the sum over all the possible states of the first column. In our \n",
    "schematic above with 3 spins per column, there are $2^3 = 8$ possible states.\n",
    "Next, we have \n",
    "$$\n",
    "\\sum_{s_1} \\sum_{s_2} \\cdots \\sum_{s_C}.\n",
    "\\tag{7}\n",
    "$$\n",
    "This is taking the sum over all possible states of each of the $C$ columns. This\n",
    "sum is equivalent to summing over all possible states of the lattice. In the\n",
    "exponential term, we have\n",
    "$$\n",
    "\\sum_{c=1}^C \\mathcal{E}(s_c, s_{c+1}).\n",
    "\\tag{8}\n",
    "$$\n",
    "which is a sum over the energy of the interactions between spins in adjacent\n",
    "columns (using periodic boundary conditions, i.e., for $s_C$, we have $s_{C+1} =\n",
    "s_1$). The energy term $\\varepsilon$ is an approprietly defined function. In\n",
    "our square lattice case *with no external field*, we have\n",
    "$$\n",
    "\\mathcal{E}\\left(s_c, s_{c+1}\\right)\n",
    "= \\sum_{\\substack{(m, n) \\in \\mathcal{N}: \\\\ m \\in c, n \\in c+1}} J x_m x_n +\n",
    "\\frac{1}{4} \\sum_{\\substack{(m, n) \\in \\mathcal{N}: \\\\ m \\in c, n \\in c}} \n",
    "J x_m x_n + \n",
    "\\frac{1}{4} \\sum_{\\substack{(m, n) \\in \\mathcal{N}: \\\\ m \\in c+1, n \\in c+1}} \n",
    "J x_m x_n .\n",
    "\\tag{9}\n",
    "$$\n",
    "The first term sums the interactions between spins in adjacent columns. The\n",
    "second and third terms sum the interactions between spins in the same column.\n",
    "The factor of $1/4$ comes from the fact that each spin is counted twice in the\n",
    "column sum and twice when summing the interactions between columns. Notice this\n",
    "quantity is not the exact energy of the system---for example, there is no \n",
    "negative sign in front of the energy term. However, this term is whant is\n",
    "required for the transfer matrix method to work."
   ]
  },
  {
   "cell_type": "markdown",
   "metadata": {},
   "source": [
    "Our transfer matrix $\\underline{\\underline{M}}$ then captures the intereactions\n",
    "between two adjacent columns. This matrix is then of size $2^w \\times 2^w$,\n",
    "where $w$ is the number of spins per column. The matrix\n",
    "$\\underline{\\underline{M}}$ is then defined to have entries of the form\n",
    "$$\n",
    "M_{ss'} = \\exp\\left(\n",
    "    -\\beta \\mathcal{E}(s, s')\n",
    "\\right).\n",
    "\\tag{10}\n",
    "$$\n",
    "\n",
    "Given this definition, the partition function for a lattice with $C$ columns is\n",
    "then given by\n",
    "$$\n",
    "\\begin{aligned}\n",
    "\\mathcal{Z} \n",
    "&= \\text{Tr}\\left(\n",
    "    \\underline{\\underline{M}}^C\n",
    "\\right),\\\\\n",
    "&= \\sum_{i=1}^{2^w} \\lambda_i^C,\n",
    "\\end{aligned}\n",
    "\\tag{11}\n",
    "$$\n",
    "where $\\text{Tr}$ is the trace of the matrix, and $\\lambda_i$ are the\n",
    "eigenvalues of the matrix $\\underline{\\underline{M}}$.\n",
    "\n",
    "Thus, to get an exact computation of the partition function, we first need to\n",
    "define a function that computes the $\\mathcal{E}$ term. Then, a function that\n",
    "builds the transfer matrix $\\underline{\\underline{M}}$. Finally, we can obtain\n",
    "the eigenvalues of this matrix and compute the partition function.\n",
    "\n",
    "Let's begin by defining the function that computes the energy term\n",
    "$\\mathcal{E}$. First, we define a function that for a given number of spins per\n",
    "row $w$, returns all possible states of a column."
   ]
  },
  {
   "cell_type": "code",
   "execution_count": 7,
   "metadata": {},
   "outputs": [
    {
     "data": {
      "text/plain": [
       "generate_spin_states"
      ]
     },
     "metadata": {},
     "output_type": "display_data"
    }
   ],
   "source": [
    "@doc raw\"\"\"\n",
    "    generate_spin_states(N::Int)\n",
    "\n",
    "Generate all possible spin states for a 1D system of N spins.\n",
    "\n",
    "# Arguments\n",
    "- `N`: the number of spins in the system.\n",
    "\n",
    "# Returns\n",
    "- A 2D array of size N x 2^N, where each column represents a possible spin\n",
    "  state. Each element is +1 or -1, representing spin up or spin down,\n",
    "  respectively.\n",
    "\n",
    "# Notes\n",
    "- The function generates all 2^N possible states of the system by looping over\n",
    "  the integers from 0 to 2^N - 1 and converting each integer to its binary\n",
    "  representation. The binary representation is then converted to spin states,\n",
    "  with 0 representing spin down (-1) and 1 representing spin up (+1).\n",
    "\"\"\"\n",
    "function generate_spin_states(N::Int)\n",
    "    # Define the number of states\n",
    "    num_states = 2^N\n",
    "    # Initialize array to store the spin states\n",
    "    states = Array{Int8,2}(undef, N, num_states)\n",
    "\n",
    "    # Loop through each state\n",
    "    for i in 0:(num_states-1)\n",
    "        # Store the binary representation of the state\n",
    "        binary = bitstring(i)\n",
    "        # Loop through each spin\n",
    "        for j in 1:N\n",
    "            # Convert the binary representation to spin states\n",
    "            states[j, i+1] = (\n",
    "                j <= length(binary) && binary[end-j+1] == '1'\n",
    "            ) ? 1 : -1\n",
    "        end # for j\n",
    "    end # for i\n",
    "\n",
    "    return states\n",
    "end"
   ]
  },
  {
   "cell_type": "markdown",
   "metadata": {},
   "source": [
    "Let's test this function by computing the possible states for a column of 3\n",
    "spins."
   ]
  },
  {
   "cell_type": "code",
   "execution_count": 3,
   "metadata": {},
   "outputs": [
    {
     "data": {
      "text/plain": [
       "3×8 Matrix{Int8}:\n",
       " -1   1  -1   1  -1   1  -1  1\n",
       " -1  -1   1   1  -1  -1   1  1\n",
       " -1  -1  -1  -1   1   1   1  1"
      ]
     },
     "metadata": {},
     "output_type": "display_data"
    }
   ],
   "source": [
    "# Define the number of spins\n",
    "N = 3\n",
    "# Compute the spin states\n",
    "states = generate_spin_states(N)"
   ]
  },
  {
   "cell_type": "markdown",
   "metadata": {},
   "source": [
    "Next, let's define a function that generates a $2^w \\times 2^w$ matrix where the\n",
    "entries are the states of two adjacent columns."
   ]
  },
  {
   "cell_type": "code",
   "execution_count": 8,
   "metadata": {},
   "outputs": [
    {
     "data": {
      "text/plain": [
       "generate_pair_matrix"
      ]
     },
     "metadata": {},
     "output_type": "display_data"
    }
   ],
   "source": [
    "@doc raw\"\"\"\n",
    "    generate_pair_matrix(n_row::Int)\n",
    "\n",
    "Generate a matrix of all possible pairs of column states for a rectangular\n",
    "lattice of spins.\n",
    "\n",
    "# Arguments\n",
    "- `n_row`: the number of rows in the lattice.\n",
    "\n",
    "# Returns\n",
    "- A 2D array of matrices, where each matrix represents a pair of column states.\n",
    "  Each element in the matrices is +1 or -1, representing spin up or spin down,\n",
    "  respectively.\n",
    "\n",
    "# Notes\n",
    "- The function first generates all possible column states using the\n",
    "  `generate_spin_states` function. Each column state is a vector of length\n",
    "  `n_row`, where each element is a spin.\n",
    "- It then creates a matrix where each element is a pair of column states. The\n",
    "  pairs are generated by taking all possible combinations of the column states.\n",
    "- The pair of column states is represented as a matrix where the first column is\n",
    "  the first state and the second column is the second state.\n",
    "\"\"\"\n",
    "function generate_pair_matrix(n_row::Int)\n",
    "    # Generate possible column states\n",
    "    states = generate_spin_states(n_row)\n",
    "\n",
    "    # Get number of column states\n",
    "    num_states = size(states, 2)\n",
    "\n",
    "    # Initialize pair matrix to store all possible pair of column states\n",
    "    pair_matrix = Array{Matrix{Int8}}(undef, num_states, num_states)\n",
    "\n",
    "    # Loop through rows\n",
    "    for i in 1:num_states\n",
    "        # Loop through columns\n",
    "        for j in 1:num_states\n",
    "            # Generate pair of column states\n",
    "            pair_matrix[i, j] = hcat(states[:, i], states[:, j])\n",
    "        end # for j\n",
    "    end # for i\n",
    "\n",
    "    return pair_matrix\n",
    "end"
   ]
  },
  {
   "cell_type": "markdown",
   "metadata": {},
   "source": [
    "Let's test this function again for a 3-spin column."
   ]
  },
  {
   "cell_type": "code",
   "execution_count": 9,
   "metadata": {},
   "outputs": [
    {
     "data": {
      "text/plain": [
       "8×8 Matrix{Matrix{Int8}}:\n",
       " [-1 -1; -1 -1; -1 -1]  [-1 1; -1 -1; -1 -1]  …  [-1 1; -1 1; -1 1]\n",
       " [1 -1; -1 -1; -1 -1]   [1 1; -1 -1; -1 -1]      [1 1; -1 1; -1 1]\n",
       " [-1 -1; 1 -1; -1 -1]   [-1 1; 1 -1; -1 -1]      [-1 1; 1 1; -1 1]\n",
       " [1 -1; 1 -1; -1 -1]    [1 1; 1 -1; -1 -1]       [1 1; 1 1; -1 1]\n",
       " [-1 -1; -1 -1; 1 -1]   [-1 1; -1 -1; 1 -1]      [-1 1; -1 1; 1 1]\n",
       " [1 -1; -1 -1; 1 -1]    [1 1; -1 -1; 1 -1]    …  [1 1; -1 1; 1 1]\n",
       " [-1 -1; 1 -1; 1 -1]    [-1 1; 1 -1; 1 -1]       [-1 1; 1 1; 1 1]\n",
       " [1 -1; 1 -1; 1 -1]     [1 1; 1 -1; 1 -1]        [1 1; 1 1; 1 1]"
      ]
     },
     "metadata": {},
     "output_type": "display_data"
    }
   ],
   "source": [
    "# Define the number of spins\n",
    "N = 3\n",
    "# Generate the pair matrix\n",
    "pair_matrix = generate_pair_matrix(N)"
   ]
  },
  {
   "cell_type": "markdown",
   "metadata": {},
   "source": [
    "Let's look at one of the entries of this matrix to make sure it is correct."
   ]
  },
  {
   "cell_type": "code",
   "execution_count": 10,
   "metadata": {},
   "outputs": [
    {
     "data": {
      "text/plain": [
       "3×2 Matrix{Int8}:\n",
       " -1  -1\n",
       " -1   1\n",
       " -1   1"
      ]
     },
     "metadata": {},
     "output_type": "display_data"
    }
   ],
   "source": [
    "pair_matrix[1, 7]"
   ]
  },
  {
   "cell_type": "markdown",
   "metadata": {},
   "source": [
    "With these functions in hand, we can now compute the energy of a pair of columns\n",
    "as indicated by Eq. (9)."
   ]
  },
  {
   "cell_type": "code",
   "execution_count": 11,
   "metadata": {},
   "outputs": [
    {
     "data": {
      "text/plain": [
       "ε_rectangular"
      ]
     },
     "metadata": {},
     "output_type": "display_data"
    }
   ],
   "source": [
    "@doc raw\"\"\"\n",
    "    ε_rectangular(pair_state::AbstractMatrix; J::T=1.0) where {T<:Number}\n",
    "\n",
    "Calculate the energy of two column states in the Ising model on a rectangular\n",
    "lattice. This is the energy term used to build the transition matrix.\n",
    "\n",
    "# Arguments\n",
    "- `pair_state`: a 2D array representing the spin configuration of the lattice.\n",
    "  Each element is +1 or -1, representing spin up or spin down, respectively.\n",
    "\n",
    "# Optional Keyword Arguments\n",
    "- `J`: the coupling constant in the Ising model. It determines the strength of\n",
    "  the interaction between neighboring spins. Default is 1.0.\n",
    "\n",
    "# Returns\n",
    "- The total energy of the spin configuration.\n",
    "\n",
    "# Notes\n",
    "- The function calculates the energy by summing over all pairs of neighboring\n",
    "  spins. For each pair, it adds the product of the spins and the coupling\n",
    "  constant to the total energy. The interaction with the right and bottom\n",
    "  neighbors is considered for each spin.\n",
    "- The energy is negative when neighboring spins are aligned, and positive when\n",
    "  they are anti-aligned. This is because the Ising model assumes that spins\n",
    "  prefer to align with their neighbors.\n",
    "\"\"\"\n",
    "function ε_rectangular(pair_state::AbstractMatrix; J=1.0)\n",
    "    # Initialize energy to zero\n",
    "    E = zero(typeof(J))\n",
    "    # Add the interaction with the right neighbor\n",
    "    E += sum(J .* pair_state[:, 1] .* pair_state[:, 2])\n",
    "    # Add the interaction with bottom neighbor\n",
    "    E += sum(J / 2 .* pair_state[1:end-1, :] .* pair_state[2:end, :])\n",
    "\n",
    "    return E\n",
    "end # function"
   ]
  },
  {
   "cell_type": "markdown",
   "metadata": {},
   "source": [
    "Let's again test this function with one of the entries of our `pair_matrix`."
   ]
  },
  {
   "cell_type": "code",
   "execution_count": 12,
   "metadata": {},
   "outputs": [
    {
     "data": {
      "text/plain": [
       "5.0"
      ]
     },
     "metadata": {},
     "output_type": "display_data"
    }
   ],
   "source": [
    "# Compute the energy of the pair state\n",
    "ε_rectangular(pair_matrix[1, 1])"
   ]
  },
  {
   "cell_type": "markdown",
   "metadata": {},
   "source": [
    "Now, we ar ready to define the function that builds the corresponding transfer\n",
    "matrix. To reduce the number of computations, we will use the fact that the\n",
    "resulting matrix is symmetric. Thus, we will only compute the lower triangle of\n",
    "the matrix."
   ]
  },
  {
   "cell_type": "code",
   "execution_count": 13,
   "metadata": {},
   "outputs": [
    {
     "data": {
      "text/plain": [
       "transfer_matrix"
      ]
     },
     "metadata": {},
     "output_type": "display_data"
    }
   ],
   "source": [
    "@doc raw\"\"\"\n",
    "        transfer_matrix(n_row::Int; β::T=1.0, J::T=1.0) where {T<:Number}\n",
    "\n",
    "Generate the transfer matrix for a rectangular lattice of spins in the Ising\n",
    "model.\n",
    "\n",
    "# Arguments\n",
    "- `n_row::Int`: the number of rows in the lattice.\n",
    "\n",
    "# Optional Keyword Arguments\n",
    "- `β=1.0`: the inverse temperature in the Ising model. Default is 1.0.\n",
    "- `J=1.0`: the coupling constant in the Ising model. It determines the strength\n",
    "  of the interaction between neighboring spins. Default is 1.0.\n",
    "\n",
    "# Returns\n",
    "- The transfer matrix, a symmetric matrix where each element is the Boltzmann\n",
    "    factor exp(-βE) of a pair of column states. E is the energy of the pair\n",
    "    state, calculated using the `ε_rectangular` function.\n",
    "\n",
    "# Notes\n",
    "- The function first generates a matrix of all possible pairs of column states\n",
    "  using the `generate_pair_matrix` function.\n",
    "- It then calculates the energy of each pair state using the `ε_rectangular`\n",
    "  function and assigns the Boltzmann factor exp(-βE) to the corresponding\n",
    "  element of the transfer matrix.\n",
    "- The transfer matrix is used in the transfer-matrix method, a powerful\n",
    "  technique for solving statistical mechanics problems on lattices.\n",
    "\"\"\"\n",
    "function transfer_matrix(n_row::Int; β=1.0, J=1.0)\n",
    "    # Generate pair matrix\n",
    "    pair_matrix = generate_pair_matrix(n_row)\n",
    "\n",
    "    # Get number of column states\n",
    "    num_states = size(pair_matrix, 1)\n",
    "\n",
    "    # Initialize transfer matrix\n",
    "    M = Matrix{typeof(β)}(undef, num_states, num_states)\n",
    "\n",
    "    # Loop through rows\n",
    "    for i in 1:num_states\n",
    "        # Loop through columns up to current row\n",
    "        for j in 1:i\n",
    "            # Calculate energy of pair state\n",
    "            E = ε_rectangular(pair_matrix[i, j], J=J)\n",
    "            # Assign energy to transfer matrix\n",
    "            M[i, j] = exp(-β * E)\n",
    "        end # for j\n",
    "    end # for i\n",
    "\n",
    "    # Return matrix as a symmetric matrix\n",
    "    return LinearAlgebra.Symmetric(M, :L)\n",
    "end # function"
   ]
  },
  {
   "cell_type": "markdown",
   "metadata": {},
   "source": [
    "Let's test this function by building the transfer matrix for a 3-spin column."
   ]
  },
  {
   "cell_type": "code",
   "execution_count": 14,
   "metadata": {},
   "outputs": [
    {
     "data": {
      "text/plain": [
       "8×8 LinearAlgebra.Symmetric{Float64, Matrix{Float64}}:\n",
       " 0.00673795   0.135335     0.367879  …    2.71828    1.0        2.71828\n",
       " 0.135335     0.0497871    7.38906        1.0       20.0855     1.0\n",
       " 0.367879     7.38906      0.367879     148.413      1.0        2.71828\n",
       " 1.0          0.367879     1.0            7.38906    2.71828    0.135335\n",
       " 0.135335     2.71828      7.38906        1.0        0.367879   1.0\n",
       " 2.71828      1.0        148.413     …    0.367879   7.38906    0.367879\n",
       " 1.0         20.0855       1.0            7.38906    0.0497871  0.135335\n",
       " 2.71828      1.0          2.71828        0.367879   0.135335   0.00673795"
      ]
     },
     "metadata": {},
     "output_type": "display_data"
    }
   ],
   "source": [
    "# Define the number of spins\n",
    "N = 3\n",
    "# Generate the transfer matrix\n",
    "M = transfer_matrix(N)"
   ]
  },
  {
   "cell_type": "markdown",
   "metadata": {},
   "source": [
    "With this matrix in hand, we can now compute the partition function by finding\n",
    "the eigenvalues of the transfer matrix! Let's define a function to do this."
   ]
  },
  {
   "cell_type": "code",
   "execution_count": 15,
   "metadata": {},
   "outputs": [
    {
     "data": {
      "text/plain": [
       "logZ_rectangular"
      ]
     },
     "metadata": {},
     "output_type": "display_data"
    }
   ],
   "source": [
    "\"\"\"\n",
    "    logZ_rectangular(n_row::Int, n_col::Int; β::T=1.0, J::T=1.0) where {T<:Number}\n",
    "\n",
    "Calculate the logarithm of the partition function for a rectangular lattice of\n",
    "spins in the Ising model.\n",
    "\n",
    "# Arguments\n",
    "- `n_row`: the number of rows in the lattice.\n",
    "- `n_col`: the number of columns in the lattice.\n",
    "\n",
    "# Optional Keyword Arguments\n",
    "- `β`: the inverse temperature in the Ising model. Default is 1.0.\n",
    "- `J`: the coupling constant in the Ising model. It determines the strength of\n",
    "  the interaction between neighboring spins. Default is 1.0.\n",
    "\n",
    "# Returns\n",
    "- The logarithm of the partition function.\n",
    "\n",
    "# Notes\n",
    "- The function first generates the transfer matrix using the `transfer_matrix`\n",
    "  function.\n",
    "- It then computes the partition function by summing the eigenvalues of the\n",
    "  transfer matrix raised to the power of the number of columns, and takes the\n",
    "  logarithm of the result.\n",
    "- The partition function is a key quantity in statistical mechanics. It encodes\n",
    "  the statistical properties of a system in equilibrium. Its logarithm is\n",
    "  related to the free energy of the system.\n",
    "\"\"\"\n",
    "function logZ_rectangular(\n",
    "    n_row::Int, n_col::Int; β=1.0, J=1.0\n",
    ")\n",
    "    # Generate transfer matrix\n",
    "    M = transfer_matrix(n_row, β=β, J=J)\n",
    "\n",
    "    # Compute the partition function\n",
    "    Z = sum(LinearAlgebra.eigen(M).values .^ n_col)\n",
    "\n",
    "    return log(Z)\n",
    "end"
   ]
  },
  {
   "cell_type": "markdown",
   "metadata": {},
   "source": [
    "Let's compute the partition function for a 3 by 3 lattice."
   ]
  },
  {
   "cell_type": "code",
   "execution_count": 16,
   "metadata": {},
   "outputs": [
    {
     "name": "stdout",
     "output_type": "stream",
     "text": [
      "log Partition function: 11.336585140980842\n"
     ]
    }
   ],
   "source": [
    "# Define the number of rows and columns\n",
    "n_row = 3\n",
    "n_col = 3\n",
    "\n",
    "# Compute log partition function\n",
    "logZ = logZ_rectangular(n_row, n_col)\n",
    "\n",
    "println(\"log Partition function: \", logZ)"
   ]
  },
  {
   "cell_type": "markdown",
   "metadata": {},
   "source": [
    "Having the partition function, we can compute the thermodynamic properties of\n",
    "the system. For example, we can compute the free energy as\n",
    "$$\n",
    "\\mathcal{F} = -k_B T \\log \\mathcal{Z}.\n",
    "\\tag{12}\n",
    "$$\n",
    "\n",
    "Let's compute this for a range of temperatures and plot it for a 8 by eight\n",
    "lattice."
   ]
  },
  {
   "cell_type": "code",
   "execution_count": 17,
   "metadata": {},
   "outputs": [
    {
     "data": {
      "image/png": "[encoded data removed]",
      "text/html": [
       "<img width=300 height=250 style='object-fit: contain; height: auto;' src=\"data:image/png;base64, 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\"/>"
      ]
     },
     "metadata": {},
     "output_type": "display_data"
    }
   ],
   "source": [
    "# Define the number of rows and columns\n",
    "n_row = 8\n",
    "n_col = 8\n",
    "\n",
    "# Define kB\n",
    "k = 1.0\n",
    "\n",
    "# Define range of temperatures\n",
    "T = 10 .^ range(0, 1, length=25)\n",
    "\n",
    "# Compute inverse temperature\n",
    "β = 1 ./ T\n",
    "\n",
    "# Initialize array to save log partition function\n",
    "logZ = Vector{eltype(T)}(undef, length(T))\n",
    "\n",
    "# Loop through each temperature\n",
    "Threads.@threads for i = 1:length(T)\n",
    "    # Compute log partition function\n",
    "    logZ[i] = logZ_rectangular(n_row, n_col; β=β[i])\n",
    "end # for i\n",
    "\n",
    "# Initialize figure\n",
    "fig = Figure(size=(300, 250))\n",
    "\n",
    "# Add axis\n",
    "ax = Axis(\n",
    "    fig[1, 1],\n",
    "    xlabel=\"temperature\",\n",
    "    ylabel=\"free energy per spin\",\n",
    ")\n",
    "\n",
    "# Plot free energy\n",
    "lines!(ax, T, -k .* T .* logZ ./ (n_row * n_col))\n",
    "\n",
    "fig"
   ]
  },
  {
   "cell_type": "markdown",
   "metadata": {},
   "source": [
    "We can compute other properties of the system from this partition function. For\n",
    "example, the entropy of the system is given by\n",
    "$$\n",
    "S = - \\frac{\\partial \\mathcal{F}}{\\partial T} =\n",
    "- \\frac{\\partial}{\\partial T} \\left(\n",
    "    -k_B T \\log \\mathcal{Z}\n",
    "\\right).\n",
    "\\tag{13}\n",
    "$$\n",
    "Using the product rule, we can write this as\n",
    "$$\n",
    "\\begin{aligned}\n",
    "S &= k_B \\log \\mathcal{Z} +\n",
    "k_B T \\frac{\\partial \\ln\\mathcal{Z}}{\\partial T}, \\\\\n",
    "&= k_B \\log \\mathcal{Z} + \n",
    "k_B T \\frac{\\partial \\log \\mathcal{F}}{\\partial \\beta}\n",
    "\\frac{\\partial \\beta}{\\partial T}.\n",
    "\\end{aligned}\n",
    "\\tag{14}\n",
    "$$\n",
    "Eq. 14 shows that we need the derivative of the log partition function with\n",
    "respect to the inverse temperature. We can compute this derivative using a \n",
    "simple finite difference."
   ]
  },
  {
   "cell_type": "code",
   "execution_count": 23,
   "metadata": {},
   "outputs": [
    {
     "data": {
      "text/plain": [
       "119.56473153282569"
      ]
     },
     "metadata": {},
     "output_type": "display_data"
    }
   ],
   "source": [
    "# Define number of rows and columns\n",
    "n_row = n_col = 8\n",
    "\n",
    "# Define ε value for finite difference\n",
    "ε = cbrt(eps(Float64))\n",
    "\n",
    "# Compute finite difference derivative\n",
    "∂logZ∂β = (\n",
    "    logZ_rectangular(n_row, n_col; β=1.0 + ε) -\n",
    "    logZ_rectangular(n_row, n_col; β=1.0 - ε)\n",
    ") / (2 * ε)\n"
   ]
  },
  {
   "cell_type": "markdown",
   "metadata": {},
   "source": [
    "Let's then define a function to compute the entropy as a function of the\n",
    "temperature."
   ]
  },
  {
   "cell_type": "code",
   "execution_count": 27,
   "metadata": {},
   "outputs": [
    {
     "data": {
      "text/plain": [
       "entropy_rectangular"
      ]
     },
     "metadata": {},
     "output_type": "display_data"
    }
   ],
   "source": [
    "\"\"\"\n",
    "    entropy_rectangular(n_row::Int, n_col::Int; β::T=1.0, J::T=1.0, k::T=1.0, ε::T=cbrt(eps(Float64))) where {T<:Number}\n",
    "\n",
    "Calculate the entropy for a rectangular lattice of spins in the Ising model.\n",
    "\n",
    "# Arguments\n",
    "- `n_row`: the number of rows in the lattice.\n",
    "- `n_col`: the number of columns in the lattice.\n",
    "\n",
    "# Optional Keyword Arguments\n",
    "- `β`: the inverse temperature in the Ising model. Default is 1.0.\n",
    "- `J`: the coupling constant in the Ising model. It determines the strength of\n",
    "  the interaction between neighboring spins. Default is 1.0.\n",
    "- `k`: the Boltzmann constant. Default is 1.0.\n",
    "- `ε`: a small number used for finite difference approximation. Default is the\n",
    "  cube root of the machine epsilon for Float64.\n",
    "\n",
    "# Returns\n",
    "- The entropy of the system.\n",
    "\n",
    "# Notes\n",
    "- The function first computes the logarithm of the partition function using the\n",
    "  `logZ_rectangular` function.\n",
    "- It then computes the derivative of the logarithm of the partition function\n",
    "  with respect to β using a finite difference approximation.\n",
    "- The entropy is then calculated using the formula S = k * logZ + k * β *\n",
    "  ∂logZ∂β, where S is the entropy, k is the Boltzmann constant, logZ is the\n",
    "  logarithm of the partition function, β is the inverse temperature, and ∂logZ∂β\n",
    "  is the derivative of logZ with respect to β.\n",
    "\"\"\"\n",
    "function entropy_rectangular(\n",
    "    n_row::Int, n_col::Int; β=1.0, J=1.0, k=1.0, ε=cbrt(eps(Float64))\n",
    ")\n",
    "    # Compute log partition function\n",
    "    logZ = logZ_rectangular(n_row, n_col; β=β, J=J)\n",
    "\n",
    "    # Compute finite difference derivative of log partition function with\n",
    "    # respect to β\n",
    "    ∂logZ∂β = (\n",
    "        logZ_rectangular(n_row, n_col; β=β + ε) -\n",
    "        logZ_rectangular(n_row, n_col; β=β - ε)\n",
    "    ) / (2 * ε)\n",
    "\n",
    "    # Compute entropy\n",
    "    S = k * logZ - k * β * ∂logZ∂β\n",
    "\n",
    "    return S\n",
    "end"
   ]
  },
  {
   "cell_type": "markdown",
   "metadata": {},
   "source": [
    "Let's compute the entropy for a range of temperatures and plot it for a 8 by 8."
   ]
  },
  {
   "cell_type": "code",
   "execution_count": 30,
   "metadata": {},
   "outputs": [
    {
     "data": {
      "image/png": "[encoded data removed]",
      "text/html": [
       "<img width=300 height=250 style='object-fit: contain; height: auto;' src=\"data:image/png;base64, iVBORw0KGgoAAAANSUhEUgAAAlgAAAH0CAIAAABuMsSDAAAABmJLR0QA/wD/AP+gvaeTAAAgAElEQVR4nOzdd3xT9f4/8M852UmbtukelDLL3jIF2bKUPUTggl8Bb7kqKChDvHhF0CsUuFyv4g8ZllEEB0hRLAWFsnfLaIFCC92TNE3S7N8fKWnoSEtJctKc1/MPHyfnfJK+U0NePZ/z+XwOZTKZCAAAAFvRTBcAAADAJAQhAACwGoIQAABYDUEIAACshiAEAABWQxACAACrIQgBAIDVEIQAAMBqCEIAAGA1BCEAALAaghAAAFgNQQgAAKyGIAQAAFZDEAIAAKshCAEAgNUQhAAAwGoIQgAAYDUEIQAAsBqCEAAAWA1BCAAArIYgBAAAVkMQAgAAqyEIAQCA1RCEAADAaghCAABgNQQhAACwGoIQAABYDUEIAACshiAEAABWQxACAACrIQgBAIDVuEwX4P5ych7bbsDh0AEBUkKIXK5SqbROKQpYLTDQi6YplUojl6uZrgXcn0wmEQh4Op2hsFDRsFcIDva2b0lV4IwQAABYDUEIAACshiAEAABWQxACAACrIQgBAIDVEIQAAMBqCEIAAGA1BCEAALAaghAAAFgNQQgAAKyGIAQAAFZDEAIAAKshCAEAgNVw9wkAACCEEJ3RqNIZCSEKjcFgNBlMpjKtgRCi1Br0RqPBRBQaPSFEpTPqjEajkVJodYSQcr2xXG8ihMjL9YQQjcFgeWgiRGsw6ExkXp+IN3qEMfjWbEMQAgA0JkqtQW8ymbOqVKM3ESIv1xlNpFSjN5hImVavM5hUOoNGb1LrjeV6g0ZvUun0OiMp0+r1RlKm1RuMplKNwURMGr1RbU4+rcFoMjmu5vRileNe/PkhCAEAnEGpNaj1BqXWqNDq1TqjWm+Ql+tVOqNaZ1Tq9AqNQa03qnVGuUZvMJoUWoPeaFRqDVqDUa03luuN5TqjWm/UGoxMv4+GcPGyEYQAAPViNJlKNYbH5bpSjUGlM6h1xjKtvkxrDjDD43KDWmdQ641lWkOZVq/WGVU6Q6nGoNYb1DpjqUbPdPlM0ugRhAAALkmhMcg1+lKNXl7+5L9avbxcLy83mDdKNfrHan2pVl+q0Ss0BqbrdSwuTUl4HEKIhM/hcSiaUJ4CDiFExKP5HA5FiJeQSwgRcikBh0OsHgq5NCFEKuBSFOHRtJhHE0I8BVwORbg0HeznEeojZvB91QlBCABuxWgyFal0RWp9kUpboNKVqPWlVlH32Bx4FQ8de2HMQUQ8mk/TYh7N59ISHodLU1IBl6IobyGXooiUz+XQxIPP5XGIhMfhc2gRjxZwOEIuJeJxBBxKzOPyOJSngEMTisehJHwOIcT8Og4qWCaTCAQ8nc51/4xAEAJAY6LQGApU2iKVrkitK1BqC1U6y3aRWlek0hepta6ZbmIeLeJxPPgcDz5HxOWIeBxvIVfEo0Vc2oPP9eBzRDxazKOlfC5NU14CDk1RngKu+SyNz6XFPFrAoc3nXmBfCEIAcBUmE8lXavOU2gKlrkilLVLrClS6IpW2SKUrUOkKldoitZ7ZYRdeAq6XkCsVcCV8WsTleAq4Ep45wDheQq6IS4t4tCefI+FzRVxawudIBRwRjyPi0lIBvmxdF/7fAICzaQzGXIX2oVydW6bLV2oyHmsy5OV5ZZrM0nLzPDanEXAobxHPHG9CLkfIpczb3kKul5DrJeA92eB6i7i+Ip7j+g+BQQhCAHAIvdGUV6bNUmiySjXZivJshSazVJMp12QrNHIHD6GUiXi+Yq6viO8n5snEXC8Bz0vIkQq4lvM5c7ZJBVwEGxAEIQA8vwKl9m6x+l6R+qG8PFtRnqXQZMrL81U6g9H+F+vEPNpPzPeX8GQinq+IHyDh+Yp5vmK+n5jrL+HLhDxfMc7b4NkgCAHgGRiMpkel5XeL1HeLVPeK1XeLlfeK1HY8w/MScEOkgkAJ31fM8xXx/CR8fzHPfIYXIBH4ingiHkaLgJ0hCAGgVmqdMa1ElVasvlOkulesvlesSitWP/9wFT6HDvEUhHjyQ6WCUKkgxFMQ4ikMkwpCPQXm0fwAzoQgBIAKJWpdapHKnHZ3ilRpxerMUs3zzLQLkPBCPIUhnoIQT0GYl6Ai/DyFARI+hc5LcBkIQgD20hmNyXllV3PKruSUXslRZDwub9jriHl0S5m4hUzUwkccJhWEPDnPE3DQjQmNAIIQgF0eystP5JRdeCg/m150LVvRgH5OPzG/ta+ohUzcylfUSiZuIROHegpwhgeNF4IQwM0ptYabBcqkPMXFLMW5THmBUvtMTw/04Lf2lbT2FUX6iZt6CSP9PAIkPAeVCsAIBCGAuzEYTXeKVVeySy9nl13NLb1bpK7ndT4eh27tK2opE7eSiVvKRK38xC18RHx0b4K7QxACuIlshSY+rTg+reh8VqlSW98FjsOkgu4h0m7Bnt2CpR0CJbiqByyEIARoxIwm04185amMkj/Sii9ll9bnxE/C53QJ9eoe5tUxwKOzryhMKnB8mQAuDUFILl261Lt3b29v78LCwupHTSbT999/v3379uTkZKVSGRISMnz48KVLl0ZERDi9UoAKSq3hr4ySY2klCQ+K67zmR1NUa19R12Bp9xDPrkGerX3FIcHeNE2pVBq5XO2cggFcGduDUK/Xv/nmmwZDzf1IOp1u0qRJhw4dGjBgwOLFiz09PVNSUvbu3RsTE3Po0KEhQ4Y4uVpguUfy8mP3i+PTis88ktse7ekv4XcN8uwW4tkt2LNLkKcHZqkD1I7tQbhu3bo7d+506NAhJyen+tFVq1YdOnToP//5z9tvv23ZuXLlyqFDh06YMCE1NTUoKMiJxQIbGU2mKzmK+LTiY/eLbxcobbTk0FS3YM9hLXyHNZdF+rn0DcEBXAplcs1bWDpFWlpax44d33///YsXL166dKlK12hxcXFISMjo0aN//PHHKk9MTk7u3LnzwoULo6Oj6/wpOTmPbTfgcOiAACkhRC5XqVTPNrQd3NjZR/J9N/MS7hcXqXQ2mkkF3JcifIa1kA1u5iMT1WtiQ2CgF7pGwWksd6gvLFQ07BWCg73tW1IVrD4jnDdvXkhIyIoVK8aNG1f96M8//6zRaBYsWFD9UMeOHfv3779nz576BCHAMynTGn5Jyd9+Jed2oa3zv3Av4YCmPsNayAY28+bRGOoJ0HDsDcLt27cfP348Pj5eKBTW2ODcuXM8Hq9///41Hh00aNDJkyfT09Mxagbs5U6Raue17AO38hWami9ac2jqhRDp0OayYS18W/mKnFwegLtiaRDm5+cvXrx45syZQ4cOra1NampqREQEj1dzX1OrVq0IIXfv3kUQwnMyGE3HH5RsvZKd+LCkxisVYh7dL9x7WAvZyy18/SV8pxcI4OZYGoTvvvsuRVHr16+30UYul3t719ox7eXlRQgpKSmxf3HAGnll2l1Jubuu5+TVNAWCS1MjWvrO6BzUt4k37jQL4DhsDMIjR47ExsZu377d39/fRjOVSuXp6VnbUXOHqlqNsQbQEEl5ZVsvZx1MLdTVNAvCX8Kf0j5wdpfgUMx2B3A81gWhUqmMiooaOHDg7Nmzbbesz3ja+rQJDJTW1aTij32pVOTpWfMFS3APCo0+9lr2/05nJOWU1tige5jX2y82m9YlmOfIpc5omiKEiER8oRDLZ4PDURRNCOHxOPX4MmQG64JwxYoVubm5f/zxh9N+Il3vEX0URVG4mY2bUusMnx+/t/Hk/dJyffWjHgLujO6hC/o16xBUayeE3eHzBk5W/y9DJ2NXEF68eHHz5s2rVq1q3bp1nY3r8x1RnzZ1Tg2kKCIS8QkhWq1er3/mm8OB6zuSUrDkyO30kho60lv5iWd1C5vTI8xHxCP1+LTYhUjEpyii1xu09V6bG6DBBAIuh0MbjabyclszYm0Qix07RoxFQWheTS0yMvLDDz+sT3uRSFReXusNu82HJBJJna8jl6tsN+BwaHMQqtVaTKh3M3eKVB8lpCU+rLqoApemXm7p+7cuwf2aeFMUIVqdXNvA74gGEAp5FEVptXpMqAcnkMkkHA5tMBjr/DKsDYLQbr788svk5OS//vqLz6/X71Qmkz169Ki2o+bxojaGlQLLlWr00Wcebr+WU2U4jJ+YP7Nz0MzOwUEemAgB4BLYEoRlZWX/+te/TCbTgAEDamtj6edUq9VCobBNmzaJiYlqtVokqmHmcmpqKiEkMjLSQQVD42UykQO38leffFDlvhA8Dj2rc9CSfk2lArb8uwNoFNjyD5LH43399de1HV2/fn16evrmzZstjQkhffv23bJly/Hjx0ePHl39KQkJCaGhoU2aNHFQwdBIJeeVrUhIu5RddVBov3DvTwe3aIO1sAFcD1uCUCAQ2JgvERsbm5OTU6XBuHHjxGLxpk2bqgfh5cuXz50799577zmgUmisHpfr15/J2HEtx2B8alJNsAd/af9mk9sHMFUYANjmooNZXYFUKl26dGl8fPyaNWus9+fm5s6YMcPT0/ODDz5gqjZwKXqjaVdSzovfXfruSrZ1Cgq59IKeTU6+0QMpCODK2HJG2DDLly+/cePGihUr4uLixo4d6+XllZKSEhMTo1KpDh48GBgYyHSBwLyzj+QfHU+rfqfAYS1knw5uEe6FFRIAXB2C0BYOh7Nv376xY8du3br1888/VyqVISEhEyZMWLp0afPmzZmuDhhmMpHosxnRZx9WWV+ouY/o08EtBjXzYaguAHg2rL4xr3PgxrxuqVxvXPj7nUMpBdY7pQLue33D5zh4gbTnhxvzgjPhxrwAbqhYrfu/g7fOZ1YODaUoMrFtwMqXmuE2SQCNDoIQ4NmkFKpm/XQjs1Rj2RMg4X37arueoS66oDAA2IYgBHgGJzNK5h1KKdVULpzdxk+8c3z7JhgUA9BoIQgB6mtXUs6KhPvWS6a9FOGz5ZU2WCkGoFHDP2CAuhmMps8TM7668NTaszM6BX82pLmLj4sBgDohCAHqoNQaouJS4tOKLXs4NLX0xaYLemKBPQB3gCAEsCW3TPu3n28m55VZ9kj4nP+NbjOshYzBqgDAjhCEALW6ma+c9dONnLLKyZ1BHvyd49t3DPRgsCoAsC8EIUDNjtwtfPtIqlpXOTSmfYDk+wkdgnEfQQD3giAEqMF3V7I/PpFmvezSmNZ+/xkVKeRiaAyAu0EQAlR14kHJP0/ct07Bt3s1WfpixJM7NwOAW0EQAjzlkbz87SOpxicxyKPpfw9vObUD7jQC4LYQhACV1DrjnF9uFat15odcmto5od3ACNxHAsCd4YIHQKVlCfduWd1ZcHn/CKQggNtDEAJU+PZy1g838iwPR7Xym98jjMF6AMA5EIQAhBByMav0s5Pplodt/SX/GRWJ0TEAbIAgBCB5Zdp5v962rKbtJeB+N7atmId/HQCsgH/qwHZag/GNg7fyniwfQ1PU5tGREd4iZqsCAKdBEALbLT+WdjVHYXn4ft/woc2xjigAiyAIgdVirufsSc61PBzWQvZub9xTAoBdEITAXpezFSuP37c8bO4j2jwqksYIGQCWQRACSxUotfMO3dI+GSAj4XO+G9sO95oHYCEEIbCR3mh663CK5f5KFEWiX24V6SdmtioAYASCENho1Yn7Zx/JLQ8XvBD2SqQ/g/UAAIMQhMA6P90u2HY12/LwxXDvD1+MYK4cAGAYghDYpVCl/TD+ruVhEy/hllfacGgMkAFgLwQhsMtXFzKVWoN5W8ilvxvb1kfEY7YkAGAWghBYJE+p3Xktx/Jw+YCIDgEeDNYDAK4AQQgssuncw3J9xXyJUKlgVudgZusBAFeAIAS2yCrV7EmqvMvSwt5N+Bx8/gEAQQisEX32oWX6fBMv4ZQOgczWAwAuAkEIrJD+WH3gVr7l4eK+TXk0PvwAQAiCEFhi/ZmHltsNNvcRjW+L6fMAUAFBCO7vfon6YEqB5eEHLzblYuIgADyBIAT390Viht5oMm9H+onHtPZjth4AcCkIQnBztwuUcXcKLQ8/6BeBGy0BgDUEIbi5LxIzjKaK08GOgR4jWvoyWw8AuBoEIbizpLyy+PtFlocf9IvA2SAAVIEgBHf2+an0J2eDpHuI55DmPoyWAwCuCEEIbutiVumf6SWWh7jXEgDUCEEIbuvfpzMs2z1DpS+GezNYDAC4LAQhuKfEh49PP3xseYjTQQCoDYIQ3NP6M5WngwMjfPo08WKwGABwZQhCcEMJ90vOZ5ZaHi7uF85gMQDg4hCE4Iaiz1aeDg5v4dstWMpgMQDg4hCE4G5+v1d0NUdh3qYosqRfU2brAQAXhyAEt2IykS8TK08Hx7T2bx8gYbAeAHB9CEJwK1dyFLcLleZtDk293xdXBwGgDghCcCtH7laur/1yC9/WvmIGiwGARgFBCG7FOgjHtsHtlgCgbghCcB/XcxUZj8vN20IuPbiZjNl6AKBRQBCC+7C+7+CgZj4SPofBYgCgsUAQgvv47V6xZXt0a38GKwGARgRBCG7idqEyrVhl3uZz6KG44xIA1A8bgzAxMXHmzJkRERFCodDb27tfv34bN24sLy+vsbHJZNq5c+fAgQN9fX2FQmHz5s3feuut9PR055YMdbPuF30pwlsq4DJYDAA0IqwLwkWLFg0YMODSpUvTp0/fsGHD8uXLZTLZ+++/37Nnz7y8vCqNdTrduHHjZs+ebTKZFi9evG7dulGjRu3fv799+/YJCQmM1A+1OZxaGYSjWmG8KADUF7v+al63bt3GjRs//PDDNWvW0HTFHwEffPBBQkLC6NGjX3/99WPHjlm3X7Vq1aFDh/7zn/+8/fbblp0rV64cOnTohAkTUlNTg4KCnPoGoBb3S9R3iir6RXkc+uWWvszWAwCNCIvOCFUq1Zo1a4YMGfL5559bUtBsyJAh7777bkJCQlJSkmVncXHx+vXrJ0yYYJ2ChJDAwMA9e/YoFIp///vfTiod6nIopfJ0sG8TL28hu/7CA4DnwaIgvHTpUklJyfTp02s8OmLECELI+fPnLXt+/vlnjUazYMGC6o07duzYv3//PXv2OKhUeFZxdwss26Nb43QQAJ4Bi4IwPDx8+/btw4cPr/Goh4cHIUSj0Vj2nDt3jsfj9e/fv8b2gwYNysvLw6gZV/BQXn4zv3J90RHoFwWAZ8GiIIyIiJg9e3ZYWFiNRy9evEgI6dixo2VPampqREQEj8ersX2rVq0IIXfv3nVApfBsDt+pPB3sHeblJ+YzWAwANDosCkIbMjMz16xZ07dv35deesmyUy6Xe3t71/YULy8vQkhJSYkz6gOb4u4UWbYxXhQAnhWrg1Cj0dy7d2/jxo3dunWTyWQ//vij9VGVSsXn13puIRQKCSFqtdrhVYJNOWXaa7kVt+GlKWoULhACwDNi6eC61atXr1y50vLwrbfe2rRpU5XYM5lMdb5OfdrIZB62G1BUxYZEIhAK0a33bHbdTrf8T+gV7t22CRbarhtFUYQQgYAnk2E5VnA4Ho9DCOFy6Tq/DJnC0iAcM2ZMUFCQTqfLz88/c+bM//t//+/Bgwe7du3y87N/x5qg3kuccLkcLkv/hzTcwVuVyyBM7hJS/982cDg0h8PqPiFwJoqiXPafp4uW5WhdunTp0qWL5eG1a9deeeWV/v37X7161dznSZ781Wxbfdpotfo6X8T8F5PBYDQYjHW+IFjklWnOpldcpqUo8kob/zp/20AI4fO5hBCj0ajX4/MGDsflcmiaMplMOp2hYa9g/sQ6DkuDsIouXbrs2rVr4MCBX3/99aJFi8w7RSJRbQuQEkLMhyQSSZ0vXlRUZrsBh0MHBEgJIWVl5SqV9hnqZr2YqznGJx2jXYI8JQZDnb9tIIQEBnrRNFVerpPLcZEbHE4mkwgEPL3e2OB/nsHBtY5btAt0jFR46aWXgoKCrJdYk8lkNgaFmg/ZGFYKTmB9P3rMoweAhmFREP7www9LliyxMbwlICAgKyvL8rBNmzYZGRm1jQtNTU0lhERGRtq9TqinYrXufKbc8hATJwCgYVgUhNevX1+3bp2NtWByc3MDAgIsD/v27WswGI4fP15j44SEhNDQ0CZNmti9TqinI3cL9caKP2vaB0givEXM1gMAjRTDQRgfH19cXFx3O3sYNWoUIeSbb76p8ejp06fz8/OHDh1q2TNu3DixWLxp06bqjS9fvnzu3LmpU6c6qFSoD+t59KNb4X70ANBAnFWrVjH44//v//5v4cKFV65c4fF4LVq04Dpy9kB4ePjVq1d37NgREBDwwgsvWB9KT0+fNGmSUCjcsWOHQCAw7xQIBEaj8bvvvuPz+dYrjubm5o4dO1aj0ezbt8+8QqltZWW1jrgxo2lKIhEQQjQaXYNHVbFNqUa//FiaZaTMmqEtfcU1L4YH1Xl4CCmK0ukMGg0G2YLDiUR8LpdjNJoaPBjQ01No35KqYHjU6LBhw27cuPHLL7/88ssv3t7ekydPnjFjRv/+/eszLaEB9uzZM23atKioqG+//fbVV18NCwtTq9WXLl368ccfZTJZXFycVCq1br98+fIbN26sWLEiLi5u7NixXl5eKSkpMTExKpXq4MGDgYGBjigS6uO3u0U6Y8XQ/0g/cStf9IsCQANR9VkbxaF0Ol18fHxsbOzBgwdLS0sJIU2bNn399ddnzJjRtm1bR/zEw4cPx8TEnD9/Pjc3l8/nR0ZGjh07dsGCBT4+PjW237Nnz9atW69du6ZUKkNCQoYNG7Z06dLmzZvX88fl5Dy23cAyfUIuV2H6RD397eeb8WkVnerv9Q1f3Lcps/U0LubpEyqVBtMnwAnM0yd0OkNhoaJhr+Do6RPMB6FFeXn5kSNHYmNj4+LiVCoVIaR79+4zZsx47bXXGvW5F4LQ7sq0ho5fndUYKj66CbO7tfWre0InWCAIwZlcPwhdaNSoUCicMGHCDz/8kJ+fv3v37ldeeSU5OXnRokWhoaEjR47cvXu3OR0B4tOKLSnYzFuEFASA5+FCQWghkUimT59+6NChvLy87777bvDgwfHx8TNmzAgMDJw1a1Z8fLzRiHWhWC3uTuU8+jGRmD4IAM/FFYPQwtvb+4033vjjjz8SExNbtGhRVlYWExMzfPjwsLCw999//8aNG0wXCAxQ64wn0iun3IxqhQVlAOC5uHQQlpSUbNmypV+/fn369ElLSxOJRK+99tonn3zi4+MTHR3dsWPHsWPH3r9/n+kywamu5JSqdRVdAmFSQadAT2brAYDGzhUX3dbpdEeOHImJiTl8+LBGoyGE9OnTZ/bs2dOmTTNPb/j4448vXbq0fv36ffv2nT59+vjx4506dWK6anCSS9mV19tfDPdxzEQbAGAR1wrCCxcufP/997GxsUVFRYSQsLCwmTNnzp49u3Xr1lVa9ujRY+/evePHj582bdrcuXPPnz/PRL3AgCs5pZbtHqE4HQSA5+USQZiRkbFr166YmBjzStZCoXDatGmzZ88eNmwYTdvqvJ0yZcqePXsOHjz48OHD8PBwZ9ULjDGZyJWcyjPCbsFSG40BAOqD4SD88ccfN2/efPLkSfN0xt69e5u7QL28vOr5Cr169Tp48GBeXh6CkA3S5eoilc687SngtJJhQRkAeF4MB+HmzZv/+uuv0NDQGTNmzJkzpwF3NfL19W3btm3913mBRu2y1QXCrkFSDo0rhADwvBgOwtGjRy9dunT48OG2u0BtmDdv3rx58+xbFbisy9mVFwi7h+ACIQDYAcNBuGTJEmYLgMbF+oywewguEAKAHbjoPEK9Xu86i6CCi1DpjCmFSvM2RZGuQXXfAwsAoE6uEoRqtXr37t1Tpkxp2bKlWCzm8XhcLlcmk7344ovLly83jyYFlruWq7Dckr65j9hHhBsQAoAduEQQHjlypHXr1jNmzNi/f//9+/elUmnLli2DgoJUKtXp06fXrl3btm3bv//971h0m+WsJ070wAVCALAT5oNw3759r776amZm5pgxY+Li4uRyeW5u7t27d7OyspRK5c2bNz/77DN/f/9vvvlm5MiR5oVmgJ0uZVWOlOkWjCAEAPtgOAjz8/Pnz59P0/SePXt+/fXXUaNGeXpWfsFxOJx27dotX778zp07Q4cOPXny5GeffcZgtcCsq7kYKQMA9sdwEO7atUsuly9fvvy1116z0czLy+vAgQMhISFff/21Xq93WnngOjIelxcoK+5aLObRrX3FzNYDAG6D4SC8cOECRVFRUVF1tvTy8po1a1ZhYeG9e/ecUBi4mstPr6zGxVR6ALAThoOwpKTE398/ICCgPo3btWtnfoqDiwJXhKn0AOAgDAehn59f/ceCKpVKQoivL27EykbWQYi1tgHAjhgOwh49epSVlT18+LA+jW/fvu3l5dWsWTNHVwWuplxvvF1Y8QcTRWHIKADYE8NBOG3aNLFY/L///a/OluXl5Xv37p08eTKPh2nUrHM9t0xnqLgrfVMvka8YnwEAsBuGgzA4OPjLL79cv359XFycjWYmk2nevHlGo/HTTz91Wm3gOi7nyC3bmEoPAPbF8KLb6enpvXv3njJlytixY6OiokaNGlW9jcFgiI6OPnHixJo1a65du1bj6/Ts2VMmkzm4WGCM9VrbuEAIAPZFMbu29cCBA//666/nf50TJ04MHDjw+V/HEXJyHttuwOHQAQFSQohcrlKptE4pqpHp+vX5vCeTCP+Y1bVDAJbbfi6BgV40TalUGrlczXQt4P5kMolAwNPpDIWFirpb1yQ42Nu+JVXB8Bnh+PHjO3To8PyvExoa+vwvAq7pkbzckoIiHt3GT8JsPQDgZhgOwnfffZfZAsD1Wa+13SXIE1PpAcC+mF90G8C2p27Gi4kTAGBvCEJwdZdzrNeUwUgZALAzhrtGren1+j/++OPkyZP3798vLi4Wi8WhoaEdOnSYPHlyPddgA/ejNRhv5istD7tiyCgA2JurBOGePXuWLVtW4xIz77777vTp0zdu3IgJEix0PbdMa5lK77iJTC4AACAASURBVC0MkGAqPQDYmUsE4cKFCzdt2kTT9CuvvDJx4sS2bdsGBgaq1ers7OzTp09v3749JiYmPj7+xIkTbdq0YbpYcKqnlxjFBUIAsD/mg3Djxo2bNm2KjIyMiYl54YUXrA+1adNm8ODBy5YtW7NmzapVq1599dULFy54ezt2Qgm4FOsho7hACACOwPBgmcLCwo8//jg0NPTYsWNVUtCCy+V+/PHH//73v+/evbt27VonVwjMeuruSzgjBAAHYDgIf/rpJ4VC8cknn4SFhdlu+d5773Xs2HHnzp3MLoUDzpSt0OSUVUylF3LpdgGYSg8A9sdwEJ4+fZqm6enTp9fZkqbpyZMn5+Xl3b9/3wmFgSu4lFV5Otg5yINHY7YPANgfw98seXl5ISEhIpGoPo3NdyLMy8tzcFHgKnCBEACcgOEg5HA4Op2uno3N97L38MCCy2xhPZUeQ0YBwEEYDsJWrVrl5eWlp6fXp/GFCxdomg4PD3dwUeAStAbjjbwyy0PcfQkAHIThIBw5ciQhJDo6us6WOTk5P/zwQ58+fTB9giWS85QaQ8XAqDCpIMiDz2w9AOCuGA7C4cOHd+3a9auvvtq1a5eNZkqlcsqUKQqFYunSpU6rDZiFJUYBwDkYDkKKon744Qdvb+9Zs2a99dZbjx49qtLAZDL99ttvXbt2TUxMfOONN8aMGcNIneB8T4+UwQVCAHAU5leWadmy5dGjR1977bUtW7Zs3bq1W7dunTp18vHx0el02dnZZ8+ezczMJIRERUVt2rSJ6WLBebC4GgA4B/NBSAjp0aPH9evXo6Ojd+3adfHixYsXL1oO8fn8kSNHLlmyZNCgQQxWCE6Wp9RmlWrM23wO3SEAQ4UBwFFcIggJIWKx+KOPPvroo4/S09MfPXqUl5cnEAj8/f07d+5cz1mG4E6uWfWLdgyU8DmYSg8AjuIqQWgRERERERHBdBXAsBtW9yDsFIh+UQBwIIb/0F65cuWLL76IxWKgipv5lTMIO2CJUQBwJIaD8MKFC6dPn+ZyXe7EFJh1q6DyjLCdP4IQAByI4SAMCQkhhFSfNQFsptAYHpWWm7c5NNXaF0EIAA7EcBCOGDGCEBIXF8dsGeBSbhcqLffaauEjEvEwUgYAHIjhr5iJEyf27t173bp1d+7cYbYScB0389EvCgDOw3AQcrncQ4cO9ejRo0+fPrt3767/nSjAjd0qqBwp0x4jZQDAwRgepfL2229funTJYDCUlpbOmDHjvffea9Kkie2nbNmypXv37s4pDxjx9EgZTKUHAMdiOAiTk5PPnTtneZifn5+fn2/7KQqFwnYDaNSMJlNqIbpGAcB5GA7Cw4cP6/X6Z3rK89+Y9/Hjx3v27Llw4UJOTo5EIunYseO0adPatm1bW/u7d+/u3r07OTlZqVSGhIQMHz580qRJmPLhIA9K1Cqd0bztK+YF4u5LAOBgDF8j9PDw8H5Gz5lABw4caNq06cKFC9PS0ry9veVy+bp169q3b7948WKTZaiilejo6Pbt269fv76srMzDw+PChQuvvfZa9+7dMeXDQZ4eKYN+UQBwOHad1sTFxU2ZMmXw4ME7duwICwsz7ywuLp47d+769et9fHxWrFhh3X737t3vv//+1KlTv/32W6m04pZ4x44dmzx58vDhw69duyYQCJz9Htyd9QVCjJQBACdoTDO0VCrV85yH6XS6uXPntmvX7tdff7WkICFEJpPFxsa2b99+7dq1KpXKsl+j0SxevLhr1667du2ypCAhZOjQodu2bUtJSfnvf//b4GKgNlhTBgCcjOEgnDVr1rRp0+rZeNOmTeHh4RkZGQ37Wb///ntOTs6yZcuq386Cx+PNmTNHqVSeP3/eun1ubu6HH35YvTN2/Pjxbdu23b59e8MqARusVxnFGSEAOAHDQfjw4cP09PR6Nvb09CSEZGVlNexnJScnE0L69etX49FmzZoRQoqKiix7Tpw4QVGUee2b6kaOHHnz5s3CwsKGFQM1KlHrcsq05m0eTbeU4Q5cAOBwjalr9MyZM4SQBt+ecOrUqSdOnLDuFLVmnrYRHh5u2XPr1q2wsDAvL68a27dr187cpmHFQI1uWvWLtvIV8ejG9PkEgEaKgcEyx48ft0wWzM/P1+l0sbGxtp/y+PHjEydO/PDDD35+fu3bt2/Yz23RokWLFi1qOxoXFxcUFNS1a1fLnsLCQn9//9ramw/hjNC+MFIGAJyPgSD817/+9ddff1nvee211+rzRE9Pz23btvH59p9YlpSU9Ntvv3388cc8Hs+yU6lU2ghCsVhMMLvf3rCmDAA4HwNBOH369N69e5u39+zZYzAYZs6caaM9RVFCobBFixajRo2SyWR2r0ej0cyePTs8PHzx4sXW+w0GQ53PrXHqYRVSaR19uRRFmTeEQj6Xy6nzBd1YSlHlqN2ezWR1/uqgYcwfOT6fi98wOIH5a43DoV3288ZAEM6bN8+yfe7cufLy8s8//9z5ZVj84x//SE5O/vPPP80neXYnkdR3rqFAwBUI2DWz05reaEq1OiPs2cxXIsGyMg7E5XJY/ocXOBNNU/X/MnQy9n7tmq1bt27r1q3//e9/axtNapvlZM6G+pw1ml+nPi3d2K3cUo2+YnG1UC+hr5jH8l+I4zz5vBFC8BsGh7N8Tzb4X3R9vmmfB8NBOGzYMAZvvRQbG/vBBx+88847CxYsqH5UIBDYqM18SCgU1vlTcnPlthtwOHRAgJQQUlqqVqm0db6guzp5u3K99Ta+ojp/b9BggYFeNE2p1Rq5XM10LeD+ZDKJQMDT6QyFhQ0cVBEc7G3fkqpgOAirLGnmTCdOnPjb3/42YcKEDRs21NjA29u7uLi4tqeXlpaSJ1MbwS4wUgYAGMHSeVrJycnjx4/v1avXrl276FomqzVr1iw9Pd1oNNZ4NC0tjRDSvHlzB1bJMtbLbWPuBAA4jUtcIzSZTAkJCX/++efDhw8VCoXtfuTVq1d36NDheX7co0ePRo4cGRoaevDgQRt9my+88MLu3bsvXrzYq1ev6kfPnj3r4eHRqlWr56kErN0uxBkhADCA+SC8c+fO5MmTk5KS6tl+4cKFz/PjSkpKzKum/f777z4+PjZajh8/ftGiRdu2basehNnZ2fHx8RMmTOBwMOjOPvKVugJlxfVRIZdu5l33xVcAALtgOAhVKtXLL7+cnp7eo0ePN998s2PHjtb3eaiReVHQhtFoNGPHjs3Kyjp16lSTJk1sNw4PD3/99de3bds2derUwYMHW/YbjcaoqCidTrdkyZIGVwJV3CqoXGu7jZ+EQzt2kBgAgAXDQbhr16709PTJkyfHxsbWdq3OXoxG44wZMxITE7dt2+bp6VnbYt/+/v4SScUFqg0bNly6dGnUqFHvv//+2LFjvby8UlJS1q9ff+rUqTVr1livxwbPyToIcfclAHAmhoPQvNbaF1984egUJIQ8fPjwwIEDhJA5c+bYaLZ3717LnaH8/PwSExOXLVu2cePGNWvWmHe2atVqz5499VwWDuoJI2UAgCkMB2FBQYGvr+/z9HbWX1BQ0IkTJ+psZr6thIWvr++33367adOmu3fvKpXKkJCQpk2bOqxG9sLcCQBgCsNB6Ovra73OtUMJhcKBAwc27LkikahTp052LQcqaQ3GtOKKmd0URdr6O2StOwCAGjE8j7BTp055eXnWt8MFFkopVOmNFXNmwqRCKYsXXAUA52M4CGfNmsXhcLZs2cJsGcAs65Ey7TFSBgCci+EgDA0NXbt27erVq+Pj45mtBBiEkTIAwCDml1hbvHjx4sWLX3nllS+++EKpVNb9BHA7GCkDAAxi+GLMkiVLrly5otPphELh0qVLv/zyy4iICNtP2bJlS/fu3Z1SHTjJrXzrIMQZIQA4FcNBePHiRfNUQrOioqI6B84oFA28kQe4pqxSjVyjN2978DnhXlhcDQCciuEgPHz4sF6vf6aneHig68ytWPeLtvWXOPgGnAAAVTEchEg1wEgZAGAW84NlgOWwyigAMMu1Zi6XlJTcvHmzpKREIBAMHz6c6XLAGW5ipAwAMMpVzgj379/fu3dvX1/f/v37v/rqq++884710YKCgrFjxxYWFjJVHjiISmfMkJebt2mKivRFEAKAszF/RqjX62fMmLFv3z6apnv37t25c+e4uLgqbR48eHDs2LGXX375/PnzXC7zNYO93C5QGk0Vi6tFeAslfNzoGACcjfkzwrfffnvfvn39+/e/ffv2mTNnvv766+bNm1dp07Nnz+3bt1+5cmXjxo2MFAkO8vRIGYycAgAGMByEN27c2LJlS9++fePj41u3bm2j5ZQpU3r06LFt2zan1QZOcLuwcqRMWz/0iwIAAxgOwv3795tMpg0bNggEgjobv/rqq7dv387NzXVCYeAcN/Irg7BDIIIQABjAcBAmJyf7+Pj07NmzPo3Nd8TNzs52cFHgJHqjybprtFOgJ4PFAABrMRyECoXCx8enno3Na9BotVpHVgTOc7dYVa43mreDPPgBEifdohkAwBrDQRgUFJSTk1PPbEtKSiJPzgvBDSTlVvaLdgzESBkAYAbDQTho0CC1Wv3rr7/W2VKhUMTGxkZGRgYHBzuhMHCCpLzKIES/KAAwheEgnDp1amBg4Pvvv5+fn2+jmclkioqKysvLW7BggdNqA0dLfioIcUYIAMxgOAglEsn333+flZXVr1+/8+fP19imsLBw0qRJu3btGjx4cFRUlJMrBAcxGE3Wq4x2CkIQAgAzmF+lZfjw4du3b583b17v3r0HDBgwYsSI/Px8lUp15MiR3NzcU6dO7d+/X6lU9uzZc9++fRwOVh5xE/eK1SpdxUgZfwk/UMJnth4AYC3mg5AQMmPGjJ49ey5atOjo0aMnT5407xw9erR5w9/f/4MPPli+fDkWV3MnyfnW/aKYQQgAjHGVaGndunVcXFx+fv7Ro0czMjLy8vK4XG5oaGi7du2GDRvG42FgvbuxHjKKkTIAwCBXCUKzgICAmTNnMl0FOENyvsKyjbkTAMAg5hfdBhYymqqsKYMgBADGIAiBAfdLysu0BvO2TMQL8ax7pVkAAAdBEAIDMIMQAFwHghAY8PSQUQQhADAJQQgMSMrFSBkAcBUIQnA2k4ncwEgZAHAZCEJwtnS5ulSjN297CbhhUiGz9QAAyyEIwdmeGikT5ElRDNYCAIAgBKdLykW/KAC4EAQhOFtSntVImQCsMgoADEMQglOZTORGPu6+BAAuBEEITvWotPxxecVIGamA29RLxGw9AAAIQnCqJKuRMh0DPTBSBgAYhyAEp8LiagDgahCE4FRVzggZrAQAwAxBCE5lPVIGQ0YBwBUgCMF5sko1RSqdeVvC5zTzwUgZAGAeghCc56l+0QAPGkNlAMAFIAjBeZLzK6fSY6QMALgIBCE4T1IuRsoAgMtBEILzPDVSBkEIAK4BQQhOklumzVdWjJQR8egWGCkDAK4BQQhOYr3WdocADw6NkTIA4BIQhOAkyU8PGWWwEgAAawhCcJIkLK4GAC4JQQhOgiGjAOCaEITgDHll2jyl1rwt5NKtfMXM1gMAYIEgBGc4nym3bLcPkHAxUgYAXAaX6QIYdv369bKysn79+tloYzAYTp06lZycrFQqQ0JChg4dGhIS4rQK3cNZqyDsHebNYCUAAFWwNAhNJtORI0c2bNiQkJDw6aef2gjCU6dOzZkzJy0tTSgUSiSS4uJiiqLmz5+/YcMGgUDgzJobtTOPHlu2+zTxYrASAIAqWNc1qlKpvv766zZt2owZM+bixYu2G1+6dGnEiBF8Pj8hIUGlUhUWFubl5S1btmzLli2vvfaacwp2A4Uq7b1itXmbS1MvhEiZrQcAwBq7gnDv3r1NmjSJiooKDAyMjY1NTEy00dhkMs2fP18qlf7555+DBw+mKIoQ4u/vv3r16n/9618///zzjz/+6KzCG7czD+UmU8V2p0BPTwGH0XIAAJ7CriC8devWlClTkpOTT548OXXqVB6PZ6PxuXPnrly58uGHHwYEBFQ5tHjx4sDAwK+++sqRxbqPc1mVFwjRLwoAroZd1wg//fTT+jc+cuQIIWTSpEnVDwkEgjFjxmzfvl2lUonFmAlQhzMPEYQA4LrYdUb4TJKSkvz8/MLCwmo82qVLF6PReOPGDSdX1egUqrR3i1XmbVwgBAAXhCCsVXZ2to1pEqGhoYSQ3NxcJ1bUKFlfIOwY6IELhADgahCEtSorK/PwqHUlMIlEQgiRy+W1NQCzpy4QYgYhALgedl0jfCY6nc48UrRGNE0TQgwGQ52vIxbzbTegnyyzwue74f+Oc5mllu2BLX3r/G2AE5g/11wuB/87wAk4HJoQQtOUy37e3PCb19V4edV3NI1IxBeJXPSD0jD5ZZrUQqV5m0tTL3cIlgrxkXMVfD7XLf/2AtfE4dD1/zJ0MnSNggP9ea/IcoGwW5gXUhAAXBC+mGrF5XKNRmNtR82H+Py6T+Dy80ttN6Bp2s/PgxCiUKjVat0zlunSfr+ZY9nuGSyt81cBzuHn50nTlFqtVSjKma4F3J+3t5jP5+r1huJiZcNeISDAsaPNEYS1kkqlZWVltR1VKBSEEE9Pzzpfx2CoNU2rMBpN9W/cKJx5WLnEaK9QqZu9u8bOZHK3zxu4JpPJRAgxmZ7hy9DJ0DVaq9DQ0IcPH9Z29NGjR4QQ3IbChiKV7k5RxQxCDk29EFr3Hw0AAM6HIKxV165d5XL5vXv3ajx69epVDofTrl07J1fViJx59LhyBmGAh1SA7gcAcEUIwlqNHj2aEBIbG1v9kFqtjouLGzRokEgkcnpdjcY5q3sQ9g3HymoA4KIQhLXq3r177969o6Ojq3eQrl27tqioKCoqipHCGoszj6xvxosgBAAXhSC05ZtvvtHr9YMHD46Pjzdf7y0uLl6xYsXq1avHjRs3fvx4pgt0XVUuEPYMxRKjAOCicNnGls6dO8fHx8+ePXv48OESicTT07OgoMBoNM6dO3fTpk1MV+fScIEQABoLVn89+fn5/fOf/xwwYICNNr169bp582ZiYuK1a9eUSmVISMiQIUNquyUFWOACIQA0FmwPwlWrVtXZjKbpAQMG2M5LqAIXCAGgscA1QrA/XCAEgEYEQQj2dzaz8h6EHXCBEABcG4IQ7O+sVb9o3yboFwUAl4YgBPs7+6hyiVFcIAQAF4cgBDvLKtWkWl0g7BWGC4QA4NIQhGBnh+8UVt6DMNgTFwgBwMUhCMHOfk0ttGy/EunHYCUAAPWBIAR7ylZoruZW3H2XosjIlghCAHB1CEKwp19TK/tFuwdLQ6UCRssBAKgbghDs6fCdAss2+kUBoFFAEILd5JRpr+QozNsURUa1QhACQCOAIAS7+TW1AP2iANDoIAjBbn5NRb8oADQ+CEKwD/SLAkAjhSAE+7DuF+0W7Il+UQBoLBCEYB9P94v6M1gJAMAzQRCCHaBfFAAaLwQh2MHhp/tFw9AvCgCNB4IQ7MB6fdExrdEvCgCNCYIQnlfu0/2io1ujXxQAGhMEITyvw3cKjE86RtEvCgCNDoIQnhf6RQGgUUMQwnPJKdNezka/KAA0YghCeC7fX8u29It2CUK/KAA0PghCaDi1zvj99VzLwyntAxksBgCgYRCE0HCxN/JK1DrztreQOxlBCACNEIIQGshoMm27mm15OLtrsJiHjxMAND745oIG+iOtOK1YZd7mc+i/dQ5hth4AgIZBEEIDfXMx07I9oW1AoAefwWIAABoMQQgNcT1XcSGr1PJwbg+cDgJAY4UghIb4+mKWZXtghE9bPwmDxQAAPA8EITyzzFLNkbuVq8m89UIog8UAADwnBCE8s62Xs/TGikn0bfzE/cN9mK0HAOB5IAjh2ZRpDbE38iwP5/cIoygGywEAeF4IQng2u67nlGr05m1/CX9cW6yyDQCNG4IQnkGZ1rDlUuUwmTe6hgg4+AgBQOOGbzF4BuvPZOQpteZtEY+e1TmI2XoAAJ4fghDq63aB8rsrlWuqze0W6iPiMVgPAIBdIAihXkwm8tHxNMtg0VCp4J3e4cyWBABgFwhCqJd9N3PPPpJbHq4Z0hJLbAOAe8B3GdTtcbn+s5Pplocvt/Qd1kLGXDkAAPaEIIS6rTmZXqSquO+gkEt/Mqg5s/UAANgRghDqcC1XsSe58jb0i/qEh3sJGawHAMC+EIRgS7neuPjoXaOpYoxMS5kIK4sCgJtBEEKtTCay8Lc7twqUlj1rhrbk0fjMAIBbwZca1GrdmYxDqQWWhxPa+r8Y7s1gPQAAjoAghJodSinYeO6h5WErX9GaoS0ZrAcAwEEQhFCDS9ml7/x258mVQSIT8XaOby8VcBktCgDAIRCEUFXG4/I5v9zSGozmhwIOtXN8+whvEbNVAQA4CIIQnnI5WzF27zXLrEGKIutebt09xJPZqgAAHAedXVDpwK38JUfvaAwmy573+oRPbBfAYEkAAI6GIARCCDGaTGtPZXx14ZH1zontAt7r05SpkgAAnANBCORmvvKfJ9LOWK2pTVHknV5NPugXQVEM1gUA4AwIwroZDIZTp04lJycrlcqQkJChQ4eGhIQwXZR95Cm1X5zK+OFmnmXtGEKIkEtHj2g9ro0/g4UBADgNgrAOp06dmjNnTlpamlAolEgkxcXFFEXNnz9/w4YNAoGA6eoayGQiF7NLD9zM/+l2nkpntD4UKOFvG9euazBGxwAAWyAIbbl06dKIESOaNm2akJAwaNAgiqIKCgo2bdq0du3a3Nzcn376iekCn02hSns5W3ExuzTuTmHG4/LqDQZG+ESPaB3kwXd+bQAATEEQ1spkMs2fP18qlf75558BARUjJ/39/VevXi0SiT766KMff/xx4sSJDq0hp0xboNQ+01NKNXqTyaTQGsr1phK1rqRcl12qfVRanvFYnVmqqe1ZkX7ij19qPqiZz3OXDADQyCAIa3Xu3LkrV65s2LDBkoIWixcv3rx581dffeXoINx6Oevri5kO/REBEt57fSKmdwrk0hgYAwBshCCs1ZEjRwghkyZNqn5IIBCMGTNm+/btKpVKLBY7vTQ7EHLpl1v6TmwXMDDCBxEIAGyGIKxVUlKSn59fWFhYjUe7dOliNBpv3LjRs2dPJxfWYDwO3SFA0iNE2iPEc2CEzFPAYboiAADmIQhrlZ2dbWOaRGhoKCEkNze3tgZ2EeTB7xTo8UxPkQq4FEWJebSQS8tEXG8hz0/MC/cShXsJm3oL+BwsqgcA8BQEYa3KyspkMlltRyUSCSFELpfX1sAu5nYPndsdd4QHAHAgBGGtdDodVfvCKjRNE0IMBkOdr8Pn1/FLpp9couNw6DobA9gLTePzBs5g/oqjKMplP28uWpY78fWtb9+mh4fQ49n6QQEaTijkCYU8pqsAtuBy6fp/GToZrhgBAACr4YywVlwu12g01nbUfIjPr3sRluLiMtsNaJr29hYTQpRKjUaje8YyAZ6Zj4+EoiiNRqdU1rrGAoC9eHoKeTyuXm8sLVU17BVkMseeSiIIayWVSsvKas0whUJBCPH0rHtNTo1Gb7sB58lITr3eUGdjgOdnMhGKIgaDEZ83cAKJxEQIMZlMLvt5Q9dorUJDQx8+fFjb0UePHhFC3OY2FAAArIUgrFXXrl3lcvm9e/dqPHr16lUOh9OuXTsnVwUAAPaFIKzV6NGjCSGxsbHVD6nV6ri4uEGDBolEIqfXBQAA9oQgrFX37t179+4dHR1dvYN07dq1RUVFUVFRjBQGAAB2hCC05ZtvvtHr9YMHD46PjzeZTISQ4uLiFStWrF69ety4cePHj2e6QAAAeF4YNWpL586d4+PjZ8+ePXz4cIlE4unpWVBQYDQa586du2nTJqarAwAAO0AQ1qFXr143b95MTEy8du2aUqkMCQkZMmRIbbekAACARgdBWDeapgcMGDBgwACmCwEAAPujzJe+AAAA2AmDZQAAgNUQhAAAwGoIQgAAYDUEIQAAsBqCEAAAWA1BCAAArIYgBAAAVkMQAgAAqyEIAQCA1RCEAADAaghCAABgNQQhk0wm086dOwcOHOjr6ysUCps3b/7WW2+lp6czXRe4p/nz51O1++abb5guEBq9xMTECRMmrF271kYbF/zew90nGKPT6SZNmnTo0KEBAwYsXrzY09MzJSVl7969MTExhw4dGjJkCNMFgrvJzs728/ObP39+jUe7d+/u5HrAbeh0uv3792/YsOHSpUuEkG7dutlo6YrfeyZgyPLlywkh//nPf6x35ubmdujQQSqV5uTkMFUYuKtu3bq99NJLTFcBbqW4uPjzzz8PDQ0lhLRt23bJkiWEkE8//bS29q75vYcgZEZRUZFAIJgwYUL1Q0lJSRRFLVq0yPlVgXsLCgqaPn0601WAW3n33Xe5XO7EiRMTEhJMJtPt27dtBKHLfu/hGiEzfv75Z41Gs2DBguqHOnbs2L9//z179ji/KnBjBoOhoKDA/Jc7gL1Mnjw5PT39wIEDgwcPrrOxy37vIQiZce7cOR6P179//xqPDho0KC8vD6NmwI7y8vIMBkNYWBjThYBb6devX/3/unLZ7z0EITNSU1MjIiJ4PF6NR1u1akUIuXv3rnOLAneWnZ1NCMEZITDIZb/3EITMkMvl3t7etR318vIihJSUlDixInBz5iDUarXvvPNOZGSkUCiUSqU9evRYt26dWq1mujpgBZf93sP0CWaoVCpPT8/ajgqFQkIIvp7AjnJycgghr7/+eosWLYYOHRoQEFBcXPzHH38sWbJk165dR48eDQwMZLpGcHMu+72HIGSGyWSySxuAevL29g4PD1+yZElUVBRNV3QFGY3GL774Yvny5dOnT09ISGC2QnB7Lvu9hyAEYIWpU6dOnTq1yk6appctW3bnzp0dO3YkJCRgGQdgJ1wjZAZFUXZpA/D8li5dSgg5TjAKvwAADwNJREFUePAg04WAm3PZ7z0EITNEIlF5eXltR82HJBKJEysC9oqMjPT19U1JSWG6EHBzLvu9hyBkhkwmszE4ynzIxvAqAPvy9vZWKBRMVwFuzmW/9xCEzGjTpk1GRkZt46NSU1MJIZGRkc4tCtxWUVHRunXrrly5UlsDuVxuHrwO4Dgu+72HIGRG3759DQbD8ePHazyakJAQGhrapEkTJ1cF7kogEHz44YebN2+u8Wh2dnZhYWG7du2cXBWwjct+7yEImTFu3DixWLxp06bqhy5fvnzu3LnqA/wAGszDw2PgwIFxcXHFxcXVj+7YsYMQMnr0aGeXBSzjst97CEJmSKXSpUuXxsfHr1mzxnp/bm7ujBkzPD09P/jgA6ZqA7e0atWqoqKiv/3tb1VGK5w5c2bNmjUvvvgi5k6Ao7ns9x7mETJm+fLlN27cWLFiRVxc3NixY728vFJSUmJiYlQq1cGDB7HMB9hX//79t2zZEhUVFRkZOXXq1JYtW2o0mjNnzuzfv79ly5Z79+5lukBgBRf93mPk5k9gsXv37kGDBvn4+PD5/IiIiLlz56alpTFdFLit5OTkN954o1mzZnw+38PDo2vXrp999plCoWC6LnATtu9HaOFq33uUCet4AQAAi+EaIQAAsBqCEAAAWA1BCAAArIYgBAAAVkMQAgAAqyEIAQCA1RCEAADAaghCAABgNQQhAACwGoIQAABYDUEIAACshiAEAABWQxACAACrIQgBAIDVEIQAAMBqCEIAAGA1BCEAALAaghAAAFgNQQgAAKyGIAQAAFZDEAJU2Lp166pVq8rKypguxD0dO3Zs1apVN27cYLoQgKoQhAAVtm7d+sknnyAIHeTYsWOffPIJghBcEIIQAABYDUEIAACsxmW6AACGRUdHl5aWEkIyMzMJIevWrfPw8CCE9OjRY8yYMdXbP3jw4MSJE7m5uVKptEOHDv369ePxeFXaFBYW/ve//+3UqdOECRMIIQaD4c8//0xJSVGpVGFhYQMHDgwODrZur1Kpjh079uDBA41GEx4ePmjQoMDAwOo/+siRIxcuXFiwYIG/vz8h5OrVq5cvXy4oKJDJZL169erSpUudb/bixYsXLlyQy+V+fn69e/fu1KlT9TYpKSmxsbEDBgwYPHgwIeT69evnz58vKioaNmxYjx49rFsWFRWdPn06LS1NpVJ5eXnV+Nv46aefkpKSCCGJiYmEkAMHDqSkpBBC/Pz8/vGPf5jbPH78eOPGjc2bN581a1aNZWdmZm7durVDhw6TJk2y7Pz999/PnTs3a9as5s2bG43GEydO3Lx5s7y8fObMmVV+vfV848BeJgB2Cw0NrfGfxvz586u0zMrKGjt2LEVR1s1CQ0P37dtXpeXt27cJIVOnTjWZTPv27QsJCbF+CpfLjYqK0uv1JpNJp9OtXLlSKpVaN+Dz+cuWLTMYDFVedsGCBeRJ/nXt2rVKwX379k1JSantbZ45c6Zz585VntKzZ88rV65Uafnzzz8TQpYtW1ZcXDxixAhL4+XLl1vaZGRkTJs2jcut+pd0UFDQjh07rF/t9ddfr/HXGxkZaWnz4MEDQsiQIUNqK/7s2bOW36fFu+++Swg5evTo9evXW7VqZXnlP/74o2FvHFgLQQhsV15erlar1Wp1z549CSHp6enmhzqdzrrZtWvXQkNDeTzeggULTp48mZGRce3atc8//9zX15cQsmHDBuvG5iAcP378F198QdP0zJkzf/3111u3bl2+fDk6Otp8tvf3v/9dq9UOGjSIz+dHRUUdO3YsNTX14sWL69evDwgIIISsXLmySqnmIPzyyy+FQmGvXr127Nhx8eLFmzdv/vDDDwMGDCCEBAQE3Llzp/p73L17t0Ag8PPzW7t27ZUrVzIyMhITE//xj39wuVwPD4/ExETrxuYgfO+993r06MHhcGbNmvX1118fOHDAkhxXrlzx8fGhaXrKlCm//PLLjRs3srOzk5KSNm3aZD4Vi46OtryaVqs1/z4XL15MCPn+++/NDzUajaXN8wThN9984+Xl5e3tvXjx4p07d+7duzc7O7thbxxYC0EIUKFXr16EkJycnOqH5HJ5kyZNPDw8Tp06VeXQgwcPwsLCuFzuxYsXLTvNQRgaGioQCI4cOVL9Kd7e3lwud9KkSTKZzPqJZqmpqWKxWCQSFRUVWe83ByFFUcuWLavyFKPRaO5p7Nevn9FotD504cIFLpfbrl27zMzMKs/67bffuFxuWFhYaWmpZac5CGUymZ+fX1JSUvXfRrdu3SiKqv6+TCZTVlZWcHCwQCB49OhRlUMffvghIWTv3r3Vn/U8QSiTyfr06VNcXFz9Wc/6xoG1MFgGoG7Lli179OjRV1999eKLL1Y5FBER8d133+n1+s8++6zKoaysrM8++2zkyJHVn/Lmm2/q9foDBw7ExMRUufBGCGnduvW0adPUanVCQkL1YoYPH75mzZoqOymK2rBhQ4cOHU6fPn3ixAnLfpPJNGfOHA6H88svv1TvBB4xYsSSJUsyMzO3bdtW5VBxcfH+/fs7duxYvYDx48dHR0dXf1+EkJCQkIULF2o0mkOHDlU/6ggURR06dMjHx6fK/ga/cWAhBCFAHdRqdUxMTGRk5MyZM2tsMHz48MjIyCNHjmg0Guv9MpnsrbfeqvEpffr0IYS0a9du1KhRNTbo3bs3IcQ8rqQKyxiTKrhc7qJFiwghsbGxlp2nT5++efPmrFmzrK+iWXv77bcJIeazQGu9evUaOHBgjU/56KOPFi5cWOMhQog5O+/evVtbA/t68803/fz8qu9v8BsHFkIQAtTh6NGjCoVi/PjxVYbJWOvTp49Wq01OTrbe+cILL0gkkhrbm89gqg94sTBfeiwpKal+qPoQFQtzrF64cMGy58CBA4SQiRMn1vaU4ODgiIiIS5cuVdlf/dy3nsyjRtVqdcOe/qxqq7PBbxxYCNMnAOpgPrm5ffv2qlWramtz584dQkhBQUE9X9OcqTYijaZpQojRaHyWSklQUJCPj8/9+/cte8zF//bbb+bLbDXSarVKpVKtVotEomf6cTqd7sqVK7du3SoqKlIqlSaTiRBi/dMZ5NA3Dm4GQQhQh+zsbELIwYMHDx48aLulSqVySkW2+Pj4PHjwwGg0mqPUXPymTZvqfKJKpap/HhQVFa1evXrnzp3mc1YOhyORSMzprtfrG169/TjojYNbQhAC1EGn0xFC9u7dW9s1M4vqQzaczzw90XxyRp4Un5GRwefzbT9RJpPV80ekpKQMHz780aNHY8aMmT17du/eva1Hoxw7dmzYsGENqt2eHPHGwV0hCAHqYJ4bZzKZgoKCmK6lbiUlJR4eHhwOx/wwODj45s2bPB7PXsUbjcbJkydnZmbGxMTMmDHDLq/pCHZ/4+DGMFgGoA7NmzcnhFy+fJnpQuqWmZmpUCjMBZvZvfiTJ0/euHFj4sSJdkxB87VS+/apNqL/a8A4BCFAHUaOHCkUCvft22fubXNlR48eJU+mXpiNHz+eEBITE2OvH5GamkoIqT730cK8cOszMXdO5ubm1tagAffGsvsbBzeGIASoYB73X33Ai7e3t7kz8IsvvqjtuSUlJZbLco52+PDhGvcbjcbNmzcTQqZPn27ZOWzYsGbNmh04cODkyZO1vWBRUVH9f7p5QsjDhw9rPFpeXv7RRx/VeKi2Xy8hRCwWN2vW7O7duzk5OTU+1/y+nond3zi4MQQhQAXz0thV5gKaRUdHBwUFrVq1avv27dWPpqen9+rVy2kXzP73v/9999131fcvX778+vXrAwcOfOmllyw7ORzOjh07CCGTJk2qcc7cH3/8ERER8e2339bzpw8aNIjL5e7cufPWrVtVDuXm5g4ZMsS8vFz1s2cbv15CyPjx441G48qVK/9/e3fvklwfBnD8HEsoJZFwOksRZdHL0lSRRC2FRhBNtTRWUDREEA6dqaQ/oMmG/oIkDE5gQTmoBBJpQ4g5GEVETS7l4j2c+wnRR6Hu5/W+vp8xj+fFoS+Uv+tX/dLe3t435tT85Q+O39m/NtwN+I85ODhQFKWrq+vk5MQckF3+aiKRML924fP5jo+Pc7lcPp+PRqObm5s2m62lpeXq6urzYDMGk5OTta5lTkFbXFysdYA58WR9fb38h+as0YWFBYvFMj09HQqF7u7u8vn86empz+dTFEXTtFwuV322YDBotVrNieGXl5cPDw/ZbDYcDs/Pz6uq2tvbWz7U1Lz0xsZGrXvb3t5WFMVms/n9/kgkkkwmQ6HQysqK3W5vbGxcWlpSFGVmZqbiXZlMRlVVu90eDAZvb29jsVixWPx89fn52dxbam5uLhKJZDKZeDx+eHjo8XiUPwbx/Oms0XA4XOs+v/rgEIsQAj8Vi8XyBRJut7vigMfHx+r5MhaLxev1VuTnbw2hYRiGYVRPDvN4PNlsttYJY7HY4OBgxVuam5vX1tYKhUL1peuEsFQqBQKB6qE54+PjiUTC3Naxo6Oj+l1+v7/8+PJtIkqlUiqV6uvrqzinw+EIBAI3NzffC+GXHhxisXwC+MlqtZ6fnxuGkU6nVVWt/qWsadrR0dHT09PFxYW5QE3TtLGxsYrtBhVFcblcuq53dnbWulZ7e7uu63W20u3p6dF1vfxrL+WmpqbMPZuur6/f3t5aW1uHhobqb8w7PDycTCbT6XQikXh5eXE4HG1tbRMTE+YuxNWXHhkZqXO2ra2t5eXls7Oz+/v7hoYG83P4XE24u7v78fFRPbFlZ2dndnY2Go2+v79rmlax7HJgYCCVSsXj8WQyWSgUnE5nd3f36OhoU1PT6+urruv9/f0VH4LT6XS73XXu80sPDrHU0j/1H34Av2h1dXV/f98wjPL9cgH8Ir4sAwAQjRACAEQjhAAA0QghAEA0QggAEI3lE8D/htfrdblcdVZlAPgGlk8AAETjT6MAANEIIQBANEIIABCNEAIARCOEAADRCCEAQDRCCAAQjRACAEQjhAAA0QghAEA0QggAEI0QAgBEI4QAANEIIQBANEIIABCNEAIARCOEAADRCCEAQDRCCAAQjRACAEQjhAAA0QghAEA0QggAEI0QAgBEI4QAANEIIQBANEIIABCNEAIARCOEAADRfgBoxqwkeFzPHQAAAABJRU5ErkJggg==\"/>"
      ]
     },
     "metadata": {},
     "output_type": "display_data"
    }
   ],
   "source": [
    "# Define the number of rows and columns\n",
    "n_row = 8\n",
    "n_col = 8\n",
    "\n",
    "# Define range of temperatures\n",
    "T = 10 .^ range(-1, 1, length=50)\n",
    "\n",
    "# Compute inverse temperature\n",
    "β = 1 ./ T\n",
    "\n",
    "# Initialize array to save entropy\n",
    "S = Vector{eltype(T)}(undef, length(T))\n",
    "\n",
    "# Loop through each temperature\n",
    "Threads.@threads for i = 1:length(T)\n",
    "    # Compute log partition function\n",
    "    S[i] = entropy_rectangular(n_row, n_col; β=β[i])\n",
    "end # for i\n",
    "\n",
    "# Initialize figure\n",
    "fig = Figure(size=(300, 250))\n",
    "\n",
    "# Add axis\n",
    "ax = Axis(\n",
    "    fig[1, 1],\n",
    "    xlabel=\"temperature\",\n",
    "    ylabel=\"entropy\",\n",
    ")\n",
    "\n",
    "# Plot free energy\n",
    "lines!(ax, T, S)\n",
    "\n",
    "fig"
   ]
  },
  {
   "cell_type": "markdown",
   "metadata": {},
   "source": [
    "Finally, let's compute the heat capacity of the system. The heat capacity is\n",
    "given by\n",
    "$$\n",
    "C = \\frac{\\partial \\left\\langle E \\right\\rangle}{\\partial T} =\n",
    "\\frac{\\partial}{\\partial T} \\left(\n",
    "    - \\frac{\\partial \\log \\mathcal{Z}}{\\partial \\beta}\n",
    "\\right) =\n",
    "\\frac{\\partial \\beta}{\\partial T} \n",
    "\\frac{\\partial^2 \\log \\mathcal{Z}}{\\partial \\beta^2}.\n",
    "\\tag{15}\n",
    "$$\n",
    "\n",
    "This computation requires a second order derivative of the partition function,\n",
    "which can also be computed using a finite difference."
   ]
  },
  {
   "cell_type": "code",
   "execution_count": 31,
   "metadata": {},
   "outputs": [
    {
     "data": {
      "text/plain": [
       "heat_capacity_rectangular"
      ]
     },
     "metadata": {},
     "output_type": "display_data"
    }
   ],
   "source": [
    "@doc raw\"\"\"\n",
    "    heat_capacity_rectangular(n_row::Int, n_col::Int; β::T=1.0, J::T=1.0, k::T=1.0, ε::T=cbrt(eps(Float64))) where {T<:Number}\n",
    "\n",
    "Calculate the heat capacity for a rectangular lattice of spins in the Ising\n",
    "model.\n",
    "\n",
    "# Arguments\n",
    "- `n_row`: the number of rows in the lattice.\n",
    "- `n_col`: the number of columns in the lattice.\n",
    "\n",
    "# Optional Keyword Arguments\n",
    "- `β`: the inverse temperature in the Ising model. Default is 1.0.\n",
    "- `J`: the coupling constant in the Ising model. It determines the strength of\n",
    "  the interaction between neighboring spins. Default is 1.0.\n",
    "- `k`: the Boltzmann constant. Default is 1.0.\n",
    "- `ε`: a small number used for finite difference approximation. Default is the\n",
    "  cube root of the machine epsilon for Float64.\n",
    "\n",
    "# Returns\n",
    "- The heat capacity of the system.\n",
    "\n",
    "# Notes\n",
    "- The function first computes the second derivative of the logarithm of the\n",
    "  partition function with respect to β using a finite difference approximation.\n",
    "- The heat capacity is then calculated using the formula C = k * β^2 *\n",
    "  ∂²logZ∂β², where C is the heat capacity, k is the Boltzmann constant, β is the\n",
    "  inverse temperature, and ∂²logZ∂β² is the second derivative of logZ with\n",
    "  respect to β.\n",
    "\"\"\"\n",
    "function heat_capacity_rectangular(n_row::Int, n_col::Int; β=1.0, J=1.0, k=1.0, ε=cbrt(eps(Float64)))\n",
    "    # Compute second order derivative of log partition function with respect to\n",
    "    # β\n",
    "    ∂²logZ∂β² = (\n",
    "        logZ_rectangular(n_row, n_col; β=β + ε) -\n",
    "        2 * logZ_rectangular(n_row, n_col; β=β) +\n",
    "        logZ_rectangular(n_row, n_col; β=β - ε)\n",
    "    ) / ε^2\n",
    "\n",
    "    # Compute heat capacity\n",
    "    C = k * β^2 * ∂²logZ∂β²\n",
    "\n",
    "    return C\n",
    "end"
   ]
  },
  {
   "cell_type": "markdown",
   "metadata": {},
   "source": [
    "As before, let's plot the heat capacity as a function of temperature for a 8 by\n",
    "8 lattice."
   ]
  },
  {
   "cell_type": "code",
   "execution_count": 36,
   "metadata": {},
   "outputs": [
    {
     "data": {
      "image/png": "[encoded data removed]",
      "text/html": [
       "<img width=300 height=250 style='object-fit: contain; height: auto;' src=\"data:image/png;base64, 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\"/>"
      ]
     },
     "metadata": {},
     "output_type": "display_data"
    }
   ],
   "source": [
    "# Define the number of rows and columns\n",
    "n_row = 8\n",
    "n_col = 8\n",
    "\n",
    "# Define range of temperatures\n",
    "T = 10 .^ range(-1, 2, length=75)\n",
    "\n",
    "# Compute inverse temperature\n",
    "β = 1 ./ T\n",
    "\n",
    "# Initialize array to save heat capacity\n",
    "C = Vector{eltype(T)}(undef, length(T))\n",
    "\n",
    "# Loop through each temperature\n",
    "Threads.@threads for i = 1:length(T)\n",
    "    # Compute log partition function\n",
    "    C[i] = heat_capacity_rectangular(n_row, n_col; β=β[i])\n",
    "end # for i\n",
    "\n",
    "# Initialize figure\n",
    "fig = Figure(size=(300, 250))\n",
    "\n",
    "# Add axis\n",
    "ax = Axis(\n",
    "    fig[1, 1],\n",
    "    xlabel=\"temperature\",\n",
    "    ylabel=\"heat capacity per spin\",\n",
    "    xscale=log10,\n",
    ")\n",
    "\n",
    "# Plot free energy\n",
    "lines!(ax, T, C ./ (n_row * n_col))\n",
    "\n",
    "fig"
   ]
  },
  {
   "cell_type": "markdown",
   "metadata": {},
   "source": [
    "## Conclusion"
   ]
  },
  {
   "cell_type": "markdown",
   "metadata": {},
   "source": [
    "In this notebook, we explore how to compute the exact partition function of an\n",
    "Ising model using the so-called transfer matrix method. This method allows us to\n",
    "convert the often intractable sum over all possible states of the system into an\n",
    "Eigenvalue problem. \n",
    "\n",
    "The partition function is an essential quantity in statistical mechanics as many\n",
    "thermodynamic properties can be computed from it. For example, in this notebook,\n",
    "we explore how to compute the free energy, entropy, and heat capacity of the\n",
    "system from the partition function."
   ]
  }
 ],
 "metadata": {
  "kernelspec": {
   "display_name": "Julia 1.10.3",
   "language": "julia",
   "name": "julia-1.10"
  },
  "language_info": {
   "file_extension": ".jl",
   "mimetype": "application/julia",
   "name": "julia",
   "version": "1.10.3"
  }
 },
 "nbformat": 4,
 "nbformat_minor": 2
}
