{
 "cells": [
  {
   "cell_type": "markdown",
   "metadata": {},
   "source": [
    "(c) 2023 Manuel Razo. This work is licensed under a [Creative Commons\n",
    "Attribution License CC-BY 4.0](https://creativecommons.org/licenses/by/4.0/).\n",
    "All code contained herein is licensed under an [MIT\n",
    "license](https://opensource.org/licenses/MIT)."
   ]
  },
  {
   "cell_type": "code",
   "execution_count": 1,
   "metadata": {},
   "outputs": [],
   "source": [
    "@load_pkg ActiveInference\n",
    "# Import package to revise jlArchetype modules\n",
    "using Revise\n",
    "\n",
    "# Import library to handle iterations\n",
    "import IterTools\n",
    "\n",
    "# Import project package\n",
    "import ActiveInference as AI\n",
    "\n",
    "# Import basic math\n",
    "import StatsBase\n",
    "import Distributions\n",
    "import Random\n",
    "\n",
    "# Load plotting-related packages\n",
    "using CairoMakie\n",
    "import ColorSchemes\n",
    "import Colors\n",
    "\n",
    "# Activate backend\n",
    "CairoMakie.activate!()\n",
    "\n",
    "# Set Plotting style\n",
    "AI.viz.theme_makie!()"
   ]
  },
  {
   "cell_type": "markdown",
   "metadata": {},
   "source": [
    "# A tutorial on the free-energy framework for modelling perception and learning"
   ]
  },
  {
   "cell_type": "markdown",
   "metadata": {},
   "source": [
    "This notebook accompanies a series of notes based on the [2017 paper by\n",
    "Bogacz](https://www.sciencedirect.com/science/article/pii/S0022249615000759)."
   ]
  },
  {
   "cell_type": "markdown",
   "metadata": {},
   "source": [
    "## Simplest example of perception"
   ]
  },
  {
   "cell_type": "markdown",
   "metadata": {},
   "source": [
    "Let us imagine an organism that is trying to determine the radius of an object\n",
    "$r$ based on the light intensity. We assume the organism has a receptor that\n",
    "gives a noisy readout of the **log** light intensity $I$. Let us then define\n",
    "$$\n",
    "g(r) = \\ln r^2 = 2 \\ln r,\n",
    "\\tag{1}\n",
    "$$\n",
    "be the non-linear function that relates the size of the object to the\n",
    "log-intensity.\n",
    "\n",
    "**Note**: *In the paper, the author uses only $g(r) = r^2$, but acknowledges that\n",
    "then using a Gaussian distribution is problematic as it can take negative\n",
    "values. Thus, I added the log to transform the variable.*\n",
    "\n",
    "\n",
    "Let us then assume that for an object of size $r$, the organism's noisy receptor\n",
    "gives a noisy readout of the form\n",
    "$$\n",
    "I \\mid r \\sim \\mathcal{N}\\left(g(r), \\Sigma^{(I)}_l \\right),\n",
    "\\tag{2}\n",
    "$$\n",
    "where the subscript $l$ indicates parameters of the likelihood function. Given\n",
    "this level of noise, the organism uses prior knowledge---acquired by experience\n",
    "to encode its expectations on the size of the objects it perceives with this\n",
    "particular receptor. This prior is of the form\n",
    "$$\n",
    "r \\sim \\mathcal{N}\\left(\\mu^{(r)}_p, \\Sigma^{(r)}_p \\right),\n",
    "\\tag{3}\n",
    "$$\n",
    "where the subscript $p$ represents \"prior\" information. Given a measurement, the\n",
    "organism estimates the size of the object by computing Bayes' theorem\n",
    "$$\n",
    "\\pi(r \\mid I) = \\frac{\\pi(I \\mid r) \\pi(r)}{\\pi(I)},\n",
    "\\tag{4}\n",
    "$$\n",
    "where the technical problem comes from computing the denominator\n",
    "$$\n",
    "\\pi(I) = \\int dr\\; \\pi(I \\mid r) \\pi(r).\n",
    "\\tag{5}\n",
    "$$"
   ]
  },
  {
   "cell_type": "markdown",
   "metadata": {},
   "source": [
    "Let us now assume that the organism gets to read out from its receptor a single\n",
    "measurement:\n",
    "- $I = 0.5$.\n",
    "\n",
    "Furthermore, we assume the following parameters for the mean and variances:\n",
    "- $\\Sigma^{(I)}_l = 1$,\n",
    "- $\\mu^{(r)}_p = 3$,\n",
    "- $\\Sigma^{(r)}_p = 1$."
   ]
  },
  {
   "cell_type": "markdown",
   "metadata": {},
   "source": [
    "To be able to compute Eq. 4, we first need a way to compute the integral in\n",
    "Eq. 5. Let us define a function to compute this integral via a simple numerical\n",
    "quadrature. "
   ]
  },
  {
   "cell_type": "code",
   "execution_count": 2,
   "metadata": {},
   "outputs": [
    {
     "data": {
      "text/plain": [
       "quad_midpoint"
      ]
     },
     "metadata": {},
     "output_type": "display_data"
    }
   ],
   "source": [
    "@doc raw\"\"\"\n",
    "    quad_midpoint(f, a, b, N)\n",
    "\n",
    "Numerically integrates function `f` from `a` to `b` with `N` points.\n",
    "\n",
    "# Arguments\n",
    "- `f::function`: 1D-real-valued function to be integrated.\n",
    "- `a::Real`: Integration lower limit.\n",
    "- `b::Real`: Integration upper limit.\n",
    "- `N::Int`: Number of steps to take\n",
    "\"\"\"\n",
    "function quad_midpoint(f::Function, a::Real, b::Real, N::Int)\n",
    "    # Define width of each bin\n",
    "    h = (b - a) / N\n",
    "\n",
    "    # Initialize value of integral\n",
    "    int = 0.0\n",
    "\n",
    "    # Loop through steps\n",
    "    for k = 1:N\n",
    "        # Define mid point for k-th iteration\n",
    "        xₖ_mid = (b - a) * (2k - 1) / (2N) + a\n",
    "        # Add value of bin to integral.\n",
    "        int += h * f(xₖ_mid)\n",
    "    end # for\n",
    "\n",
    "    return int\n",
    "end # function"
   ]
  },
  {
   "cell_type": "markdown",
   "metadata": {},
   "source": [
    "Next, let us define a function to evaluate the posterior distribution we want\n",
    "to evaluate."
   ]
  },
  {
   "cell_type": "code",
   "execution_count": 3,
   "metadata": {},
   "outputs": [
    {
     "data": {
      "text/plain": [
       "π_r_I"
      ]
     },
     "metadata": {},
     "output_type": "display_data"
    }
   ],
   "source": [
    "@doc raw\"\"\"\n",
    "`π_r_I(I::Real, r::Vector{<:Real}, Σₗ⁽ᴵ⁾::Real, μₚ⁽ʳ⁾::Real, Σₚ⁽ʳ⁾::Real; \n",
    "        g::Function=x -> log(x^2), N::Int=1000)`\n",
    "\n",
    "Function to compute the posterior distribution π(r | I).\n",
    "\n",
    "# Arguments\n",
    "- `I::Real`: Value of the (log) intensity read by the detector.\n",
    "- `r::Vector{<:Real}`: Object radius over which to evaluate the posterior dist.\n",
    "- `Σᵣ::Real`: Value of the likelihood variance.\n",
    "- `μₚ⁽ʳ⁾::Real`: Mean of the prior distribution of object radius size.\n",
    "- `Σₚ⁽ʳ⁾::Real`: Variance of the prior distribution of object radius size.\n",
    "\n",
    "## Optional Keyword Arguments\n",
    "- `g::Function`: Non-linear function mapping form radius to detector readout.\n",
    "- `N::Int`: Number of bins used to perform the integration for the evidence.\n",
    "  Default = 1000.\n",
    "\n",
    "# Returns\n",
    "- `π(r|I)::Array{Float64}`: Array evaluating the posterior distribution at all\n",
    "  values of `r`.\n",
    "\"\"\"\n",
    "function π_r_I(\n",
    "    I::Real,\n",
    "    r::Vector{<:Real},\n",
    "    Σₗ⁽ᴵ⁾::Real,\n",
    "    μₚ⁽ʳ⁾::Real,\n",
    "    Σₚ⁽ʳ⁾::Real;\n",
    "    g::Function=x -> log(x^2),\n",
    "    N::Int=1000\n",
    ")\n",
    "    # Define prior distribution\n",
    "    π_prior(x) = Distributions.pdf(Distributions.Normal(μₚ⁽ʳ⁾, √(Σₚ⁽ʳ⁾)), x)\n",
    "    # Define likelihood distribution\n",
    "    π_likelihood(x) = Distributions.pdf(Distributions.Normal(g(x), √(Σₗ⁽ᴵ⁾)), I)\n",
    "    # Compute the evidence performing numerical integration\n",
    "    π_evidence = quad_midpoint(\n",
    "        y -> π_likelihood(y) * π_prior(y),\n",
    "        r[1],\n",
    "        r[end],\n",
    "        N\n",
    "    )\n",
    "    # Evaluate posterior for each value of r\n",
    "    return [π_prior(x) * π_likelihood(x) / π_evidence for x in r]\n",
    "end # function"
   ]
  },
  {
   "cell_type": "markdown",
   "metadata": {},
   "source": [
    "Having defined the function, let's look at the posterior distribution."
   ]
  },
  {
   "cell_type": "code",
   "execution_count": 4,
   "metadata": {},
   "outputs": [
    {
     "data": {
      "image/png": "[encoded data removed]"
     },
     "metadata": {},
     "output_type": "display_data"
    }
   ],
   "source": [
    "# Define ranges of r to evaluate\n",
    "r = collect(LinRange(0.01, 7, 1000))\n",
    "\n",
    "# Define parameters\n",
    "I = 0.5\n",
    "Σₗ⁽ᴵ⁾ = 1\n",
    "μₚ⁽ʳ⁾ = 3\n",
    "Σₚ⁽ʳ⁾ = 1\n",
    "\n",
    "# Evaluate prior\n",
    "π_prior = Distributions.pdf.(Ref(Distributions.Normal(μₚ⁽ʳ⁾, Σₚ⁽ʳ⁾)), r)\n",
    "# Evaluate posterior\n",
    "π_posterior = π_r_I(I, r, Σₗ⁽ᴵ⁾, μₚ⁽ʳ⁾, Σₚ⁽ʳ⁾)\n",
    "\n",
    "# Extract colors\n",
    "color_palette = AI.viz.colors()\n",
    "\n",
    "# Initialize figure\n",
    "fig = Figure(resolution=(400, 300))\n",
    "\n",
    "# Add axis\n",
    "ax = Axis(\n",
    "    fig[1, 1],\n",
    "    xlabel=\"object radius r\",\n",
    "    ylabel=\"probability density\"\n",
    ")\n",
    "\n",
    "# Plot prior distribution\n",
    "lines!(\n",
    "    ax,\n",
    "    r,\n",
    "    π_prior,\n",
    "    label=\"prior π(r)\",\n",
    "    color=color_palette[:green]\n",
    ")\n",
    "fill_between!(\n",
    "    ax,\n",
    "    r,\n",
    "    zeros(length(r)),\n",
    "    π_prior,\n",
    "    label=\"prior π(r)\",\n",
    "    color=(color_palette[:light_green], 0.5)\n",
    ")\n",
    "\n",
    "# Plot posterior distribution\n",
    "lines!(\n",
    "    ax,\n",
    "    r,\n",
    "    π_posterior,\n",
    "    label=\"posterior π(r|I)\",\n",
    "    color=color_palette[:blue]\n",
    ")\n",
    "\n",
    "fill_between!(\n",
    "    ax,\n",
    "    r,\n",
    "    zeros(length(r)),\n",
    "    π_posterior,\n",
    "    label=\"posterior π(r|I)\",\n",
    "    color=(color_palette[:light_blue], 0.5)\n",
    ")\n",
    "\n",
    "# Add legend\n",
    "axislegend(ax, unique=true, merge=true)\n",
    "\n",
    "fig"
   ]
  },
  {
   "cell_type": "markdown",
   "metadata": {},
   "source": [
    "This computation shows how the organism would update the distribution encoding\n",
    "its believes about the size of the object given freshly-taken information."
   ]
  },
  {
   "cell_type": "markdown",
   "metadata": {},
   "source": [
    "## Finding the most-likely feature value"
   ]
  },
  {
   "cell_type": "markdown",
   "metadata": {},
   "source": [
    "The previous result is difficult to compute with neuronal or molecular\n",
    "components. An alternative perspective is to compute the so-called MAP that\n",
    "maximizes the posterior distribution $\\pi(r \\mid I)$. Therefore, our goal \n",
    "becomes to compute\n",
    "$$\n",
    "\\phi = \\max_r \\pi(I \\mid r) \\pi(r),\n",
    "\\tag{6}\n",
    "$$\n",
    "where we ignore the denominator of Eq. 4 since it does not depend on the value\n",
    "of $r$. Computing this MAP is equivalent to approximating the desired posterior\n",
    "distribution $\\pi(r \\mid I)$ with a **much simpler** distribution\n",
    "$$\n",
    "q(r) \\equiv \\delta(r - \\phi),\n",
    "\\tag{7}\n",
    "$$\n",
    "i.e., a delta function where $\\phi$ sets the point where this function is equal\n",
    "to one. To make our proposed approximate function in Eq. 7 to the true posterior\n",
    "distribution, we must minimize the difference between both distributions as much\n",
    "as possible. This is equivalent to minimizing the Kullback-Leibler (KL)\n",
    "divergence\n",
    "$$\n",
    "q^*(r) = \\min_{q(r)} D_{KL}(q(r)|| \\pi(r \\mid I)),\n",
    "\\tag{8}\n",
    "$$\n",
    "where the KL divergence is defined as\n",
    "$$\n",
    "D_{KL}(q(r)|| \\pi(r \\mid I)) \\equiv\n",
    "\\int dr \\; q(r) \\ln \\frac{q(r)}{\\pi(r \\mid I)}.\n",
    "\\tag{9}\n",
    "$$\n",
    "Since $q(r)$ is fully parametrized by the single parameter $\\phi$, the \n",
    "minimization in Eq. 8 is equivalent to writing\n",
    "$$\n",
    "q_\\phi^*(r) = \\min_{\\phi} D_{KL}(q_\\phi(r)|| \\pi(r \\mid I)),\n",
    "\\tag{10}\n",
    "$$\n",
    "where we explicitly wrote $q_\\phi(r)$ to highlight this parametric dependence.\n",
    "\n",
    "Substituting Eq. 10 into this definition and carrying out some calculations, we\n",
    "arrive at a result that\n",
    "$$\n",
    "\\mathcal{F}[q_\\phi(r)] \\geq - \\ln \\pi(I),\n",
    "\\tag{11}\n",
    "$$\n",
    "where $\\mathcal{F}$ is the so-called **variational free energy**, defined as\n",
    "$$\n",
    "\\mathcal{F}[q_\\phi(r)] \\equiv \\int dr \\; \\ln \\frac{q_\\phi(r)}{\\pi(r, I)}.\n",
    "\\tag{12}\n",
    "$$\n",
    "The variational free energy therefore sets an upper bound on the Bayesian \n",
    "surprisal, $-\\ln\\pi(I)$. Computing this surprisal is the challenging part of why\n",
    "performing the optimization in Eq. 6 is challenging. However, minimizing the\n",
    "variational free energy over the space of possible distributions $q_\\phi(r)$ is \n",
    "something computationally feasible. Therefore, our task becomes to minimize this\n",
    "functional to approximate $q_\\phi(r)$ as close to $\\pi(r\\mid I)$ as possible."
   ]
  },
  {
   "cell_type": "markdown",
   "metadata": {},
   "source": [
    "When substituting Eq. 7 into the variational free energy, we obtain\n",
    "$$\n",
    "\\mathcal{F}[\\delta(r - \\phi)] = -\\ln\\pi(\\phi, I) + C,\n",
    "\\tag{13}\n",
    "$$\n",
    "where $C$ is a constant that does not depend on $\\phi$. Our goal of performing\n",
    "the minimization in Eq. 8 then becomes equivalent to minimizing the variational\n",
    "free energy over the parameters of the distribution $q_\\phi(r)$. Since we\n",
    "proposed $q_\\phi(r)$ to be a $\\delta$-function, this means that there is a\n",
    "single parameter $\\phi$ over which to minimize $\\mathcal{F}$. To compute this\n",
    "minimum, we must compute the derivative of $\\mathcal{F}$ with respect to $\\phi$,\n",
    "obtaining\n",
    "$$\n",
    "\\frac{d\\mathcal{F}}{d\\phi} = \n",
    "- \\frac{I - g(\\phi)}{\\Sigma_l^{(I)}} \\frac{dg}{d\\phi} +\n",
    "\\frac{\\phi - \\mu^{(r)}_p}{\\Sigma^{(\\phi)}_p}.\n",
    "\\tag{13}\n",
    "$$\n",
    "Although solving for $\\phi$ becomes challenging due to the non-linearity of $g$,\n",
    "we can arrive at a minimum value by iteratively updating the value of $\\phi$ \n",
    "over time using Euler's integration method. This is\n",
    "$$\n",
    "\\phi(t + \\Delta t) = \\phi(t) - \\frac{d \\mathcal{F}}{d\\phi}\\Delta t.\n",
    "\\tag{14}\n",
    "$$\n",
    "\n",
    "Let's implement a function that computes this update. Note that for this\n",
    "function we will require a closed-form solution for $dg/d\\phi$. We could make\n",
    "this more general by using an automatic differentiation tool."
   ]
  },
  {
   "cell_type": "code",
   "execution_count": 5,
   "metadata": {},
   "outputs": [
    {
     "data": {
      "text/plain": [
       "ϕ_opt_euler"
      ]
     },
     "metadata": {},
     "output_type": "display_data"
    }
   ],
   "source": [
    "@doc raw\"\"\"\n",
    "    ϕ_opt_euler\n",
    "\n",
    "Function to compute the MAP, i.e., the value of r that maximizes the posterior\n",
    "π(r | I) using Euler's integration method.\n",
    "\n",
    "# Arguments\n",
    "- `ϕₒ::Real`: Initial estimate of the object dimensions.\n",
    "- `I::Real`: Value of the (log) intensity read by the detector.\n",
    "- `Σᵣ::Real`: Value of the likelihood variance.\n",
    "- `μₚ⁽ʳ⁾::Real`: Mean of the prior distribution of object radius size.\n",
    "- `Σₚ⁽ʳ⁾::Real`: Variance of the prior distribution of object radius size.\n",
    "\n",
    "## Optional Keyword Arguments\n",
    "- `g::Function`: Non-linear function mapping form radius to detector readout.\n",
    "- `dg::Function`: Non-linear derivative of function mapping form radius to\n",
    "  detector readout.\n",
    "- `n_steps::Int`: Number of steps over which to perform integration. Default =\n",
    "  1000.\n",
    "- `Δt::AbstractFloat`: Step-size for the integration. Default = 0.01\n",
    "\n",
    "# Returns\n",
    "- `r::Array{Float64}`: Array with the trajectory of the estimated MAP.\n",
    "- `time::Array{Float64}`: Array with the times where the integration was\n",
    "  evaluated.\n",
    "\"\"\"\n",
    "function ϕ_opt_euler(\n",
    "    ϕₒ::Real,\n",
    "    I::Real,\n",
    "    Σₗ⁽ᴵ⁾::Real,\n",
    "    μₚ⁽ʳ⁾::Real,\n",
    "    Σₚ⁽ʳ⁾::Real;\n",
    "    g::Function=x -> log(x^2),\n",
    "    dg::Function=x -> 2 / x,\n",
    "    n_steps::Int=1_000,\n",
    "    Δt::AbstractFloat=0.01\n",
    ")\n",
    "    # Initialize array to save values of r\n",
    "    ϕ = Array{Float64}(undef, n_steps + 1)\n",
    "    # Initialize array to save the time\n",
    "    time = similar(ϕ)\n",
    "\n",
    "    # Set initial value\n",
    "    ϕ[1] = Float64(ϕₒ)\n",
    "    time[1] = 0.0\n",
    "\n",
    "    # Loop through iterations\n",
    "    for t = 2:(n_steps+1)\n",
    "        # Compute dF/dr\n",
    "        dF_dϕ = (I - g(ϕ[t-1])) / Σₗ⁽ᴵ⁾ * dg(ϕ[t-1]) - (ϕ[t-1] - μₚ⁽ʳ⁾) / Σₚ⁽ʳ⁾\n",
    "        # Update value of ϕ\n",
    "        ϕ[t] = ϕ[t-1] + Δt * dF_dϕ\n",
    "        # Update value of time\n",
    "        time[t] = time[t-1] + Δt\n",
    "    end # for\n",
    "\n",
    "    return ϕ, time\n",
    "end # function"
   ]
  },
  {
   "cell_type": "markdown",
   "metadata": {},
   "source": [
    "Let us now compute the value of $\\phi$ over time."
   ]
  },
  {
   "cell_type": "code",
   "execution_count": 6,
   "metadata": {},
   "outputs": [
    {
     "data": {
      "image/png": "[encoded data removed]"
     },
     "metadata": {},
     "output_type": "display_data"
    }
   ],
   "source": [
    "# Define parameters\n",
    "ϕₒ = 3\n",
    "I = 0.5\n",
    "Σₗ⁽ᴵ⁾ = 1\n",
    "μₚ⁽ʳ⁾ = 3\n",
    "Σₚ⁽ʳ⁾ = 1\n",
    "\n",
    "# Evaluate trajectory\n",
    "ϕ_opt, time = ϕ_opt_euler(ϕₒ, I, Σₗ⁽ᴵ⁾, μₚ⁽ʳ⁾, Σₚ⁽ʳ⁾; n_steps=1_000)\n",
    "\n",
    "# Initialize figure\n",
    "fig = Figure(resolution=(400, 300))\n",
    "\n",
    "# Add axis\n",
    "ax = Axis(\n",
    "    fig[1, 1],\n",
    "    xlabel=\"time\",\n",
    "    ylabel=\"object radius MAP estimate\"\n",
    ")\n",
    "\n",
    "# Plot trajectory\n",
    "lines!(ax, time, ϕ_opt)\n",
    "\n",
    "ylims!(ax, [0, 3])\n",
    "\n",
    "fig"
   ]
  },
  {
   "cell_type": "markdown",
   "metadata": {},
   "source": [
    "Let's compare the final value with the value of the full posterior distribution."
   ]
  },
  {
   "cell_type": "code",
   "execution_count": 7,
   "metadata": {},
   "outputs": [
    {
     "data": {
      "image/png": "[encoded data removed]"
     },
     "metadata": {},
     "output_type": "display_data"
    }
   ],
   "source": [
    "# Initialize figure\n",
    "fig = Figure(resolution=(400, 300))\n",
    "\n",
    "# Add axis\n",
    "ax = Axis(\n",
    "    fig[1, 1],\n",
    "    xlabel=\"object radius r\",\n",
    "    ylabel=\"probability density\"\n",
    ")\n",
    "\n",
    "# Plot posterior distribution\n",
    "lines!(\n",
    "    ax,\n",
    "    r,\n",
    "    π_posterior,\n",
    "    label=\"posterior π(r|I)\",\n",
    "    color=color_palette[:blue]\n",
    ")\n",
    "\n",
    "fill_between!(\n",
    "    ax,\n",
    "    r,\n",
    "    zeros(length(r)),\n",
    "    π_posterior,\n",
    "    label=\"posterior π(r|I)\",\n",
    "    color=(color_palette[:light_blue], 0.5)\n",
    ")\n",
    "\n",
    "# Add final value\n",
    "vlines!(\n",
    "    ϕ_opt[end],\n",
    "    linestyle=:dash,\n",
    "    color=:black,\n",
    "    label=\"MAP estimate (ϕ)\"\n",
    ")\n",
    "\n",
    "# Add legend\n",
    "axislegend(ax, unique=true, merge=true)\n",
    "\n",
    "fig"
   ]
  },
  {
   "cell_type": "markdown",
   "metadata": {},
   "source": [
    "Indeed, this simple Euler update converges to the MAP. Next, we will explore how\n",
    "could a set of neurons implement this computation."
   ]
  },
  {
   "cell_type": "markdown",
   "metadata": {},
   "source": [
    "## A possible neural implementation"
   ]
  },
  {
   "cell_type": "markdown",
   "metadata": {},
   "source": [
    "When thinking of how neurons could compute the MAP of the posterior\n",
    "distribution, we can assume that the parameters $\\mu_p^{(r)}$, $\\Sigma_p^{(r)}$,\n",
    "and $\\Sigma_l^{(I)}$ are encoded in the connections between neurons, since, in\n",
    "principle they have to last throughout the organisms life. Meanwhile, the values\n",
    "of $r$ and other relevant variables are encoded in the activity of the neurons\n",
    "that dynamically change depending on the inputs they receive.\n",
    "\n",
    "To represent this computation via a neuronal network, it is useful to define the\n",
    "two following quantities:\n",
    "$$\n",
    "\\varepsilon_p^{(r)} \\equiv \\frac{\\phi - \\mu_p^{(r)}}{\\Sigma_p^{(r)}},\n",
    "\\tag{10}\n",
    "$$\n",
    "and\n",
    "$$\n",
    "\\varepsilon_l^{(I)} \\equiv \\frac{I - g(\\phi)}{\\Sigma_l^{(I)}} g'(\\phi).\n",
    "\\tag{11}\n",
    "$$\n",
    "These quantities, which are the terms in Eq. 8 can be interpreted as the \n",
    "prediction errors. Eq. 10 represents *how much does the inferred size $r$ differ\n",
    "from the prior expectation*. Eq. 11 equivalently represents *how much does the\n",
    "measured intensity $I$ differ from the expected intensity value for a given size\n",
    "of the object $r$. With these definitions, we can write the update rules for the\n",
    "estimate of $r$ described in Eq. 9 as\n",
    "$$\n",
    "\\dot{\\phi} = \\varepsilon_l^{(I)}g'(\\phi) - \\varepsilon_p^{(r)}.\n",
    "\\tag{12}\n",
    "$$\n",
    "\n",
    "Just as $r$ is dynamically encoded by the activity of a neuron, the value of the\n",
    "two error predictions can also be dynamically encoded by the activity of\n",
    "neurons. It is easy to show that their update rules take the form\n",
    "$$\n",
    "\\dot{\\varepsilon}_l^{(I)} = \n",
    "(I - g(\\phi)) - \n",
    "\\left(\\Sigma_l^{(I)} \\varepsilon_l^{(I)}\\right),\n",
    "\\tag{13}\n",
    "$$\n",
    "and\n",
    "$$\n",
    "\\dot{\\varepsilon}_p^{(r)} = \n",
    "\\left(\\phi(t) - \\mu_p^{(r)}\\right) - \n",
    "\\left(\\Sigma_p^{(r)} \\varepsilon_p^{(r)}\\right).\n",
    "\\tag{14}\n",
    "$$"
   ]
  },
  {
   "cell_type": "markdown",
   "metadata": {},
   "source": [
    "The connection between neurons can then be represented as the following diagram."
   ]
  },
  {
   "cell_type": "markdown",
   "metadata": {},
   "source": [
    "![*fig*](./figs/neuronal_netowork_01.png)"
   ]
  },
  {
   "cell_type": "markdown",
   "metadata": {},
   "source": [
    "where the node $1$ represents a constant input neuron. This is because we\n",
    "assumed that the parameters are encoded in the connections, not the nodes.\n",
    "\n",
    "Let us now write a function that computes these dynamics."
   ]
  },
  {
   "cell_type": "code",
   "execution_count": 8,
   "metadata": {},
   "outputs": [
    {
     "data": {
      "text/plain": [
       "ϕ_neuron_dynamics"
      ]
     },
     "metadata": {},
     "output_type": "display_data"
    }
   ],
   "source": [
    "@doc raw\"\"\"\n",
    "`ϕ_neuron_dynamics(init::Vector{<:Real}, I::Real, Σₗ⁽ᴵ⁾::Real, μₚ⁽ʳ⁾::Real, \n",
    "                    Σₚ⁽ʳ⁾::Real; g::Function=x -> log(x^2), \n",
    "                    dg::Function=x -> 2 / x, n_steps::Int=1_000, \n",
    "                    Δt::AbstractFloat=0.01)`\n",
    "\n",
    "Function to integrate the dynamics of a simple neuronal system computing the MAP\n",
    "of the posterior distribution π(r | I) using Euler's integration method.\n",
    "\n",
    "# Arguments\n",
    "- `init::Vector{<:Real}`: 3D array with the following values:\n",
    "    - `r_init`: Initial estimate of object size.\n",
    "    - `εₚ⁽ʳ⁾_init`: Initial estimate of prior prediction error.\n",
    "    - `εₗ⁽ᴵ⁾_init`: Initial estimate of likelihood prediction error.\n",
    "- `I::Real`: Value of the (log) intensity read by the detector.\n",
    "- `Σᵣ::Real`: Value of the likelihood variance.\n",
    "- `μₚ⁽ʳ⁾::Real`: Mean of the prior distribution of object radius size.\n",
    "- `Σₚ⁽ʳ⁾::Real`: Variance of the prior distribution of object radius size.\n",
    "\n",
    "## Optional Keyword Arguments\n",
    "- `g::Function`: Non-linear function mapping form radius to detector readout.\n",
    "- `dg::Function`: Non-linear derivative of function mapping form radius to\n",
    "    detector readout.\n",
    "- `n_steps::Int`: Number of steps over which to perform integration. Default =\n",
    "    1000.\n",
    "- `Δt::AbstractFloat`: Step-size for the integration. Default = 0.01\n",
    "\"\"\"\n",
    "function ϕ_neuron_dynamics(\n",
    "    init::Vector{<:Real},\n",
    "    I::Real,\n",
    "    Σₗ⁽ᴵ⁾::Real,\n",
    "    μₚ⁽ʳ⁾::Real,\n",
    "    Σₚ⁽ʳ⁾::Real;\n",
    "    g::Function=x -> log(x^2),\n",
    "    dg::Function=x -> 2 / x,\n",
    "    n_steps::Int=1_000,\n",
    "    Δt::AbstractFloat=0.01\n",
    ")\n",
    "    # Extract initial values\n",
    "    ϕ_init, εₚ⁽ʳ⁾_init, εₗ⁽ᴵ⁾_init = init\n",
    "\n",
    "    # Initialize array to save values of neuronal activity\n",
    "    ϕ = Array{Float64}(undef, n_steps + 1)\n",
    "    εₚ⁽ʳ⁾ = similar(ϕ)\n",
    "    εₗ⁽ᴵ⁾ = similar(ϕ)\n",
    "\n",
    "    # Initialize array to save the time\n",
    "    time = similar(ϕ)\n",
    "\n",
    "    # Set initial value\n",
    "    ϕ[1] = Float64(ϕ_init)\n",
    "    εₚ⁽ʳ⁾[1] = Float64(εₚ⁽ʳ⁾_init)\n",
    "    εₗ⁽ᴵ⁾[1] = Float64(εₗ⁽ᴵ⁾_init)\n",
    "    time[1] = 0.0\n",
    "\n",
    "    # Loop through iterations\n",
    "    for t = 2:(n_steps+1)\n",
    "        # Compute derivative for r neuron\n",
    "        dϕ_dt = εₗ⁽ᴵ⁾[t-1] * dg(ϕ[t-1]) - εₚ⁽ʳ⁾[t-1]\n",
    "        # Compute derivative for εₗ⁽ᴵ⁾ neuron\n",
    "        dεₚ⁽ʳ⁾_dt = (ϕ[t-1] - μₚ⁽ʳ⁾) - Σₚ⁽ʳ⁾ * εₚ⁽ʳ⁾[t-1]\n",
    "        # Compute derivative for εₚ⁽ʳ⁾ neuron\n",
    "        dεₗ⁽ᴵ⁾_dt = (I - g(ϕ[t-1])) - Σₗ⁽ᴵ⁾ * εₗ⁽ᴵ⁾[t-1]\n",
    "\n",
    "        # Update value of neurons\n",
    "        ϕ[t] = ϕ[t-1] + Δt * dϕ_dt\n",
    "        εₚ⁽ʳ⁾[t] = εₚ⁽ʳ⁾[t-1] + Δt * dεₚ⁽ʳ⁾_dt\n",
    "        εₗ⁽ᴵ⁾[t] = εₗ⁽ᴵ⁾[t-1] + Δt * dεₗ⁽ᴵ⁾_dt\n",
    "\n",
    "        # Update value of time\n",
    "        time[t] = time[t-1] + Δt\n",
    "    end # for\n",
    "\n",
    "    return ϕ, εₚ⁽ʳ⁾, εₗ⁽ᴵ⁾, time\n",
    "end # function"
   ]
  },
  {
   "cell_type": "markdown",
   "metadata": {},
   "source": [
    "Let's now integrate the system over time"
   ]
  },
  {
   "cell_type": "code",
   "execution_count": 9,
   "metadata": {},
   "outputs": [
    {
     "data": {
      "image/png": "[encoded data removed]"
     },
     "metadata": {},
     "output_type": "display_data"
    }
   ],
   "source": [
    "# Define parameters\n",
    "init = [3, 0, 0]\n",
    "I = 0.5\n",
    "Σₗ⁽ᴵ⁾ = 1\n",
    "μₚ⁽ʳ⁾ = 3\n",
    "Σₚ⁽ʳ⁾ = 1\n",
    "\n",
    "# Define number of steps\n",
    "n_steps = 1_500\n",
    "\n",
    "# Evaluate trajectory\n",
    "sol = ϕ_neuron_dynamics(init, I, Σₗ⁽ᴵ⁾, μₚ⁽ʳ⁾, Σₚ⁽ʳ⁾; n_steps=n_steps)\n",
    "\n",
    "# Evaluate trajectory\n",
    "ϕ_opt = ϕ_opt_euler(init[1], I, Σₗ⁽ᴵ⁾, μₚ⁽ʳ⁾, Σₚ⁽ʳ⁾; n_steps=n_steps)\n",
    "\n",
    "# Initialize figure\n",
    "fig = Figure(resolution=(400, 300))\n",
    "\n",
    "# Add axis\n",
    "ax = Axis(\n",
    "    fig[1, 1],\n",
    "    xlabel=\"time\",\n",
    "    ylabel=\"neuron activity\"\n",
    ")\n",
    "\n",
    "# Define neuron labels\n",
    "neuron_label = [\"ϕ\", \"εₚ⁽ʳ⁾\", \"εₗ⁽ᴵ⁾\"]\n",
    "\n",
    "# Loop through labels\n",
    "for (i, label) in enumerate(neuron_label)\n",
    "    # Plot trajectory\n",
    "    lines!(ax, sol[end], sol[i], label=label)\n",
    "end # for\n",
    "\n",
    "# Add trajectory for non-neuronal implementation\n",
    "lines!(\n",
    "    ax, ϕ_opt[2], ϕ_opt[1], label=\"MAP estimate\", linestyle=:dash, color=:black\n",
    ")\n",
    "\n",
    "# Add legend\n",
    "axislegend(ax, framevisible=false, position=:lc)\n",
    "\n",
    "fig"
   ]
  },
  {
   "cell_type": "markdown",
   "metadata": {},
   "source": [
    "This simple implementation indeed recovers the estimate of the MAP! Therefore,\n",
    "we can implement a Bayesian computation with only 5 neurons."
   ]
  },
  {
   "cell_type": "markdown",
   "metadata": {},
   "source": [
    "## Scaling up the model of perception"
   ]
  },
  {
   "cell_type": "markdown",
   "metadata": {},
   "source": [
    "Let's scale up the analysis to the case where there are two features\n",
    "$$\n",
    "\\underline{\\theta} = \\begin{bmatrix}\n",
    "\\theta_1 & \\theta_2\n",
    "\\end{bmatrix}^T,\n",
    "\\tag{15}\n",
    "$$\n",
    "identified from two observations\n",
    "$$\n",
    "\\underline{x} = \\begin{bmatrix}\n",
    "x_1 & x_2 \n",
    "\\end{bmatrix}^T,\n",
    "\\tag{16}\n",
    "$$\n",
    "\n",
    "As for the 1D case, we will assume that the inputs $\\underline{x}$ represent a\n",
    "non-linear transform of the feature that the organism is trying to identify. For\n",
    "simplicity, we will assume that for both features, the input is of the form\n",
    "$$\n",
    "x_i = h_i(\\theta_i) = \\ln \\theta_i^2.\n",
    "\\tag{17}\n",
    "$$\n",
    "Furthermore, we will assume that the vector function\n",
    "$\\underline{g}(\\underline{\\theta})$ can be modulated by a set of parameters\n",
    "$\\underline{\\underline{\\Lambda}}$, such that\n",
    "$$\n",
    "\\underline{g}(\\underline{\\theta}; \\underline{\\underline{\\Lambda}}) = \n",
    "\\underline{\\underline{\\Lambda}} \\; \\underline{h}(\\underline{\\theta}).\n",
    "\\tag{18}\n",
    "$$"
   ]
  },
  {
   "cell_type": "markdown",
   "metadata": {},
   "source": [
    "Following the extension from the 1D case, we assume that the receptors the organism uses to measure features $\\underline{\\theta}$ follow a distribution of the form\n",
    "$$\n",
    "\\underline{x} \\mid \\underline{\\theta} \\sim \n",
    "\\mathcal{N}(\n",
    "    \\underline{g}(\\underline{\\theta}; \\underline{\\underline{\\Lambda}}),\n",
    "    \\underline{\\underline{\\Sigma}}_l^{(\\underline{x})}\n",
    "),\n",
    "\\tag{19}\n",
    "$$\n",
    "where $\\underline{\\underline{\\Sigma}}_l^{(\\underline{x})}$ is the covariance \n",
    "matrix of this multivariate Gaussian. Furthermore, the organism expects the \n",
    "features to reside within certain dimensions, as encoded in the prior\n",
    "$$\n",
    "\\underline{\\theta} \\sim \n",
    "\\mathcal{N}(\n",
    "    \\underline{\\mu}_p^{(\\underline{\\theta})},\n",
    "    \\underline{\\underline{\\Sigma}}_p^{(\\underline{\\theta})}\n",
    ").\n",
    "\\tag{20}\n",
    "$$"
   ]
  },
  {
   "cell_type": "markdown",
   "metadata": {},
   "source": [
    "Given a set of observations $\\underline{x}$, the probability of the value of the\n",
    "features $\\underline{\\theta}$ is computed as\n",
    "$$\n",
    "\\pi(\\underline{\\theta} \\mid \\underline{x}) = \n",
    "\\frac{\n",
    "    \\pi(\\underline{x} \\mid \\underline{\\theta}) \\pi(\\underline{\\theta})\n",
    "}\n",
    "{\n",
    "    \\pi(\\underline{x})\n",
    "},\n",
    "\\tag{21}\n",
    "$$\n",
    "where the denominator is again computed from an integral, this time of the form\n",
    "$$\n",
    "\\pi(\\underline{x}) = \\int d\\theta_1 \\int d\\theta_2 \\;\n",
    "\\pi(\\underline{x} \\mid \\underline{\\theta}) \\pi(\\underline{\\theta}).\n",
    "\\tag{22}\n",
    "$$\n",
    "\n",
    "Let us perform this computation. Rather than programming our own\n",
    "multi-dimensional quadrature procedure, we will use the `HCubature.jl` package\n",
    "for this integration. Let's import it."
   ]
  },
  {
   "cell_type": "code",
   "execution_count": 10,
   "metadata": {},
   "outputs": [],
   "source": [
    "# Import package for multi-dimensional integration\n",
    "import HCubature"
   ]
  },
  {
   "cell_type": "markdown",
   "metadata": {},
   "source": [
    "Now, let's define a function that numerically computes the posterior \n",
    "distribution for this two-dimensional case."
   ]
  },
  {
   "cell_type": "code",
   "execution_count": 11,
   "metadata": {},
   "outputs": [
    {
     "data": {
      "text/plain": [
       "π_θ_x"
      ]
     },
     "metadata": {},
     "output_type": "display_data"
    }
   ],
   "source": [
    "@doc raw\"\"\"\n",
    "`π_θ_x(x̲::Vector{<:Real}, θ̲::Matrix{<:Real}, Σ̲̲ₗ⁽ˣ⁾::Matrix{<:Real},\n",
    "        μ̲ₚ⁽ᶿ⁾::Vector{<:Real}, Σ̲̲ₚ⁽ᶿ⁾::Matrix{<:Real};\n",
    "        Λ̲̲::Matrix{Float64}=[[1.0 1.0]; [1.0 1.0]], h::Function=x -> log(x^2),\n",
    "        n_grid::Int=100)`\n",
    "\n",
    "Compute the posterior distribution π(θ|x) for parameters `θ` given data `x`.\n",
    "\n",
    "# Arguments\n",
    "- `x̲::Vector{<:Real}`: Observed data vector.\n",
    "- `θ̲::Matrix{<:Real}`: Parameter vector to compute posterior for. Each column\n",
    "  represents the range over which to evaluate the posterior for each parameter.\n",
    "- `Σ̲̲ₗ⁽ˣ⁾::Matrix{<:Real}`: Covariance matrix function for data likelihood\n",
    "- `μ̲ₚ⁽ᶿ⁾::Vector{<:Real}`: Mean vector function for prior on `θ`\n",
    "- `Σ̲̲ₚ⁽ᶿ⁾::Matrix{<:Real}`: Covariance matrix function for prior on `θ`\n",
    "\n",
    "## Optional Keyword Arguments\n",
    "- `Λ̲̲::Matrix{Float64}`: Linear transformation matrix for likelihood\n",
    "- `h::Function`: Link function for likelihood (default is log(x^2))  \n",
    "- `n_grid::Int`: Number of grid points to use for numerical integration (default\n",
    "  100)\n",
    "\n",
    "# Returns\n",
    "- `θ1_grid::Vector{Float64}`: Grid of first parameter values  \n",
    "- `θ2_grid::Vector{Float64}`: Grid of second parameter values\n",
    "- `π_posterior::Vector{Float64}`: Evaluated posterior values for each grid point\n",
    "\n",
    "# Examples\n",
    "```julia \n",
    "x = [1.0, 2.0]\n",
    "θ = [0.5 2.0; 1.0 3.0]\n",
    "Σl = x -> [1.0 0.0; 0.0 1.0] \n",
    "\n",
    "μp = θ -> [0.0; 0.0]\n",
    "Σp = θ -> [1.0 0.0; 0.0 1.0]\n",
    "\n",
    "θ1, θ2, π = π_θ_x(x, θ, Σl, μp, Σp)\n",
    "```\n",
    "\"\"\"\n",
    "function π_θ_x(\n",
    "    x̲::Vector{<:Real},\n",
    "    θ̲::Matrix{<:Real},\n",
    "    Σ̲̲ₗ⁽ˣ⁾::Matrix{<:Real},\n",
    "    μ̲ₚ⁽ᶿ⁾::Vector{<:Real},\n",
    "    Σ̲̲ₚ⁽ᶿ⁾::Matrix{<:Real};\n",
    "    Λ̲̲::Matrix{Float64}=[[1.0 1.0]; [1.0 1.0]],\n",
    "    h::Function=x -> log(x^2),\n",
    "    n_grid::Int=100\n",
    ")\n",
    "    # Define prior distribution\n",
    "    π_prior(x) = Distributions.pdf(\n",
    "        Distributions.MvNormal(μ̲ₚ⁽ᶿ⁾, Σ̲̲ₚ⁽ᶿ⁾), x\n",
    "    )\n",
    "    # Define likelihood distribution\n",
    "    π_likelihood(x) = Distributions.pdf(\n",
    "        Distributions.MvNormal(Λ̲̲ * h.(x), Σ̲̲ₗ⁽ˣ⁾), x̲\n",
    "    )\n",
    "    # Compute the evidence by performing numerical integration\n",
    "    π_evidence = HCubature.hcubature(\n",
    "        x -> π_likelihood(x) * π_prior(x),\n",
    "        eachrow(θ̲)...\n",
    "    )\n",
    "\n",
    "    # Define ranges where to evaluate posterior\n",
    "    θ₁_range = LinRange(θ̲[:, 1]..., n_grid)\n",
    "    θ₂_range = LinRange(θ̲[:, 2]..., n_grid)\n",
    "\n",
    "    # Evaluate posterior for each grid point\n",
    "    return (\n",
    "        collect(θ₁_range),\n",
    "        collect(θ₂_range),\n",
    "        [\n",
    "            π_likelihood(Array([x...])) * π_prior(Array([x...])) / π_evidence[1]\n",
    "            for x in collect(IterTools.product(θ₁_range, θ₂_range))\n",
    "        ])\n",
    "end # function"
   ]
  },
  {
   "cell_type": "markdown",
   "metadata": {},
   "source": [
    "Given this function definition, let's evaluate the posterior for a set of \n",
    "observations."
   ]
  },
  {
   "cell_type": "code",
   "execution_count": 61,
   "metadata": {},
   "outputs": [
    {
     "data": {
      "image/png": "[encoded data removed]"
     },
     "metadata": {},
     "output_type": "display_data"
    }
   ],
   "source": [
    "# Define observation values\n",
    "x̲ = [0.5, 1.2]\n",
    "\n",
    "# Define latent variable ranges to evaluate\n",
    "θ̲ = [[0.1 0.1]; [3 5]]\n",
    "\n",
    "# Define parameters\n",
    "Σ̲̲ₗ⁽ˣ⁾ = [[1 0]; [0 1]]\n",
    "μ̲ₚ⁽ᶿ⁾ = [1, 2]\n",
    "Σ̲̲ₚ⁽ᶿ⁾ = [[1 0]; [0 1]]\n",
    "\n",
    "# Evaluate posterior\n",
    "posterior = π_θ_x(x̲, θ̲, Σ̲̲ₗ⁽ˣ⁾, μ̲ₚ⁽ᶿ⁾, Σ̲̲ₚ⁽ᶿ⁾)\n",
    "\n",
    "# Initialize figure\n",
    "fig = Figure(resolution=(450, 450))\n",
    "\n",
    "# Add axis\n",
    "ax = Axis(\n",
    "    fig[1, 1],\n",
    "    xlabel=\"θ₁\",\n",
    "    ylabel=\"θ₂\",\n",
    "    title=\"Posterior π(θ̲|x̲)\",\n",
    "    aspect=AxisAspect(1)\n",
    ")\n",
    "\n",
    "# Plot contour on posterior distribution\n",
    "co = contourf!(ax, posterior[1], posterior[2], posterior[3])\n",
    "\n",
    "# Add colorbar\n",
    "Colorbar(fig[1, 2], co, label=\"probability density\")\n",
    "\n",
    "fig"
   ]
  },
  {
   "cell_type": "markdown",
   "metadata": {},
   "source": [
    "## A possible enural implementation"
   ]
  },
  {
   "cell_type": "markdown",
   "metadata": {},
   "source": [
    "As with the 1D case, the computation of the MAP can be implemented with a\n",
    "relatively simple neuronal system that follows a trajectory towards minimizing\n",
    "the variational free energy $\\mathcal{F}[q_\\phi(\\underline{\\theta} -\n",
    "\\underline{\\phi})]$. For this derivation, we generalize the definition of the\n",
    "prediction errors defined in Eq. 10 and Eq. 11 to be of the form\n",
    "$$\n",
    "\\underline{\\varepsilon}_p^{(\\underline{\\theta})} \\equiv\n",
    "\\left(\\Sigma_{\\underline{p}}^{(\\underline{\\theta})}\\right)^{-1}\n",
    "\\left(\\underline{\\phi}-\\underline{\\mu}_p^{(\\underline{\\theta})}\\right),\n",
    "\\tag{23}\n",
    "$$\n",
    "and\n",
    "$$\n",
    "\\underline{\\varepsilon}_l^{(\\underline{x})} \\equiv\n",
    "\\left(\\Sigma_{\\underline{l}}^{(\\underline{x})}\\right)^{-1}\n",
    "\\left(\\underline{x} - \\underline{g}(\\underline{\\phi})\\right).\n",
    "\\tag{24}\n",
    "$$"
   ]
  },
  {
   "cell_type": "markdown",
   "metadata": {},
   "source": [
    "The dynamics of the $\\underline{\\phi}$ neurons take the form\n",
    "$$\n",
    "\\underline{\\dot{\\phi}} = - \\nabla_{\\underline{\\phi}} \\mathcal{F} =\n",
    "- \\left(\\underline{\\varepsilon}_p^{(\\underline{\\theta})}\n",
    "-\\left(\n",
    "    \\underline{\\underline{J}}_{\\underline{\\theta}}^{\\underline{g}}\n",
    "    \\right)^T \n",
    "\\underline{\\varepsilon}_l^{(\\underline{x})}\\right),\n",
    "\\tag{25}\n",
    "$$\n",
    "where $\\underline{\\underline{J}}_{\\underline{\\theta}}^{\\underline{g}}$ is the\n",
    "Jacobian matrix of function $\\underline{g}$ with respect to the\n",
    "$\\underline{\\theta}$ variables. For the neurons representing the prediction\n",
    "errors we have\n",
    "$$\n",
    "\\dot{\\varepsilon}_p^{(\\theta)} = \n",
    "\\left( \\underline{\\phi}-\\mu_p^{(\\underline{\\theta})} \\right) - \n",
    "\\underline{\\underline{\\Sigma}}_p^{(\\underline{\\theta})} \n",
    "\\underline{\\varepsilon}_p^{(\\underline{\\theta})},\n",
    "\\tag{26}\n",
    "$$\n",
    "and\n",
    "$$\n",
    "\\underline{\\dot{\\varepsilon}}_l^{(\\underline{x})} = \n",
    "(\\underline{x}-\\underline{g}(\\underline{\\phi})) -\n",
    "\\underline{\\underline{\\Sigma}}_l^{(\\underline{x})} \n",
    "\\underline{\\varepsilon}_l^{(\\underline{x})}.\n",
    "$$"
   ]
  },
  {
   "cell_type": "markdown",
   "metadata": {},
   "source": [
    "Let's implement a function that integrates these dynamics."
   ]
  },
  {
   "cell_type": "code",
   "execution_count": 62,
   "metadata": {},
   "outputs": [
    {
     "data": {
      "text/plain": [
       "ϕ_neuron_dynamics_2D"
      ]
     },
     "metadata": {},
     "output_type": "display_data"
    }
   ],
   "source": [
    "@doc raw\"\"\"\n",
    "φ_neuron_dynamics_2D( init::Vector{Float64}, x̲::Vector{Float64},\n",
    "    Σ̲̲l(x)::Matrix{Float64}, μ̲p(θ)::Vector{Float64}, Σ̲̲p(θ)::Matrix{Float64};\n",
    "    Λ̲̲::Matrix{Float64}=[1.0 1.0; 1.0 1.0], h::Function=log(x^2),\n",
    "    dh::Function=2/x, n_steps::Int=1000, Δt::Float64=0.01 )\n",
    "\n",
    "Simulate 2D neuronal dynamics estimating the MAP of the posterior distribution \n",
    "π(θ̲|x̲) over time.\n",
    "\n",
    "# Arguments\n",
    "- `init::Vector`: Initial activity state for all neurons [φ0, εp0, εl0]\n",
    "- `x̲::Vector{Float64}`: Observed data \n",
    "- `Σ̲̲ₗ⁽ˣ⁾`: Covariance matrix for likelihood\n",
    "- `μ̲ₚ⁽ᶿ⁾`: Mean vector for prior\n",
    "- `Σ̲̲ₚ⁽ᶿ⁾`: Covariance matrix for prior\n",
    "\n",
    "## Optional keyword arguments\n",
    "- `Λ̲̲::Matrix{Float64}`: Linear transformation matrix  \n",
    "- `h::Function`: Nonlinearity (default is log(x^2))\n",
    "- `dh::Function`: Derivative of nonlinearity (default is 2/x)\n",
    "- `n_steps::Int`: Number of time steps to simulate\n",
    "- `Δt::Float64`: Time step size\n",
    "\n",
    "# Returns\n",
    "- `φ̲::Matrix{Float64}`: Neuronal activity over time\n",
    "- `ε̲p::Matrix{Float64}`: Prior neuron activity over time  \n",
    "- `ε̲l::Matrix{Float64}`: Likelihood neuron activity over time\n",
    "- `time::Vector{Float64}`: Time points\n",
    "\n",
    "# Examples\n",
    "```julia\n",
    "init = [0.1, 0.2, 0.3]  \n",
    "x = [1.0, 2.0]\n",
    "Σl = x -> [1.0 0.0; 0.0 1.0]\n",
    "μp = [0.0, 0.0] \n",
    "Σp = [1.0 0.0; 0.0 1.0]\n",
    "\n",
    "φ, εp, εl, t = φ_neuron_dynamics_2D(init, x, Σl, μp, Σp, n_steps=100)\n",
    "```\n",
    "\"\"\"\n",
    "function ϕ_neuron_dynamics_2D(\n",
    "    init::Vector,\n",
    "    x̲::Vector{<:Real},\n",
    "    Σ̲̲ₗ⁽ˣ⁾::Matrix{<:Real},\n",
    "    μ̲ₚ⁽ᶿ⁾::Vector{<:Real},\n",
    "    Σ̲̲ₚ⁽ᶿ⁾::Matrix{<:Real};\n",
    "    Λ̲̲::Matrix{Float64}=[[1.0 1.0]; [1.0 1.0]],\n",
    "    h::Function=x -> log(x^2),\n",
    "    dh::Function=x -> 2 / x,\n",
    "    n_steps::Int=1_000,\n",
    "    Δt::AbstractFloat=0.01\n",
    ")\n",
    "    # Extract initial values\n",
    "    ϕ_init, εₚ⁽ᶿ⁾_init, εₗ⁽ˣ⁾_init = init\n",
    "\n",
    "    # Initialize array to save values of neuronal activity\n",
    "    ϕ̲ = Matrix{Float64}(undef, 2, n_steps + 1)\n",
    "    ε̲ₚ⁽ᶿ⁾ = similar(ϕ̲)\n",
    "    ε̲ₗ⁽ˣ⁾ = similar(ϕ̲)\n",
    "\n",
    "    # Initialize array to save time\n",
    "    time = Vector{Float64}(undef, n_steps + 1)\n",
    "\n",
    "    # Set initial values\n",
    "    ϕ̲[:, 1] = Float64.(ϕ_init)\n",
    "    ε̲ₚ⁽ᶿ⁾[:, 1] = Float64.(εₚ⁽ᶿ⁾_init)\n",
    "    ε̲ₗ⁽ˣ⁾[:, 1] = Float64.(εₗ⁽ˣ⁾_init)\n",
    "    time[1] = 0.0\n",
    "\n",
    "    # Loop through iterations\n",
    "    for t = 2:(n_steps+1)\n",
    "        # Compute g(ϕ; Λ̲̲) = Λ̲̲ h̲(ϕ̲)\n",
    "        g = Λ̲̲ * h.(ϕ̲[:, t-1])\n",
    "        # Compute Jacobian matrix\n",
    "        J̲̲ᵩᵍ = Λ̲̲ .* hcat(repeat([dh.(ϕ̲[:, t-1])], 2)...)'\n",
    "\n",
    "        # Compute derivative for ϕ̲ neurons\n",
    "        dϕ̲_dt = -(ε̲ₚ⁽ᶿ⁾[:, t-1] - J̲̲ᵩᵍ' * ε̲ₗ⁽ˣ⁾[:, t-1])\n",
    "\n",
    "        # Compute derivative for ε̲ₚ⁽ᶿ⁾ neurons\n",
    "        dε̲ₚ⁽ᶿ⁾_dt = (ϕ̲[:, t-1] - μ̲ₚ⁽ᶿ⁾) - (Σ̲̲ₚ⁽ᶿ⁾ * ε̲ₚ⁽ᶿ⁾[:, t-1])\n",
    "\n",
    "        # Compute derivative for ε̲ₗ⁽ˣ⁾ neurons\n",
    "        dε̲ₗ⁽ˣ⁾_dt = (x̲ - g) - (Σ̲̲ₗ⁽ˣ⁾ * ε̲ₗ⁽ˣ⁾[:, t-1])\n",
    "\n",
    "        # Update value of neurons\n",
    "        ϕ̲[:, t] = ϕ̲[:, t-1] + Δt .* dϕ̲_dt\n",
    "        ε̲ₚ⁽ᶿ⁾[:, t] = ε̲ₚ⁽ᶿ⁾[:, t-1] + Δt .* dε̲ₚ⁽ᶿ⁾_dt\n",
    "        ε̲ₗ⁽ˣ⁾[:, t] = ε̲ₗ⁽ˣ⁾[:, t-1] + Δt .* dε̲ₗ⁽ˣ⁾_dt\n",
    "\n",
    "        # Update value of time\n",
    "        time[t] = time[t-1] + Δt\n",
    "    end # for\n",
    "\n",
    "    # Return variables\n",
    "    return ϕ̲, ε̲ₚ⁽ᶿ⁾, ε̲ₗ⁽ˣ⁾, time\n",
    "end # function"
   ]
  },
  {
   "cell_type": "markdown",
   "metadata": {},
   "source": [
    "Having defined this function, let's integrate the dynamics for the same example\n",
    "as above."
   ]
  },
  {
   "cell_type": "code",
   "execution_count": 70,
   "metadata": {},
   "outputs": [
    {
     "data": {
      "text/plain": [
       "([2.0 2.0 … 0.8116849622020972 0.811680184013126; 1.0 1.0 … 1.9205405183470892 1.9205369388119822], [0.0 0.01 … -0.1882009354577279 -0.18820207648112966; 0.0 -0.01 … -0.07938402856872533 -0.07938478309956717], [0.0 -0.008862943611198906 … -0.3882869262403088 -0.38828333047202496; 0.0 -0.0018629436111989063 … 0.3117130724418834 0.3117166682233453], [0.0, 0.01, 0.02, 0.03, 0.04, 0.05, 0.060000000000000005, 0.07, 0.08, 0.09  …  19.910000000000313, 19.920000000000314, 19.930000000000316, 19.940000000000317, 19.95000000000032, 19.96000000000032, 19.970000000000322, 19.980000000000324, 19.990000000000325, 20.000000000000327])"
      ]
     },
     "metadata": {},
     "output_type": "display_data"
    }
   ],
   "source": [
    "# Define initial conditions\n",
    "ϕ_init = [2, 1]\n",
    "εₚ⁽ᶿ⁾_init = [0, 0]\n",
    "εₗ⁽ˣ⁾_init = [0, 0]\n",
    "\n",
    "# Compile all initial conditions\n",
    "init = [ϕ_init, εₚ⁽ᶿ⁾_init, εₗ⁽ˣ⁾_init]\n",
    "\n",
    "# Define number of steps\n",
    "n_steps = 2_000\n",
    "\n",
    "# Evaluate trajectory\n",
    "sol = ϕ_neuron_dynamics_2D(init, x̲, Σ̲̲ₗ⁽ˣ⁾, μ̲ₚ⁽ᶿ⁾, Σ̲̲ₚ⁽ᶿ⁾; n_steps=n_steps)"
   ]
  },
  {
   "cell_type": "markdown",
   "metadata": {},
   "source": [
    "Now, we can display the phase portrait of the $\\underline{\\phi}$ neurons\n",
    "overlayed with the contour lines of the full posterior distribution."
   ]
  },
  {
   "cell_type": "code",
   "execution_count": 71,
   "metadata": {},
   "outputs": [
    {
     "data": {
      "image/png": "[encoded data removed]"
     },
     "metadata": {},
     "output_type": "display_data"
    }
   ],
   "source": [
    "# Initialize figure\n",
    "fig = Figure(resolution=(400, 400))\n",
    "\n",
    "# Add axis\n",
    "ax = Axis(\n",
    "    fig[1, 1],\n",
    "    xlabel=\"ϕ₁\",\n",
    "    ylabel=\"ϕ₂\",\n",
    "    title=\"Neuron activity phase map\",\n",
    "    aspect=AxisAspect(1)\n",
    ")\n",
    "\n",
    "# Plot contour on posterior distribution\n",
    "co = contour!(ax, posterior[1], posterior[2], posterior[3], linestyle=:dash)\n",
    "\n",
    "# Add MAP neurons trajectory\n",
    "lines!(\n",
    "    ax, eachrow(sol[1])..., linewidth=2, label=\"neurons activity\", color=:black\n",
    ")\n",
    "\n",
    "# Add final spot\n",
    "scatter!(\n",
    "    ax,\n",
    "    sol[1][:, end]...,\n",
    "    marker=:xcross,\n",
    "    markersize=20,\n",
    "    color=:darkred,\n",
    "    label=\"neurons steady state\"\n",
    ")\n",
    "\n",
    "axislegend(ax)\n",
    "\n",
    "fig"
   ]
  },
  {
   "cell_type": "markdown",
   "metadata": {},
   "source": [
    "The activity of the neuron seems to head towards the MAP. In principle, these\n",
    "neurons are descending on the Variational Free Energy landscape towards the MAP.\n",
    "Let's define a function that computes this free energy. Notice that the function\n",
    "is completely equivalent to computing the posterior distribution, except that\n",
    "we do not normalize the value since the 2D integral to compute the evidence is\n",
    "not computed when computing the variational free energy."
   ]
  },
  {
   "cell_type": "code",
   "execution_count": 72,
   "metadata": {},
   "outputs": [
    {
     "data": {
      "text/plain": [
       "vfe_2D"
      ]
     },
     "metadata": {},
     "output_type": "display_data"
    }
   ],
   "source": [
    "@doc raw\"\"\"\n",
    "`vfe_2D(x̲::Vector{<:Real}, θ̲::Matrix{<:Real}, Σ̲̲ₗ⁽ˣ⁾::Matrix{<:Real},\n",
    "        μ̲ₚ⁽ᶿ⁾::Vector{<:Real}, Σ̲̲ₚ⁽ᶿ⁾::Matrix{<:Real};\n",
    "        Λ̲̲::Matrix{Float64}=[[1.0 1.0]; [1.0 1.0]], h::Function=x -> log(x^2),\n",
    "        n_grid::Int=100)`\n",
    "\n",
    "Compute the Variational Free Energy F[qᵩ(θ̲)].\n",
    "\n",
    "# Arguments\n",
    "- `x̲::Vector{<:Real}`: Observed data vector.\n",
    "- `θ̲::Matrix{<:Real}`: Parameter vector to compute posterior for. Each column\n",
    "  represents the range over which to evaluate the posterior for each parameter.\n",
    "- `Σ̲̲ₗ⁽ˣ⁾::Matrix{<:Real}`: Covariance matrix function for data likelihood\n",
    "- `μ̲ₚ⁽ᶿ⁾::Vector{<:Real}`: Mean vector function for prior on `θ`\n",
    "- `Σ̲̲ₚ⁽ᶿ⁾::Matrix{<:Real}`: Covariance matrix function for prior on `θ`\n",
    "\n",
    "## Optional Keyword Arguments\n",
    "- `Λ̲̲::Matrix{Float64}`: Linear transformation matrix for likelihood\n",
    "- `h::Function`: Link function for likelihood (default is log(x^2))  \n",
    "- `n_grid::Int`: Number of grid points to use for numerical integration (default\n",
    "  100)\n",
    "\n",
    "# Returns\n",
    "- `θ1_grid::Vector{Float64}`: Grid of first parameter values  \n",
    "- `θ2_grid::Vector{Float64}`: Grid of second parameter values\n",
    "- `vfe::Vector{Float64}`: Evaluated variational free energy values for each grid\n",
    "  point\n",
    "\n",
    "# Examples\n",
    "```julia \n",
    "x = [1.0, 2.0]\n",
    "θ = [0.5 2.0; 1.0 3.0]\n",
    "Σl = x -> [1.0 0.0; 0.0 1.0] \n",
    "\n",
    "μp = θ -> [0.0; 0.0]\n",
    "Σp = θ -> [1.0 0.0; 0.0 1.0]\n",
    "\n",
    "θ1, θ2, vfe = vfe_2D(x, θ, Σl, μp, Σp)\n",
    "```\n",
    "\"\"\"\n",
    "function vfe_2D(\n",
    "    x̲::Vector{<:Real},\n",
    "    ϕ̲::Matrix{<:Real},\n",
    "    Σ̲̲ₗ⁽ˣ⁾::Matrix{<:Real},\n",
    "    μ̲ₚ⁽ᶿ⁾::Vector{<:Real},\n",
    "    Σ̲̲ₚ⁽ᶿ⁾::Matrix{<:Real};\n",
    "    Λ̲̲::Matrix{Float64}=[[1.0 1.0]; [1.0 1.0]],\n",
    "    h::Function=x -> log(x^2),\n",
    "    n_grid::Int=100\n",
    ")\n",
    "    # Define prior distribution\n",
    "    π_prior(x) = Distributions.pdf(\n",
    "        Distributions.MvNormal(μ̲ₚ⁽ᶿ⁾, Σ̲̲ₚ⁽ᶿ⁾), x\n",
    "    )\n",
    "    # Define likelihood distribution\n",
    "    π_likelihood(x) = Distributions.pdf(\n",
    "        Distributions.MvNormal(Λ̲̲ * h.(x), Σ̲̲ₗ⁽ˣ⁾), x̲\n",
    "    )\n",
    "\n",
    "    # Define ranges where to evaluate posterior\n",
    "    θ₁_range = LinRange(θ̲[:, 1]..., n_grid)\n",
    "    θ₂_range = LinRange(θ̲[:, 2]..., n_grid)\n",
    "\n",
    "    # Evaluate posterior for each grid point\n",
    "    return (\n",
    "        collect(θ₁_range),\n",
    "        collect(θ₂_range),\n",
    "        [\n",
    "            π_likelihood(Array([x...])) * π_prior(Array([x...]))\n",
    "            for x in collect(IterTools.product(θ₁_range, θ₂_range))\n",
    "        ])\n",
    "end # function"
   ]
  },
  {
   "cell_type": "markdown",
   "metadata": {},
   "source": [
    "Let's plot again the trajectory of the $\\phi$ neurons on top of the variational\n",
    "free energy landscape."
   ]
  },
  {
   "cell_type": "code",
   "execution_count": 73,
   "metadata": {},
   "outputs": [
    {
     "data": {
      "image/png": "[encoded data removed]"
     },
     "metadata": {},
     "output_type": "display_data"
    }
   ],
   "source": [
    "# Define observation values\n",
    "x̲ = [0.5, 1.2]\n",
    "\n",
    "# Define latent variable ranges to evaluate\n",
    "ϕ̲ = [[0.1 0.1]; [3 5]]\n",
    "\n",
    "# Evaluate posterior\n",
    "vfe = vfe_2D(x̲, ϕ̲, Σ̲̲ₗ⁽ˣ⁾, μ̲ₚ⁽ᶿ⁾, Σ̲̲ₚ⁽ᶿ⁾)\n",
    "\n",
    "# Initialize figure\n",
    "fig = Figure(resolution=(400 * 2, 400))\n",
    "\n",
    "# Add axis\n",
    "ax = Axis(\n",
    "    fig[1, 1],\n",
    "    xlabel=\"ϕ₁\",\n",
    "    ylabel=\"ϕ₂\",\n",
    "    title=\"Variational Free Energy F[qᵩ(θ̲)]\",\n",
    "    aspect=AxisAspect(1)\n",
    ")\n",
    "\n",
    "# Plot contour on posterior distribution\n",
    "co = contourf!(ax, vfe[1], vfe[2], vfe[3], colormap=Reverse(:magma))\n",
    "\n",
    "# Add MAP neurons trajectory\n",
    "lines!(\n",
    "    ax, eachrow(sol[1])..., linewidth=2, label=\"neurons activity\", color=:white\n",
    ")\n",
    "\n",
    "# Add final spot\n",
    "scatter!(\n",
    "    ax,\n",
    "    sol[1][:, end]...,\n",
    "    marker=:xcross,\n",
    "    markersize=20,\n",
    "    color=:white,\n",
    "    label=\"neurons steady state\"\n",
    ")\n",
    "\n",
    "axislegend(ax)\n",
    "\n",
    "# Add second axis\n",
    "\n",
    "# Add axis\n",
    "ax2 = Axis(\n",
    "    fig[1, 2],\n",
    "    xlabel=\"time\",\n",
    "    ylabel=\"neuron activity\"\n",
    ")\n",
    "\n",
    "# Define neuron labels\n",
    "labels = [\"ϕ₁\", \"ϕ₂\"]\n",
    "\n",
    "# Loop through each neuron\n",
    "for (i, row) in enumerate(eachrow(sol[1]))\n",
    "    lines!(ax2, sol[end], row, label=labels[i])\n",
    "end # for\n",
    "\n",
    "axislegend(ax2, position=:rc)\n",
    "\n",
    "fig"
   ]
  }
 ],
 "metadata": {
  "kernelspec": {
   "display_name": "Julia 1.9.3",
   "language": "julia",
   "name": "julia-1.9"
  },
  "language_info": {
   "file_extension": ".jl",
   "mimetype": "application/julia",
   "name": "julia",
   "version": "1.9.3"
  },
  "orig_nbformat": 4
 },
 "nbformat": 4,
 "nbformat_minor": 2
}
