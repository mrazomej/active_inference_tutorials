{
 "cells": [
  {
   "cell_type": "markdown",
   "metadata": {},
   "source": [
    "(c) 2023 Manuel Razo. This work is licensed under a [Creative Commons\n",
    "Attribution License CC-BY 4.0](https://creativecommons.org/licenses/by/4.0/).\n",
    "All code contained herein is licensed under an [MIT\n",
    "license](https://opensource.org/licenses/MIT)."
   ]
  },
  {
   "cell_type": "code",
   "execution_count": 1,
   "metadata": {},
   "outputs": [],
   "source": [
    "@load_pkg ActiveInference\n",
    "# Import package to revise jlArchetype modules\n",
    "using Revise\n",
    "\n",
    "# Import project package\n",
    "import ActiveInference as AI\n",
    "\n",
    "# Import basic math\n",
    "import StatsBase\n",
    "import Distributions\n",
    "import Random\n",
    "\n",
    "# Load plotting-related packages\n",
    "using CairoMakie\n",
    "import ColorSchemes\n",
    "import Colors\n",
    "\n",
    "# Activate backend\n",
    "CairoMakie.activate!()\n",
    "\n",
    "# Set Plotting style\n",
    "AI.viz.theme_makie!()"
   ]
  },
  {
   "cell_type": "markdown",
   "metadata": {},
   "source": [
    "# A tutorial on the free-energy framework for modelling perception and learning"
   ]
  },
  {
   "cell_type": "markdown",
   "metadata": {},
   "source": [
    "This notebook accompanies a series of notes based on the [2017 paper by\n",
    "Bogacz](https://www.sciencedirect.com/science/article/pii/S0022249615000759)."
   ]
  },
  {
   "cell_type": "markdown",
   "metadata": {},
   "source": [
    "## Simplest example of perception"
   ]
  },
  {
   "cell_type": "markdown",
   "metadata": {},
   "source": [
    "Let us imagine an organism that is trying to determine the radius of an object\n",
    "$r$ based on the light intensity. We assume the organism has a receptor that\n",
    "gives a noisy readout of the **log** light intensity $I$. Let us then define\n",
    "$$\n",
    "g(r) = \\ln r^2 = 2 \\ln r,\n",
    "\\tag{1}\n",
    "$$\n",
    "be the non-linear function that relates the size of the object to the\n",
    "log-intensity.\n",
    "\n",
    "**Note**: *In the paper, the author uses only $g(r) = r^2$, but acknowledges that\n",
    "then using a Gaussian distribution is problematic as it can take negative\n",
    "values. Thus, I added the log to transform the variable.*\n",
    "\n",
    "\n",
    "Let us then assume that for an object of size $r$, the organism's noisy receptor\n",
    "gives a noisy readout of the form\n",
    "$$\n",
    "I \\mid r \\sim \\mathcal{N}\\left(g(r), \\Sigma^{(I)}_l \\right).\n",
    "\\tag{2}\n",
    "$$\n",
    "Given this level of noise, the organism uses prior knowledge---acquired by \n",
    "experience to encode its expectations on the size of the objects it perceives \n",
    "with this particular receptor. This prior is of the form\n",
    "$$\n",
    "r \\sim \\mathcal{N}\\left(\\mu^{(r)}_p, \\Sigma^{(r)}_p \\right),\n",
    "\\tag{3}\n",
    "$$\n",
    "where the subscript $p$ represents \"prior\" information. Given a measurement, the\n",
    "organism estimates the size of the object by computing Bayes' theorem\n",
    "$$\n",
    "\\pi(r \\mid I) = \\frac{\\pi(I \\mid r) \\pi(r)}{\\pi(I)},\n",
    "\\tag{4}\n",
    "$$\n",
    "where the technical problem comes from computing the denominator\n",
    "$$\n",
    "\\pi(I) = \\int dr\\; \\pi(I \\mid r) \\pi(r).\n",
    "\\tag{5}\n",
    "$$"
   ]
  },
  {
   "cell_type": "markdown",
   "metadata": {},
   "source": [
    "Let us now assume that the organism gets to read out from its receptor a single\n",
    "measurement:\n",
    "- $I = 2$.\n",
    "Furthermore, we assume the following parameters for the mean and variances:\n",
    "- $\\Sigma^{(I)}_l = 1$,\n",
    "- $\\mu^{(r)}_p = 3$,\n",
    "- $\\Sigma^{(r)}_p = 1$."
   ]
  },
  {
   "cell_type": "markdown",
   "metadata": {},
   "source": [
    "To be able to compute Eq. 4, we first need a way to compute the integral in\n",
    "Eq. 5. Let us define a function to compute this integral via a simple numerical\n",
    "quadrature. "
   ]
  },
  {
   "cell_type": "code",
   "execution_count": 2,
   "metadata": {},
   "outputs": [
    {
     "data": {
      "text/plain": [
       "quad_midpoint"
      ]
     },
     "metadata": {},
     "output_type": "display_data"
    }
   ],
   "source": [
    "@doc raw\"\"\"\n",
    "    quad_midpoint(f, a, b, N)\n",
    "\n",
    "Numerically integrates function `f` from `a` to `b` with `N` points.\n",
    "\n",
    "# Arguments\n",
    "- `f::function`: 1D-real-valued function to be integrated.\n",
    "- `a::Real`: Integration lower limit.\n",
    "- `b::Real`: Integration upper limit.\n",
    "- `N::Int`: Number of steps to take\n",
    "\"\"\"\n",
    "function quad_midpoint(f::Function, a::Real, b::Real, N::Int)\n",
    "    # Define width of each bin\n",
    "    h = (b - a) / N\n",
    "\n",
    "    # Initialize value of integral\n",
    "    int = 0.0\n",
    "\n",
    "    # Loop through steps\n",
    "    for k = 1:N\n",
    "        # Define mid point for k-th iteration\n",
    "        xₖ_mid = (b - a) * (2k - 1) / (2N) + a\n",
    "        # Add value of bin to integral.\n",
    "        int += h * f(xₖ_mid)\n",
    "    end # for\n",
    "\n",
    "    return int\n",
    "end # function"
   ]
  },
  {
   "cell_type": "markdown",
   "metadata": {},
   "source": [
    "Next, let us define a function to evaluate the posterior distribution we want\n",
    "to evaluate."
   ]
  },
  {
   "cell_type": "code",
   "execution_count": 64,
   "metadata": {},
   "outputs": [
    {
     "data": {
      "text/plain": [
       "π_r_I"
      ]
     },
     "metadata": {},
     "output_type": "display_data"
    }
   ],
   "source": [
    "@doc raw\"\"\"\n",
    " π_r_I\n",
    "\n",
    "Function to compute the posterior distribution π(r | I).\n",
    "\n",
    "# Arguments\n",
    "- `I::Real`: Value of the (log) intensity read by the detector.\n",
    "- `r::Vector{<:Real}`: Object radius over which to evaluate the posterior dist.\n",
    "- `Σᵣ::Real`: Value of the likelihood variance.\n",
    "- `μₚ⁽ʳ⁾::Real`: Mean of the prior distribution of object radius size.\n",
    "- `Σₚ⁽ʳ⁾::Real`: Variance of the prior distribution of object radius size.\n",
    "\n",
    "## Optional Keyword Arguments\n",
    "- `g::Function`: Non-linear function mapping form radius to detector readout.\n",
    "- `N::Int`: Number of bins used to perform the integration for the evidence.\n",
    "  Default = 1000.\n",
    "\n",
    "# Returns\n",
    "- `π(r|I)::Array{Float64}`: Array evaluating the posterior distribution at all\n",
    "  values of `r`.\n",
    "\"\"\"\n",
    "function π_r_I(\n",
    "    I::Real,\n",
    "    r::Vector{<:Real},\n",
    "    Σₗ⁽ᴵ⁾::Real,\n",
    "    μₚ⁽ʳ⁾::Real,\n",
    "    Σₚ⁽ʳ⁾::Real;\n",
    "    g::Function=x -> log(x^2),\n",
    "    N::Int=1000\n",
    ")\n",
    "    # Define prior distribution\n",
    "    π_prior(x) = Distributions.pdf(Distributions.Normal(μₚ⁽ʳ⁾, √(Σₚ⁽ʳ⁾)), x)\n",
    "    # Define likelihood distribution\n",
    "    π_likelihood(x) = Distributions.pdf(Distributions.Normal(g(x), √(Σₗ⁽ᴵ⁾)), I)\n",
    "    # Compute the evidence performing numerical integration\n",
    "    π_evidence = quad_midpoint(\n",
    "        y -> π_likelihood(y) * π_prior(y),\n",
    "        r[1],\n",
    "        r[end],\n",
    "        N\n",
    "    )\n",
    "    # Evaluate posterior for each value of r\n",
    "    return [π_prior(x) * π_likelihood(x) / π_evidence for x in r]\n",
    "end # function"
   ]
  },
  {
   "cell_type": "markdown",
   "metadata": {},
   "source": [
    "Having defined the function, let's look at the posterior distribution."
   ]
  },
  {
   "cell_type": "code",
   "execution_count": 74,
   "metadata": {},
   "outputs": [
    {
     "data": {
      "image/png": "[encoded data removed]"
     },
     "metadata": {},
     "output_type": "display_data"
    }
   ],
   "source": [
    "# Define ranges of r to evaluate\n",
    "r = collect(LinRange(0.01, 7, 1000))\n",
    "\n",
    "# Define parameters\n",
    "I = 0.5\n",
    "Σₗ⁽ᴵ⁾ = 1\n",
    "μₚ⁽ʳ⁾ = 3\n",
    "Σₚ⁽ʳ⁾ = 1\n",
    "\n",
    "# Evaluate prior\n",
    "π_prior = Distributions.pdf.(Ref(Distributions.Normal(μₚ⁽ʳ⁾, Σₚ⁽ʳ⁾)), r)\n",
    "# Evaluate posterior\n",
    "π_posterior = π_r_I(I, r, Σₗ⁽ᴵ⁾, μₚ⁽ʳ⁾, Σₚ⁽ʳ⁾; g=x -> log(x^2))\n",
    "\n",
    "# Extract colors\n",
    "color_palette = AI.viz.colors()\n",
    "\n",
    "# Initialize figure\n",
    "fig = Figure(resolution=(400, 300))\n",
    "\n",
    "# Add axis\n",
    "ax = Axis(\n",
    "    fig[1, 1],\n",
    "    xlabel=\"object radius r\",\n",
    "    ylabel=\"probability density\"\n",
    ")\n",
    "\n",
    "# Plot prior distribution\n",
    "lines!(\n",
    "    ax,\n",
    "    r,\n",
    "    π_prior,\n",
    "    label=\"prior π(r)\",\n",
    "    color=color_palette[:green]\n",
    ")\n",
    "fill_between!(\n",
    "    ax,\n",
    "    r,\n",
    "    zeros(length(r)),\n",
    "    π_prior,\n",
    "    label=\"prior π(r)\",\n",
    "    color=(color_palette[:light_green], 0.5)\n",
    ")\n",
    "\n",
    "# Plot posterior distribution\n",
    "lines!(\n",
    "    ax,\n",
    "    r,\n",
    "    π_posterior,\n",
    "    label=\"posterior π(r|I)\",\n",
    "    color=color_palette[:blue]\n",
    ")\n",
    "\n",
    "fill_between!(\n",
    "    ax,\n",
    "    r,\n",
    "    zeros(length(r)),\n",
    "    π_posterior,\n",
    "    label=\"posterior π(r|I)\",\n",
    "    color=(color_palette[:light_blue], 0.5)\n",
    ")\n",
    "\n",
    "# Add legend\n",
    "axislegend(ax, unique=true, merge=true)\n",
    "\n",
    "fig"
   ]
  },
  {
   "cell_type": "markdown",
   "metadata": {},
   "source": [
    "## Finding the most-likely feature value"
   ]
  },
  {
   "cell_type": "markdown",
   "metadata": {},
   "source": [
    "The previous result is difficult to compute with neuronal or molecular\n",
    "components. An alternative perspective is to compute the so-called MAP that\n",
    "maximizes the posterior distribution $\\pi(r \\mid I)$. Therefore, our goal \n",
    "becomes to compute\n",
    "$$\n",
    "r^* = \\max_r \\pi(r \\mid I) \\pi(r),\n",
    "\\tag{6}\n",
    "$$\n",
    "where we ignore the denominator of Eq. 4 since it does not depend on the value \n",
    "of $r$. Maximizing this product is equivalent to maximizing the negative of the\n",
    "free energy that we define as\n",
    "$$\n",
    "F \\equiv \\ln \\pi(r \\mid I) + \\ln \\pi(r).\n",
    "\\tag{7}\n",
    "$$"
   ]
  },
  {
   "cell_type": "markdown",
   "metadata": {},
   "source": [
    "To compute this maximum, we must compute the derivative of $F$ with respect to\n",
    "$r$, obtaining\n",
    "$$\n",
    "\\frac{dF}{dr} = \\frac{I - g(r)}{\\Sigma_l^{(I)}} \\frac{dg}{dr} +\n",
    "\\frac{r - \\mu^{(r)}_p}{\\Sigma^{(r)}_p}.\n",
    "\\tag{8}\n",
    "$$\n",
    "Although solving for $r$ becomes challenging due to the non-linearity of $g$, we\n",
    "can arrive at a value for $r^*$ by iteratively updating the value of $r$ over\n",
    "time using Euler's integration method. This is\n",
    "$$\n",
    "r(t + \\Delta t) = r(t) + \\frac{dF}{dr}\\Delta t.\n",
    "\\tag{9}\n",
    "$$\n",
    "\n",
    "Let's implement a function that computes this update. Note that for this \n",
    "function we will require a closed-form solution for $dg/dr$. We could make this\n",
    "more general by using an automatic differentiation tool."
   ]
  },
  {
   "cell_type": "code",
   "execution_count": 47,
   "metadata": {},
   "outputs": [
    {
     "data": {
      "text/plain": [
       "r_opt_euler"
      ]
     },
     "metadata": {},
     "output_type": "display_data"
    }
   ],
   "source": [
    "@doc raw\"\"\"\n",
    "    r_opt_euler\n",
    "\n",
    "Function to compute the MAP, i.e., the value of r that maximizes the posterior\n",
    "π(r | I) using Euler's integration method.\n",
    "\n",
    "# Arguments\n",
    "- `rₒ::Real`: Initial estimate of the object dimensions.\n",
    "- `I::Real`: Value of the (log) intensity read by the detector.\n",
    "- `Σᵣ::Real`: Value of the likelihood variance.\n",
    "- `μₚ⁽ʳ⁾::Real`: Mean of the prior distribution of object radius size.\n",
    "- `Σₚ⁽ʳ⁾::Real`: Variance of the prior distribution of object radius size.\n",
    "\n",
    "## Optional Keyword Arguments\n",
    "- `g::Function`: Non-linear function mapping form radius to detector readout.\n",
    "- `dg::Function`: Non-linear derivative of function mapping form radius to\n",
    "  detector readout.\n",
    "- `n_steps::Int`: Number of steps over which to perform integration. Default =\n",
    "  1000.\n",
    "- `Δt::AbstractFloat`: Step-size for the integration. Default = 0.01\n",
    "\n",
    "# Returns\n",
    "- `r::Array{Float64}`: Array with the trajectory of the estimated MAP.\n",
    "- `time::Array{Float64}`: Array with the times where the integration was\n",
    "  evaluated.\n",
    "\"\"\"\n",
    "function r_opt_euler(\n",
    "    rₒ::Real,\n",
    "    I::Real,\n",
    "    Σₗ⁽ᴵ⁾::Real,\n",
    "    μₚ⁽ʳ⁾::Real,\n",
    "    Σₚ⁽ʳ⁾::Real;\n",
    "    g::Function=x -> log(x^2),\n",
    "    dg::Function=x -> 2 / x,\n",
    "    n_steps::Int=1_000,\n",
    "    Δt::AbstractFloat=0.01\n",
    ")\n",
    "    # Initialize array to save values of r\n",
    "    r = Array{Float64}(undef, n_steps + 1)\n",
    "    # Initialize array to save the time\n",
    "    time = similar(r)\n",
    "\n",
    "    # Set initial value\n",
    "    r[1] = Float64(rₒ)\n",
    "    time[1] = 0.0\n",
    "\n",
    "    # Loop through iterations\n",
    "    for t = 2:(n_steps+1)\n",
    "        # Compute dF/dr\n",
    "        dF_dr = (I - g(r[t-1])) / Σₗ⁽ᴵ⁾ * dg(r[t-1]) -\n",
    "                (r[t-1] - μₚ⁽ʳ⁾) / Σₚ⁽ʳ⁾\n",
    "\n",
    "        # Update value of r\n",
    "        r[t] = r[t-1] + Δt * dF_dr\n",
    "        # Update value of time\n",
    "        time[t] = time[t-1] + Δt\n",
    "    end # for\n",
    "\n",
    "    return r, time\n",
    "end # function"
   ]
  },
  {
   "cell_type": "markdown",
   "metadata": {},
   "source": [
    "Let us now compute the value of $r$ over time."
   ]
  },
  {
   "cell_type": "code",
   "execution_count": 76,
   "metadata": {},
   "outputs": [
    {
     "data": {
      "image/png": "[encoded data removed]"
     },
     "metadata": {},
     "output_type": "display_data"
    }
   ],
   "source": [
    "# Define parameters\n",
    "rₒ = 3\n",
    "I = 0.5\n",
    "Σₗ⁽ᴵ⁾ = 1\n",
    "μₚ⁽ʳ⁾ = 3\n",
    "Σₚ⁽ʳ⁾ = 1\n",
    "\n",
    "# Evaluate trajectory\n",
    "r_opt, time = r_opt_euler(\n",
    "    rₒ, I, Σₗ⁽ᴵ⁾, μₚ⁽ʳ⁾, Σₚ⁽ʳ⁾; n_steps=1_000, g=x -> log(x^2), dg=x -> 2 / x\n",
    ")\n",
    "# r_opt, time = r_opt_euler(\n",
    "#     rₒ, I, Σₗ⁽ᴵ⁾, μₚ⁽ʳ⁾, Σₚ⁽ʳ⁾; n_steps=1_000, g=x -> x^2, dg=x -> 2x\n",
    "# )\n",
    "\n",
    "# Initialize figure\n",
    "fig = Figure(resolution=(400, 300))\n",
    "\n",
    "# Add axis\n",
    "ax = Axis(\n",
    "    fig[1, 1],\n",
    "    xlabel=\"time\",\n",
    "    ylabel=\"object radius estimate\"\n",
    ")\n",
    "\n",
    "# Plot trajectory\n",
    "lines!(ax, time, r_opt)\n",
    "\n",
    "ylims!(ax, [0, 3])\n",
    "\n",
    "fig"
   ]
  },
  {
   "cell_type": "markdown",
   "metadata": {},
   "source": [
    "Let's compare the final value with the value of the full posterior distribution."
   ]
  },
  {
   "cell_type": "code",
   "execution_count": 77,
   "metadata": {},
   "outputs": [
    {
     "data": {
      "image/png": "[encoded data removed]"
     },
     "metadata": {},
     "output_type": "display_data"
    }
   ],
   "source": [
    "# Initialize figure\n",
    "fig = Figure(resolution=(400, 300))\n",
    "\n",
    "# Add axis\n",
    "ax = Axis(\n",
    "    fig[1, 1],\n",
    "    xlabel=\"object radius r\",\n",
    "    ylabel=\"probability density\"\n",
    ")\n",
    "\n",
    "# Plot posterior distribution\n",
    "lines!(\n",
    "    ax,\n",
    "    r,\n",
    "    π_posterior,\n",
    "    label=\"posterior π(r|I)\",\n",
    "    color=color_palette[:blue]\n",
    ")\n",
    "\n",
    "fill_between!(\n",
    "    ax,\n",
    "    r,\n",
    "    zeros(length(r)),\n",
    "    π_posterior,\n",
    "    label=\"posterior π(r|I)\",\n",
    "    color=(color_palette[:light_blue], 0.5)\n",
    ")\n",
    "\n",
    "# Add final value\n",
    "vlines!(\n",
    "    r_opt[end],\n",
    "    linestyle=:dash,\n",
    "    color=:black,\n",
    "    label=\"MAP estimate\"\n",
    ")\n",
    "\n",
    "# Add legend\n",
    "axislegend(ax, unique=true, merge=true)\n",
    "\n",
    "fig"
   ]
  },
  {
   "cell_type": "code",
   "execution_count": null,
   "metadata": {},
   "outputs": [],
   "source": []
  }
 ],
 "metadata": {
  "kernelspec": {
   "display_name": "Julia 1.9.3",
   "language": "julia",
   "name": "julia-1.9"
  },
  "language_info": {
   "file_extension": ".jl",
   "mimetype": "application/julia",
   "name": "julia",
   "version": "1.9.3"
  },
  "orig_nbformat": 4
 },
 "nbformat": 4,
 "nbformat_minor": 2
}
