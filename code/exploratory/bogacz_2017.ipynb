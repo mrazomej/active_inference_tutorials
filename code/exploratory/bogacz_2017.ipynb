{
 "cells": [
  {
   "cell_type": "markdown",
   "metadata": {},
   "source": [
    "(c) 2023 Manuel Razo. This work is licensed under a [Creative Commons\n",
    "Attribution License CC-BY 4.0](https://creativecommons.org/licenses/by/4.0/).\n",
    "All code contained herein is licensed under an [MIT\n",
    "license](https://opensource.org/licenses/MIT)."
   ]
  },
  {
   "cell_type": "code",
   "execution_count": 1,
   "metadata": {},
   "outputs": [],
   "source": [
    "@load_pkg ActiveInference\n",
    "# Import package to revise jlArchetype modules\n",
    "using Revise\n",
    "\n",
    "# Import project package\n",
    "import ActiveInference as AI\n",
    "\n",
    "# Import basic math\n",
    "import StatsBase\n",
    "import Distributions\n",
    "import Random\n",
    "\n",
    "# Load plotting-related packages\n",
    "using CairoMakie\n",
    "import ColorSchemes\n",
    "import Colors\n",
    "\n",
    "# Activate backend\n",
    "CairoMakie.activate!()\n",
    "\n",
    "# Set Plotting style\n",
    "AI.viz.theme_makie!()"
   ]
  },
  {
   "cell_type": "markdown",
   "metadata": {},
   "source": [
    "# A tutorial on the free-energy framework for modelling perception and learning"
   ]
  },
  {
   "cell_type": "markdown",
   "metadata": {},
   "source": [
    "This notebook accompanies a series of notes based on the [2017 paper by\n",
    "Bogacz](https://www.sciencedirect.com/science/article/pii/S0022249615000759)."
   ]
  },
  {
   "cell_type": "markdown",
   "metadata": {},
   "source": [
    "## Simplest example of perception"
   ]
  },
  {
   "cell_type": "markdown",
   "metadata": {},
   "source": [
    "Let us imagine an organism that is trying to determine the radius of an object\n",
    "$r$ based on the light intensity. We assume the organism has a receptor that\n",
    "gives a noisy readout of the **log** light intensity $I$. Let us then define\n",
    "$$\n",
    "g(r) = \\ln r^2 = 2 \\ln r,\n",
    "\\tag{1}\n",
    "$$\n",
    "be the non-linear function that relates the size of the object to the\n",
    "log-intensity.\n",
    "\n",
    "**Note**: *In the paper, the author uses only $g(r) = r^2$, but acknowledges that\n",
    "then using a Gaussian distribution is problematic as it can take negative\n",
    "values. Thus, I added the log to transform the variable.*\n",
    "\n",
    "\n",
    "Let us then assume that for an object of size $r$, the organism's noisy receptor\n",
    "gives a noisy readout of the form\n",
    "$$\n",
    "I \\mid r \\sim \\mathcal{N}\\left(g(r), \\Sigma_i \\right).\n",
    "\\tag{2}\n",
    "$$\n",
    "Given this level of noise, the organism uses prior knowledge---acquired by \n",
    "experience to encode its expectations on the size of the objects it perceives \n",
    "with this particular receptor. This prior is of the form\n",
    "$$\n",
    "r \\sim \\mathcal{N}\\left(\\left\\langle r_p \\right\\rangle, \\Sigma_p \\right),\n",
    "\\tag{3}\n",
    "$$\n",
    "where the subscript $p$ represents \"prior\" information. Given a measurement, the\n",
    "organism estimates the size of the object by computing Bayes' theorem\n",
    "$$\n",
    "\\pi(r \\mid I) = \\frac{\\pi(I \\mid r) \\pi(r)}{\\pi(I)},\n",
    "\\tag{4}\n",
    "$$\n",
    "where the technical problem comes from computing the denominator\n",
    "$$\n",
    "\\pi(I) = \\int dr\\; \\pi(I \\mid r) \\pi(r).\n",
    "\\tag{5}\n",
    "$$"
   ]
  },
  {
   "cell_type": "markdown",
   "metadata": {},
   "source": [
    "Let us now assume that the organism gets to read out from its receptor a single\n",
    "measurement:\n",
    "- $I = 2$.\n",
    "Furthermore, we assume the following parameters for the mean and variances:\n",
    "- $\\Sigma_i = 1$,\n",
    "- $\\left\\langle r_p \\right\\rangle = 3$,\n",
    "- $\\Sigma_p = 1$."
   ]
  },
  {
   "cell_type": "markdown",
   "metadata": {},
   "source": [
    "To be able to compute Eq. 4, we first need a way to compute the integral in\n",
    "Eq. 5. Let us define a function to compute this integral via a simple numerical\n",
    "quadrature. "
   ]
  },
  {
   "cell_type": "code",
   "execution_count": 3,
   "metadata": {},
   "outputs": [
    {
     "data": {
      "text/plain": [
       "quad_midpoint"
      ]
     },
     "metadata": {},
     "output_type": "display_data"
    }
   ],
   "source": [
    "@doc raw\"\"\"\n",
    "    quad_midpoint(f, a, b, N)\n",
    "\n",
    "Numerically integrates function `f` from `a` to `b` with `N` points.\n",
    "\n",
    "# Arguments\n",
    "- `f::function`: 1D-real-valued function to be integrated.\n",
    "- `a::Real`: Integration lower limit.\n",
    "- `b::Real`: Integration upper limit.\n",
    "- `N::Int`: Number of steps to take\n",
    "\"\"\"\n",
    "function quad_midpoint(f::Function, a::Real, b::Real, N::Int)\n",
    "    # Define width of each bin\n",
    "    h = (b - a) / N\n",
    "\n",
    "    # Initialize value of integral\n",
    "    int = 0.0\n",
    "\n",
    "    # Loop through steps\n",
    "    for k = 1:N\n",
    "        # Define mid point for k-th iteration\n",
    "        xₖ_mid = (b - a) * (2k - 1) / (2N) + a\n",
    "        # Add value of bin to integral.\n",
    "        int += h * f(xₖ_mid)\n",
    "    end # for\n",
    "\n",
    "    return int\n",
    "end # function"
   ]
  },
  {
   "cell_type": "markdown",
   "metadata": {},
   "source": [
    "Next, let us define a function to evaluate the posterior distribution we want\n",
    "to evaluate."
   ]
  },
  {
   "cell_type": "code",
   "execution_count": 39,
   "metadata": {},
   "outputs": [
    {
     "data": {
      "text/plain": [
       "π_r_I"
      ]
     },
     "metadata": {},
     "output_type": "display_data"
    }
   ],
   "source": [
    "@doc raw\"\"\"\n",
    " π_r_I\n",
    "\n",
    "Function to compute the posterior distribution π(r | I).\n",
    "\n",
    "# Arguments\n",
    "- `I::Real`: Value of the (log) intensity read by the detector.\n",
    "- `r::Vector{<:Real}`: Object radius over which to evaluate the posterior dist.\n",
    "- `Σᵣ::Real`: Value of the likelihood variance.\n",
    "- `r̄ₚ::Real`: Mean of the prior distribution of object radius size.\n",
    "- `Σₚ::Real`: Variance of the prior distribution of object radius size.\n",
    "\n",
    "## Optional Keyword Arguments\n",
    "- `g::Function`: Non-linear function mapping form radius to detector readout.\n",
    "- `N::Int`: Number of bins used to perform the integration for the evidence.\n",
    "  Default = 1000\n",
    "\"\"\"\n",
    "function π_r_I(\n",
    "    I::Real,\n",
    "    r::Vector{<:Real},\n",
    "    Σᵢ::Real,\n",
    "    r̄ₚ::Real,\n",
    "    Σₚ::Real;\n",
    "    g::Function=x -> log(x^2),\n",
    "    N::Int=1000\n",
    ")\n",
    "    # Define prior distribution\n",
    "    π_prior(r) = Distributions.pdf(Distributions.Normal(r̄ₚ, √(Σₚ)), r)\n",
    "    # Define likelihood distribution\n",
    "    π_likelihood(r) = Distributions.pdf(Distributions.Normal(g(I), √(Σᵢ)), r)\n",
    "    # Define funcitn to compute integral for evidence / marginal likelihood\n",
    "    π_evidence(r) = quad_midpoint(\n",
    "        x -> π_likelihood(x) * π_prior(x),\n",
    "        r[1],\n",
    "        r[end],\n",
    "        N\n",
    "    )\n",
    "    # Evaluate posterior for each value of r\n",
    "    return [π_prior(x) * π_likelihood(x) / π_evidence(r) for x in r]\n",
    "end # function"
   ]
  },
  {
   "cell_type": "markdown",
   "metadata": {},
   "source": [
    "Having defined the function, let's look at the posterior distribution."
   ]
  },
  {
   "cell_type": "code",
   "execution_count": 53,
   "metadata": {},
   "outputs": [
    {
     "data": {
      "image/png": "[encoded data removed]"
     },
     "metadata": {},
     "output_type": "display_data"
    }
   ],
   "source": [
    "# Define ranges of r to evaluate\n",
    "r = collect(LinRange(0, 7, 1000))\n",
    "\n",
    "# Define parameters\n",
    "I = 2\n",
    "Σᵢ = 1\n",
    "r̄ₚ = 3\n",
    "Σₚ = 1\n",
    "\n",
    "# Extract colors\n",
    "color_palette = AI.viz.colors()\n",
    "\n",
    "# Initialize figure\n",
    "fig = Figure(resolution=(400, 300))\n",
    "\n",
    "# Add axis\n",
    "ax = Axis(\n",
    "    fig[1, 1],\n",
    "    xlabel=\"object radius r\",\n",
    "    ylabel=\"probability density\"\n",
    ")\n",
    "\n",
    "# Plot prior distribution\n",
    "lines!(\n",
    "    ax,\n",
    "    r,\n",
    "    Distributions.pdf.(Ref(Distributions.Normal(r̄ₚ, Σₚ)), r),\n",
    "    label=\"prior π(r)\",\n",
    "    color=color_palette[:green]\n",
    ")\n",
    "fill_between!(\n",
    "    ax,\n",
    "    r,\n",
    "    zeros(length(r)),\n",
    "    Distributions.pdf.(Ref(Distributions.Normal(r̄ₚ, Σₚ)), r),\n",
    "    label=\"prior π(r)\",\n",
    "    color=(color_palette[:light_green], 0.5)\n",
    ")\n",
    "\n",
    "# Plot posterior distribution\n",
    "lines!(\n",
    "    ax,\n",
    "    r,\n",
    "    π_r_I(I, r, Σᵢ, r̄ₚ, Σₚ),\n",
    "    label=\"posterior π(r|I)\",\n",
    "    color=color_palette[:blue]\n",
    ")\n",
    "\n",
    "fill_between!(\n",
    "    ax,\n",
    "    r,\n",
    "    zeros(length(r)),\n",
    "    π_r_I(I, r, Σᵢ, r̄ₚ, Σₚ),\n",
    "    label=\"posterior π(r|I)\",\n",
    "    color=(color_palette[:light_blue], 0.5)\n",
    ")\n",
    "\n",
    "# Add legend\n",
    "axislegend(ax, unique=true, merge=true)\n",
    "\n",
    "fig"
   ]
  },
  {
   "cell_type": "code",
   "execution_count": null,
   "metadata": {},
   "outputs": [],
   "source": []
  }
 ],
 "metadata": {
  "kernelspec": {
   "display_name": "Julia 1.9.3",
   "language": "julia",
   "name": "julia-1.9"
  },
  "language_info": {
   "file_extension": ".jl",
   "mimetype": "application/julia",
   "name": "julia",
   "version": "1.9.3"
  },
  "orig_nbformat": 4
 },
 "nbformat": 4,
 "nbformat_minor": 2
}
