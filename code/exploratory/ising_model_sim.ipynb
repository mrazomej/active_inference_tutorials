{
 "cells": [
  {
   "cell_type": "markdown",
   "metadata": {},
   "source": [
    "(c) 2024 Manuel Razo. This work is licensed under a [Creative Commons\n",
    "Attribution License CC-BY 4.0](https://creativecommons.org/licenses/by/4.0/).\n",
    "All code contained herein is licensed under an [MIT\n",
    "license](https://opensource.org/licenses/MIT)."
   ]
  },
  {
   "cell_type": "code",
   "execution_count": 1,
   "metadata": {},
   "outputs": [],
   "source": [
    "# Import project package\n",
    "import ActiveInference as AI\n",
    "\n",
    "# Import basic math\n",
    "import StatsBase\n",
    "import Distributions\n",
    "import Random\n",
    "\n",
    "# Load plotting-related packages\n",
    "using CairoMakie\n",
    "import ColorSchemes\n",
    "import Colors\n",
    "\n",
    "# Activate backend\n",
    "CairoMakie.activate!()\n",
    "\n",
    "# Set Plotting style\n",
    "AI.viz.theme_makie!()"
   ]
  },
  {
   "cell_type": "markdown",
   "metadata": {},
   "source": [
    "# Ising models - Monte Carlo simulations"
   ]
  },
  {
   "cell_type": "markdown",
   "metadata": {},
   "source": [
    "This notebook accompanies a series of notes based on David MacKay's book\n",
    "chapters on the Ising model. In this notebook, we will explore the Ising model\n",
    "via Monte Carlo simulations."
   ]
  },
  {
   "cell_type": "markdown",
   "metadata": {},
   "source": [
    "## The Ising model"
   ]
  },
  {
   "cell_type": "markdown",
   "metadata": {},
   "source": [
    "Ising models are a simple model of ferromagnetism. The model consists of an\n",
    "array of spins that can be in one of two states, up or down (or +1 or -1). The\n",
    "spins are magnetically coupled to their neighbors with two possible types of\n",
    "couplings: \n",
    "- ferromagnetic (like spins want to align) or \n",
    "- antiferromagnetic (like spins want to anti-align).\n",
    "\n",
    "Let the state $\\underline{x}$ of an ising model with $N$ spins be a vector in\n",
    "which each element $x_n$ is the state of the $n$-th spin. If two spins are\n",
    "neighbors, we write $(m, n) \\in \\mathcal{N}$. The coupling energy for a pair of\n",
    "spins is defined as\n",
    "$$\n",
    "J_{mn} = \\begin{cases}\n",
    "J & \\text{if } (m, n) \\in \\mathcal{N}\\\\\n",
    "0 & \\text{otherwise}\n",
    "\\end{cases}.\n",
    "\\tag{1}\n",
    "$$\n",
    "The energy of any state $\\underline{x}$, also called the Hamiltonian, is defined\n",
    "as\n",
    "$$\n",
    "E(\\underline{x}; J, H) = - \\frac{1}{2} \\left[\n",
    "    \\sum_{m, n} J_{mn} x_m x_n + H \\sum_n x_n,\n",
    "\\right],\n",
    "\\tag{2}\n",
    "$$\n",
    "where $H$ is an externally applied field. If $J > 0$ the model is ferromagnetic,\n",
    "and if $J < 0$ the model is antiferromagnetic. The $1/2$ factor comes from the\n",
    "double counting of the energy of each pair of spins, once as $(m, n)$ and once\n",
    "as $(n, m)$. At equilibrium temperature $T$, the probability of a state\n",
    "$\\underline{x}$ is given by the Boltzmann distribution\n",
    "$$\n",
    "P(\\underline{x} \\mid \\beta, J, H) = \\frac{1}{\\mathcal{Z}} \\exp\\left(\n",
    "    -\\beta E(\\underline{x}; J, H)\n",
    "\\right),\n",
    "\\tag{3}\n",
    "$$\n",
    "where $\\beta = 1 / k_B T$ is the inverse temperature, and $\\mathcal{Z}$ is the\n",
    "partition function, defined as\n",
    "$$\n",
    "\\mathcal{Z} = \\sum_{\\underline{x}} \\exp\\left(\n",
    "    -\\beta E(\\underline{x}; J, H)\n",
    "\\right).\n",
    "\\tag{4}\n",
    "$$"
   ]
  },
  {
   "cell_type": "markdown",
   "metadata": {},
   "source": [
    "## Monte Carlo simulations"
   ]
  },
  {
   "cell_type": "markdown",
   "metadata": {},
   "source": [
    "### Gibbs sampling"
   ]
  },
  {
   "cell_type": "markdown",
   "metadata": {},
   "source": [
    "Let us study a two-dimensional planar Ising model with periodic boundary using a\n",
    "simple Gibbs sampling Monte Carlo simulation. The algorithm is as follows:\n",
    "\n",
    "1. Initialize the spins randomly.\n",
    "2. Select a spin $n$ at random.\n",
    "3. The probability of having spin $x_n = 1$ is should be given by the state of\n",
    "   the other spins and the temperature. This probability is computed as\n",
    "    $$\n",
    "    P(x_n = 1 \\mid b_n) = \\frac{1}{1 + \\exp(-2 \\beta b_n)},\n",
    "    \\tag{5}\n",
    "    $$\n",
    "    where $b_n$ is the local field acting on spin $n$, given by\n",
    "    $$\n",
    "    b_n = \\sum_{m \\in \\mathcal{N}_n} J_{mn} x_m + H.\n",
    "    \\tag{6}\n",
    "    $$\n",
    "    The factor of 2 appears because the states are ${\\pm 1}$ and not ${0, 1}$.\n",
    "4. Generate a random number $r$ between 0 and 1. If $r < P(x_n = 1 \\mid b_n)$,\n",
    "   set $x_n = 1$, otherwise set $x_n = -1$.\n",
    "5. Repeat steps 2-4 for a number of iterations.\n",
    "\n",
    "After enough iterations, the system will reach equilibrium."
   ]
  },
  {
   "cell_type": "markdown",
   "metadata": {},
   "source": [
    "#### Rectangular lattice"
   ]
  },
  {
   "cell_type": "markdown",
   "metadata": {},
   "source": [
    "For our simulation, we will consider a $L \\times L$ square lattice with periodic\n",
    "boundary conditions. Let's start by defining a function to compute the energy of\n",
    "a given state of this lattice."
   ]
  },
  {
   "cell_type": "code",
   "execution_count": 11,
   "metadata": {},
   "outputs": [
    {
     "data": {
      "text/plain": [
       "E_rectangular"
      ]
     },
     "metadata": {},
     "output_type": "display_data"
    }
   ],
   "source": [
    "\"\"\"\n",
    "    E_rectangular(x̲::Matrix, J::Number, H::Number)\n",
    "\n",
    "Compute the energy of a configuration in the Ising model on a rectangular\n",
    "lattice.\n",
    "\n",
    "# Arguments\n",
    "- `x̲::Matrix`: a matrix representing the spin configuration. Each element is +1\n",
    "  or -1.\n",
    "- `J`: the coupling constant. Positive for ferromagnetic coupling, negative for\n",
    "  antiferromagnetic.\n",
    "- `H`: the external magnetic field.\n",
    "\n",
    "# Returns\n",
    "- The energy of the configuration.\n",
    "\n",
    "# Notes\n",
    "- The function uses periodic boundary conditions.\n",
    "- The energy is computed as -J ∑ x̲[i, j] x̲[i', j'] - H ∑ x̲[i, j], where the\n",
    "  first sum is over all pairs of neighboring spins and the second sum is over\n",
    "  all spins.\n",
    "\"\"\"\n",
    "function E_rectangular(x̲::Matrix, J, H)\n",
    "    # Get the size of the spin configuration matrix\n",
    "    m, n = size(x̲)\n",
    "    # Initialize the energy to zero\n",
    "    energy = 0.0\n",
    "\n",
    "    # Compute the coupling energy between neighboring spins\n",
    "    for i in 1:m\n",
    "        for j in 1:n\n",
    "            # Apply periodic boundary conditions\n",
    "            # If i > 1, then im1 = i - 1, else im1 = m (the last row)\n",
    "            im1 = i > 1 ? i - 1 : m\n",
    "            # If i < m, then ip1 = i + 1, else ip1 = 1 (the first row)\n",
    "            ip1 = i < m ? i + 1 : 1\n",
    "            # If j > 1, then jm1 = j - 1, else jm1 = n (the last column)\n",
    "            jm1 = j > 1 ? j - 1 : n\n",
    "            # If j < n, then jp1 = j + 1, else jp1 = 1 (the first column)\n",
    "            jp1 = j < n ? j + 1 : 1\n",
    "\n",
    "            # Subtract the energy contribution from the neighbor below\n",
    "            energy -= J * x̲[i, j] * x̲[ip1, j]\n",
    "            # Subtract the energy contribution from the neighbor to the right\n",
    "            energy -= J * x̲[i, j] * x̲[i, jp1]\n",
    "        end # for j\n",
    "    end # for i\n",
    "\n",
    "    # Subtract the energy contribution from the external field\n",
    "    energy -= H * sum(x̲)\n",
    "\n",
    "    # Return the total energy\n",
    "    return energy\n",
    "end"
   ]
  },
  {
   "cell_type": "markdown",
   "metadata": {},
   "source": [
    "Next, we need to define a function to compute the local field acting on a spin."
   ]
  },
  {
   "cell_type": "code",
   "execution_count": 12,
   "metadata": {},
   "outputs": [
    {
     "data": {
      "text/plain": [
       "local_field_rectangular"
      ]
     },
     "metadata": {},
     "output_type": "display_data"
    }
   ],
   "source": [
    "\"\"\"\n",
    "    local_field_rectangular(n::Int, x̲::Matrix, J, H)\n",
    "\n",
    "Compute the local magnetic field at a given spin in the Ising model on a\n",
    "rectangular lattice.\n",
    "\n",
    "# Arguments\n",
    "- `n::Int`: the linear index of the spin.\n",
    "- `x̲::Matrix`: a matrix representing the spin configuration. Each element is +1\n",
    "  or -1.\n",
    "- `J`: the coupling constant. Positive for ferromagnetic coupling, negative for\n",
    "  antiferromagnetic.\n",
    "- `H`: the external magnetic field.\n",
    "\n",
    "# Returns\n",
    "- The local magnetic field at the spin.\n",
    "\n",
    "# Notes\n",
    "- The function uses periodic boundary conditions.\n",
    "- The local field is computed as J ∑ x̲[i', j'] + H, where the sum is over the\n",
    "  neighboring spins of the given spin.\n",
    "\"\"\"\n",
    "function local_field_rectangular(\n",
    "    n::Int, x̲::Matrix, J, H,\n",
    ")\n",
    "    # Get the size of the spin configuration matrix\n",
    "    m, n = size(x̲)\n",
    "\n",
    "    # Convert the linear index to row and column indices\n",
    "    i, j = Tuple(CartesianIndices(x̲)[n])\n",
    "\n",
    "    # Apply periodic boundary conditions\n",
    "    # If i > 1, then im1 = i - 1, else im1 = m (the last row)\n",
    "    im1 = i > 1 ? i - 1 : m\n",
    "    # If i < m, then ip1 = i + 1, else ip1 = 1 (the first row)\n",
    "    ip1 = i < m ? i + 1 : 1\n",
    "    # If j > 1, then jm1 = j - 1, else jm1 = n (the last column)\n",
    "    jm1 = j > 1 ? j - 1 : n\n",
    "    # If j < n, then jp1 = j + 1, else jp1 = 1 (the first column)\n",
    "    jp1 = j < n ? j + 1 : 1\n",
    "\n",
    "    # Compute the local field at the spin\n",
    "    # This is the sum of the spins of the neighboring spins, multiplied by the coupling constant, plus the external field\n",
    "    bₙ = J * (x̲[im1, j] + x̲[ip1, j] + x̲[i, jm1] + x̲[i, jp1]) + H\n",
    "\n",
    "    # Return the local field\n",
    "    return bₙ\n",
    "end"
   ]
  },
  {
   "cell_type": "markdown",
   "metadata": {},
   "source": [
    "With these two functions in hand, we can now define a function to perform the\n",
    "Gibbs sampling."
   ]
  },
  {
   "cell_type": "code",
   "execution_count": 15,
   "metadata": {},
   "outputs": [
    {
     "data": {
      "text/plain": [
       "gibbs_sampling!"
      ]
     },
     "metadata": {},
     "output_type": "display_data"
    }
   ],
   "source": [
    "\"\"\"\n",
    "    gibbs_sampling!(\n",
    "        x̲::Matrix{<:Number}, n_iter::Int; \n",
    "        J::Number=1, H::Number=0, β::Number=1, \n",
    "        local_field::Function=local_field_rectangular\n",
    "    )\n",
    "\n",
    "Perform Gibbs sampling on a spin configuration in the Ising model.\n",
    "\n",
    "# Arguments\n",
    "- `x̲::Matrix`: a matrix representing the initial spin configuration. Each\n",
    "  element is +1 or -1.\n",
    "- `n_iter::Int`: the number of iterations to perform.\n",
    "\n",
    "## Optional Keyword Arguments\n",
    "- `J::Number`: the coupling constant. Positive for ferromagnetic coupling,\n",
    "  negative for antiferromagnetic.\n",
    "- `H::Number`: the external magnetic field.\n",
    "- `β::Number`: the inverse temperature.\n",
    "- `local_field::Function`: a function that computes the local magnetic field at\n",
    "  a given spin.\n",
    "\n",
    "# Returns\n",
    "- The final spin configuration after `n_iter` iterations of Gibbs sampling.\n",
    "\n",
    "# Notes\n",
    "- The function modifies the input `x̲` in place.\n",
    "- The function uses the Gibbs sampling algorithm, which is a type of Markov\n",
    "  chain Monte Carlo (MCMC) algorithm.\n",
    "- The local field is computed using the `local_field` function, which should\n",
    "  take as arguments the linear index of the spin, the spin configuration matrix,\n",
    "  the coupling constant, and the external field.\n",
    "\"\"\"\n",
    "function gibbs_sampling!(\n",
    "    x̲::Matrix,\n",
    "    n_iter::Int;\n",
    "    J::Number=1,\n",
    "    H::Number=0,\n",
    "    β::Number=1,\n",
    "    local_field::Function=local_field_rectangular\n",
    ")\n",
    "    # Get the size of the spin configuration matrix\n",
    "    m, n = size(x̲)\n",
    "    # Compute the total number of spins\n",
    "    N = m * n\n",
    "\n",
    "    # Perform Gibbs sampling for `n_iter` iterations\n",
    "    for iter in 1:n_iter\n",
    "        # Select a random spin\n",
    "        spin_idx = rand(1:N)\n",
    "\n",
    "        # Compute the local field acting on the selected spin\n",
    "        b_n = local_field(spin_idx, x̲, J, H)\n",
    "\n",
    "        # Compute the probability of the spin being +1\n",
    "        # This is given by the logistic function of the local field, scaled by the inverse temperature\n",
    "        p_up = 1 / (1 + exp(-2 * β * b_n))\n",
    "\n",
    "        # Generate a random number\n",
    "        r = rand()\n",
    "\n",
    "        # Update the spin according to the generated number and the computed\n",
    "        # probability If the number is less than the probability, the spin is\n",
    "        # set to +1, otherwise it is set to -1\n",
    "        if r < p_up\n",
    "            x̲[spin_idx] = 1\n",
    "        else\n",
    "            x̲[spin_idx] = -1\n",
    "        end\n",
    "    end\n",
    "\n",
    "    # Return the final spin configuration\n",
    "    return x̲\n",
    "end"
   ]
  },
  {
   "cell_type": "markdown",
   "metadata": {},
   "source": [
    "Let's test the Gibbs sampling function by initializing a random state and\n",
    "running the Gibbs sampling for a few iterations."
   ]
  },
  {
   "cell_type": "code",
   "execution_count": 22,
   "metadata": {},
   "outputs": [
    {
     "data": {
      "text/plain": [
       "16×16 Matrix{Int8}:\n",
       " 1   1  1  1  1  1  1  1  -1  1  1  1  1  1  1  1\n",
       " 1  -1  1  1  1  1  1  1   1  1  1  1  1  1  1  1\n",
       " 1   1  1  1  1  1  1  1   1  1  1  1  1  1  1  1\n",
       " 1   1  1  1  1  1  1  1   1  1  1  1  1  1  1  1\n",
       " 1   1  1  1  1  1  1  1   1  1  1  1  1  1  1  1\n",
       " 1   1  1  1  1  1  1  1   1  1  1  1  1  1  1  1\n",
       " 1   1  1  1  1  1  1  1   1  1  1  1  1  1  1  1\n",
       " 1   1  1  1  1  1  1  1   1  1  1  1  1  1  1  1\n",
       " 1   1  1  1  1  1  1  1   1  1  1  1  1  1  1  1\n",
       " 1   1  1  1  1  1  1  1   1  1  1  1  1  1  1  1\n",
       " 1   1  1  1  1  1  1  1   1  1  1  1  1  1  1  1\n",
       " 1   1  1  1  1  1  1  1   1  1  1  1  1  1  1  1\n",
       " 1   1  1  1  1  1  1  1   1  1  1  1  1  1  1  1\n",
       " 1   1  1  1  1  1  1  1   1  1  1  1  1  1  1  1\n",
       " 1   1  1  1  1  1  1  1   1  1  1  1  1  1  1  1\n",
       " 1   1  1  1  1  1  1  1   1  1  1  1  1  1  1  1"
      ]
     },
     "metadata": {},
     "output_type": "display_data"
    }
   ],
   "source": [
    "Random.seed!(42)\n",
    "\n",
    "# Define latice size\n",
    "m, n = 16, 16\n",
    "# Define number of iterations\n",
    "n_iter = 1_000\n",
    "# Set initial state with random spins.\n",
    "# NOTE: We use Int8 for low memory usage.\n",
    "x_init = rand(Int8[-1, 1], m, n)\n",
    "\n",
    "# Copy the initial state to the current state\n",
    "x = deepcopy(x_init)\n",
    "\n",
    "# Perform Gibbs sampling\n",
    "gibbs_sampling!(x, n_iter)"
   ]
  },
  {
   "cell_type": "markdown",
   "metadata": {},
   "source": [
    "Let's show the initial and final states of the lattice."
   ]
  },
  {
   "cell_type": "code",
   "execution_count": 31,
   "metadata": {},
   "outputs": [
    {
     "data": {
      "image/png": "[encoded data removed]",
      "text/html": [
       "<img width=425 height=200 style='object-fit: contain; height: auto;' src=\"data:image/png;base64, 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\"/>"
      ]
     },
     "metadata": {},
     "output_type": "display_data"
    }
   ],
   "source": [
    "# Initialize figure\n",
    "fig = Figure(size=(425, 200))\n",
    "\n",
    "# Add global GridLayout\n",
    "gl = fig[1, 1] = GridLayout()\n",
    "\n",
    "# Add axes to the figure\n",
    "axes = [\n",
    "    Axis(gl[1, i], aspect=AxisAspect(1))\n",
    "    for i in 1:2\n",
    "]\n",
    "\n",
    "# Plot the initial state\n",
    "heatmap!(\n",
    "    axes[1],\n",
    "    x_init,\n",
    "    colormap=ColorSchemes.grays,\n",
    "    colorrange=(-1, 1),\n",
    "    showaxis=false,\n",
    "    showticks=false,\n",
    "    transpose=true,\n",
    ")\n",
    "\n",
    "# Set title\n",
    "axes[1].title = \"Initial State\"\n",
    "\n",
    "# Plot the final state\n",
    "heatmap!(\n",
    "    axes[2],\n",
    "    x,\n",
    "    colormap=ColorSchemes.grays,\n",
    "    colorrange=(-1, 1),\n",
    "    showaxis=false,\n",
    "    showticks=false,\n",
    "    transpose=true,\n",
    ")\n",
    "\n",
    "# Set title\n",
    "axes[2].title = \"Final State\"\n",
    "\n",
    "# Hide decorations\n",
    "hidedecorations!.(axes)\n",
    "\n",
    "# Add title to the figure\n",
    "Label(\n",
    "    gl[1, :, Top()],\n",
    "    \"β = 1\",\n",
    "    valign=:bottom,\n",
    "    font=:bold,\n",
    "    padding=(0, 0, 25, 0)\n",
    ")\n",
    "\n",
    "fig"
   ]
  },
  {
   "cell_type": "markdown",
   "metadata": {},
   "source": [
    "For this low temperature, the system is in a ferromagnetic phase, where the\n",
    "spins tend to align with each other. The initial random configuration evolves\n",
    "towards a more ordered state, with large domains of aligned spins.\n",
    "\n",
    "Let's now increase the temperature and see how the system behaves."
   ]
  },
  {
   "cell_type": "code",
   "execution_count": 32,
   "metadata": {},
   "outputs": [
    {
     "data": {
      "image/png": "[encoded data removed]",
      "text/html": [
       "<img width=425 height=200 style='object-fit: contain; height: auto;' src=\"data:image/png;base64, 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\"/>"
      ]
     },
     "metadata": {},
     "output_type": "display_data"
    }
   ],
   "source": [
    "Random.seed!(42)\n",
    "\n",
    "# Define inverse temperature\n",
    "β = 1 / 5\n",
    "# Define latice size\n",
    "m, n = 16, 16\n",
    "# Define number of iterations\n",
    "n_iter = 1_000\n",
    "# Set initial state with random spins.\n",
    "# NOTE: We use Int8 for low memory usage.\n",
    "x_init = rand(Int8[-1, 1], m, n)\n",
    "\n",
    "# Copy the initial state to the current state\n",
    "x = deepcopy(x_init)\n",
    "\n",
    "# Perform Gibbs sampling\n",
    "gibbs_sampling!(x, n_iter; β=β)\n",
    "\n",
    "# Initialize figure\n",
    "fig = Figure(size=(425, 200))\n",
    "\n",
    "# Add global GridLayout\n",
    "gl = fig[1, 1] = GridLayout()\n",
    "\n",
    "# Add axes to the figure\n",
    "axes = [\n",
    "    Axis(gl[1, i], aspect=AxisAspect(1))\n",
    "    for i in 1:2\n",
    "]\n",
    "\n",
    "# Plot the initial state\n",
    "heatmap!(\n",
    "    axes[1],\n",
    "    x_init,\n",
    "    colormap=ColorSchemes.grays,\n",
    "    colorrange=(-1, 1),\n",
    "    showaxis=false,\n",
    "    showticks=false,\n",
    "    transpose=true,\n",
    ")\n",
    "\n",
    "# Set title\n",
    "axes[1].title = \"Initial State\"\n",
    "\n",
    "# Plot the final state\n",
    "heatmap!(\n",
    "    axes[2],\n",
    "    x,\n",
    "    colormap=ColorSchemes.grays,\n",
    "    colorrange=(-1, 1),\n",
    "    showaxis=false,\n",
    "    showticks=false,\n",
    "    transpose=true,\n",
    ")\n",
    "\n",
    "# Set title\n",
    "axes[2].title = \"Final State\"\n",
    "\n",
    "# Hide decorations\n",
    "hidedecorations!.(axes)\n",
    "\n",
    "# Add title to the figure\n",
    "Label(\n",
    "    gl[1, :, Top()],\n",
    "    \"β = $(round(β, digits=2))\",\n",
    "    valign=:bottom,\n",
    "    font=:bold,\n",
    "    padding=(0, 0, 25, 0)\n",
    ")\n",
    "\n",
    "fig"
   ]
  },
  {
   "cell_type": "markdown",
   "metadata": {},
   "source": [
    "As expected, at higher temperatures (lower β), the spins are more likely to flip, leading to a more disordered state."
   ]
  }
 ],
 "metadata": {
  "kernelspec": {
   "display_name": "Julia 1.10.2",
   "language": "julia",
   "name": "julia-1.10"
  },
  "language_info": {
   "file_extension": ".jl",
   "mimetype": "application/julia",
   "name": "julia",
   "version": "1.10.2"
  }
 },
 "nbformat": 4,
 "nbformat_minor": 2
}
